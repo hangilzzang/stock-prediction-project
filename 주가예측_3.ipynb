{
  "nbformat": 4,
  "nbformat_minor": 0,
  "metadata": {
    "colab": {
      "provenance": [],
      "collapsed_sections": [
        "C0MHgIFpGShg",
        "1qMJs1j1u5C6",
        "eNg0_yOGsvFf",
        "A9-HM-smuezN",
        "dC8gNhTRvQ9P",
        "-x2OVM9wali-",
        "W_u4bj-6CvOJ",
        "6LTGE3_7DiL0",
        "ANlhV4IrEiFs",
        "ILveZ1gzDVkT",
        "3cG_Fw3dpT6y",
        "-NKW-ef9mGrK"
      ]
    },
    "kernelspec": {
      "name": "python3",
      "display_name": "Python 3"
    },
    "language_info": {
      "name": "python"
    },
    "gpuClass": "premium"
  },
  "cells": [
    {
      "cell_type": "markdown",
      "source": [
        "램용량을 확인해주세요"
      ],
      "metadata": {
        "id": "KItWHbP8iE__"
      }
    },
    {
      "cell_type": "code",
      "source": [
        "from psutil import virtual_memory\n",
        "ram_gb = virtual_memory().total / 1e9\n",
        "print('Your runtime has {:.1f} gigabytes of available RAM\\n'.format(ram_gb))\n",
        "\n",
        "if ram_gb < 20:\n",
        "  print('Not using a high-RAM runtime')\n",
        "else:\n",
        "  print('You are using a high-RAM runtime!')"
      ],
      "metadata": {
        "colab": {
          "base_uri": "https://localhost:8080/"
        },
        "id": "SQj26gPiiEAJ",
        "outputId": "6d11f865-f3d1-4240-87d9-3599b229383c"
      },
      "execution_count": 1,
      "outputs": [
        {
          "output_type": "stream",
          "name": "stdout",
          "text": [
            "Your runtime has 89.6 gigabytes of available RAM\n",
            "\n",
            "You are using a high-RAM runtime!\n"
          ]
        }
      ]
    },
    {
      "cell_type": "markdown",
      "source": [
        "#필요모듈 설치"
      ],
      "metadata": {
        "id": "C0MHgIFpGShg"
      }
    },
    {
      "cell_type": "code",
      "source": [
        "# 모듈 import\n",
        "import gc\n",
        "from IPython.display import clear_output \n",
        "!pip install yfinance\n",
        "!pip install finance-datareader\n",
        "import pandas as pd\n",
        "import numpy as np\n",
        "import matplotlib.pyplot as plt\n",
        "import seaborn as sns\n",
        "import yfinance as yf\n",
        "!pip install pykrx\n",
        "from pykrx import stock\n",
        "from pykrx import bond\n",
        "from tqdm import tqdm\n",
        "import dask.dataframe as dd\n",
        "import FinanceDataReader as fdr\n",
        "import pickle\n",
        "pd.set_option('display.max_rows', None) # 데이터프레임 출력 전부다\n",
        "pd.set_option('display.max_columns', None)\n",
        "#####################################################\n",
        "from sklearn.datasets import make_classification\n",
        "from sklearn.feature_selection import RFE, RFECV\n",
        "import matplotlib.pyplot as plt\n",
        "from sklearn.metrics import recall_score, accuracy_score, f1_score, precision_score,mean_absolute_error, mean_squared_error\n",
        "from sklearn.model_selection import StratifiedKFold\n",
        "import lightgbm as ltb\n",
        "from sklearn.ensemble import RandomForestClassifier\n",
        "from xgboost import XGBClassifier\n",
        "######################################################\n",
        "from keras.models import Sequential\n",
        "from keras.layers import Dense\n",
        "from keras import models, layers  \n",
        "from keras.callbacks import EarlyStopping, ModelCheckpoint\n",
        "from sklearn.model_selection import train_test_split\n",
        "import os\n",
        "from sklearn.preprocessing import MinMaxScaler\n",
        "from tqdm import tqdm\n",
        "from keras.layers import LSTM\n",
        "\n",
        "clear_output()"
      ],
      "metadata": {
        "id": "rwiiwKiJGWT8"
      },
      "execution_count": 2,
      "outputs": []
    },
    {
      "cell_type": "markdown",
      "source": [
        "# 데이터셋만들기\n"
      ],
      "metadata": {
        "id": "K2afmHNyspFI"
      }
    },
    {
      "cell_type": "markdown",
      "source": [
        "## 티커가져오기"
      ],
      "metadata": {
        "id": "1qMJs1j1u5C6"
      }
    },
    {
      "cell_type": "code",
      "source": [
        "tickers = stock.get_market_ticker_list(\"20221028\", market=\"KOSPI\")"
      ],
      "metadata": {
        "id": "DZgl3qmff7Oo"
      },
      "execution_count": null,
      "outputs": []
    },
    {
      "cell_type": "code",
      "source": [
        "len(tickers)"
      ],
      "metadata": {
        "colab": {
          "base_uri": "https://localhost:8080/"
        },
        "id": "cIy7JzaXgGqK",
        "outputId": "6a81f853-75ba-44fc-9e6c-6e987320a343"
      },
      "execution_count": null,
      "outputs": [
        {
          "output_type": "execute_result",
          "data": {
            "text/plain": [
              "940"
            ]
          },
          "metadata": {},
          "execution_count": 4
        }
      ]
    },
    {
      "cell_type": "markdown",
      "source": [
        "## 함수"
      ],
      "metadata": {
        "id": "eNg0_yOGsvFf"
      }
    },
    {
      "cell_type": "code",
      "source": [
        "def get_adx(high, low, close, lookback):\n",
        "    plus_dm = high.diff()\n",
        "    minus_dm = low.diff()\n",
        "    plus_dm[plus_dm < 0] = 0\n",
        "    minus_dm[minus_dm > 0] = 0\n",
        "    \n",
        "    tr1 = pd.DataFrame(high - low)\n",
        "    tr2 = pd.DataFrame(abs(high - close.shift(1)))\n",
        "    tr3 = pd.DataFrame(abs(low - close.shift(1)))\n",
        "    frames = [tr1, tr2, tr3]\n",
        "    tr = pd.concat(frames, axis = 1, join = 'inner').max(axis = 1)\n",
        "    atr = tr.rolling(lookback).mean()\n",
        "    \n",
        "    plus_di = 100 * (plus_dm.ewm(alpha = 1/lookback).mean() / atr)\n",
        "    minus_di = abs(100 * (minus_dm.ewm(alpha = 1/lookback).mean() / atr))\n",
        "    dx = (abs(plus_di - minus_di) / abs(plus_di + minus_di)) * 100\n",
        "    adx = ((dx.shift(1) * (lookback - 1)) + dx) / lookback\n",
        "    adx_smooth = adx.ewm(alpha = 1/lookback).mean()\n",
        "    return plus_di, minus_di, adx_smooth"
      ],
      "metadata": {
        "id": "VZyjwndwswJC"
      },
      "execution_count": null,
      "outputs": []
    },
    {
      "cell_type": "code",
      "source": [
        "def computeRSI (data, time_window):\n",
        "    diff = data.diff(1).dropna()        # diff in one field(one day)\n",
        "\n",
        "    #this preservers dimensions off diff values\n",
        "    up_chg = 0 * diff\n",
        "    down_chg = 0 * diff\n",
        "    \n",
        "    # up change is equal to the positive difference, otherwise equal to zero\n",
        "    up_chg[diff > 0] = diff[ diff>0 ]\n",
        "    \n",
        "    # down change is equal to negative deifference, otherwise equal to zero\n",
        "    down_chg[diff < 0] = diff[ diff < 0 ]\n",
        "    \n",
        "    # check pandas documentation for ewm\n",
        "    # https://pandas.pydata.org/pandas-docs/stable/reference/api/pandas.DataFrame.ewm.html\n",
        "    # values are related to exponential decay\n",
        "    # we set com=time_window-1 so we get decay alpha=1/time_window\n",
        "    up_chg_avg   = up_chg.ewm(com=time_window-1 , min_periods=time_window).mean()\n",
        "    down_chg_avg = down_chg.ewm(com=time_window-1 , min_periods=time_window).mean()\n",
        "    \n",
        "    rs = abs(up_chg_avg/down_chg_avg)\n",
        "    rsi = 100 - 100/(1+rs)\n",
        "    return rsi"
      ],
      "metadata": {
        "id": "oHmPZaNds0lA"
      },
      "execution_count": null,
      "outputs": []
    },
    {
      "cell_type": "code",
      "source": [
        "def stochastic(data, k_window, d_window, window):\n",
        "    \n",
        "    # input to function is one column from df\n",
        "    # containing closing price or whatever value we want to extract K and D from\n",
        "    \n",
        "    min_val  = data.rolling(window=window, center=False).min()\n",
        "    max_val = data.rolling(window=window, center=False).max()\n",
        "    \n",
        "    stoch = ( (data - min_val) / (max_val - min_val) ) * 100\n",
        "    \n",
        "    K = stoch.rolling(window=k_window, center=False).mean() \n",
        "    #K = stoch\n",
        "    \n",
        "    D = K.rolling(window=d_window, center=False).mean() \n",
        "\n",
        "\n",
        "    return K, D"
      ],
      "metadata": {
        "id": "p4cV2lyKs2xY"
      },
      "execution_count": null,
      "outputs": []
    },
    {
      "cell_type": "code",
      "source": [
        "def CCI(df):\n",
        "    df['pt'] = (df['High']+df['Low']+df['Close'])/3\n",
        "    df['sma'] = df['pt'].rolling(20).mean()\n",
        "    df['mad']=df['pt'].rolling(20).apply(lambda x: pd.Series(x).mad())\n",
        "    df['CCI'] = (df['pt'] - df['sma']) / (0.015 * df['mad'])\n",
        "    return df"
      ],
      "metadata": {
        "id": "tss8SgXks5B-"
      },
      "execution_count": null,
      "outputs": []
    },
    {
      "cell_type": "code",
      "source": [
        "def gain(x):\n",
        "    return ((x > 0) * x).sum()\n",
        "\n",
        "\n",
        "def loss(x):\n",
        "    return ((x < 0) * x).sum()\n",
        "\n",
        "\n",
        "def mfi(high, low, close, volume, n=14):\n",
        "    typical_price = (high + low + close)/3\n",
        "    money_flow = typical_price * volume\n",
        "    mf_sign = np.where(typical_price > typical_price.shift(1), 1, -1)\n",
        "    signed_mf = money_flow * mf_sign\n",
        "    mf_avg_gain = signed_mf.rolling(n).apply(gain, raw=True)\n",
        "    mf_avg_loss = signed_mf.rolling(n).apply(loss, raw=True)\n",
        "    return (100 - (100 / (1 + (mf_avg_gain / abs(mf_avg_loss))))).to_numpy()"
      ],
      "metadata": {
        "id": "g8AuQCCos6vE"
      },
      "execution_count": null,
      "outputs": []
    },
    {
      "cell_type": "code",
      "source": [
        "def computeMACD (df, n_fast, n_slow, n_smooth):\n",
        "    data = df['Close']\n",
        "    \n",
        "    fastEMA = data.ewm(span=n_fast, min_periods=n_slow).mean()\n",
        "    slowEMA = data.ewm(span=n_slow, min_periods=n_slow).mean()\n",
        "    MACD = pd.Series(fastEMA-slowEMA, name = 'MACD')\n",
        "    MACDsig = pd.Series(MACD.ewm(span=n_smooth, min_periods=n_smooth).mean(), name='MACDsig')\n",
        "    MACDhist = pd.Series(MACD - MACDsig, name = 'MACDhist')\n",
        "    df = df.join(MACD)\n",
        "    df = df.join(MACDsig)\n",
        "    df = df.join(MACDhist)\n",
        "    \n",
        "    return df"
      ],
      "metadata": {
        "id": "wigvl1-Vs8ic"
      },
      "execution_count": null,
      "outputs": []
    },
    {
      "cell_type": "code",
      "source": [
        "def reduce_mem_usage(df):\n",
        "    \"\"\" iterate through all the columns of a dataframe and modify the data type\n",
        "        to reduce memory usage.        \n",
        "    \"\"\"\n",
        "    start_mem = df.memory_usage().sum() / 1024**2\n",
        "    print('Memory usage of dataframe is {:.2f} MB'.format(start_mem))\n",
        "\n",
        "    for col in df.columns:\n",
        "        col_type = df[col].dtype\n",
        "\n",
        "        if col_type != object:\n",
        "            c_min = df[col].min()\n",
        "            c_max = df[col].max()\n",
        "            if str(col_type)[:3] == 'int':\n",
        "                if c_min > np.iinfo(np.int8).min and c_max < np.iinfo(np.int8).max:\n",
        "                    df[col] = df[col].astype(np.int8)\n",
        "                elif c_min > np.iinfo(np.int16).min and c_max < np.iinfo(np.int16).max:\n",
        "                    df[col] = df[col].astype(np.int16)\n",
        "                elif c_min > np.iinfo(np.int32).min and c_max < np.iinfo(np.int32).max:\n",
        "                    df[col] = df[col].astype(np.int32)\n",
        "                elif c_min > np.iinfo(np.int64).min and c_max < np.iinfo(np.int64).max:\n",
        "                    df[col] = df[col].astype(np.int64)  \n",
        "            else:\n",
        "                if c_min > np.finfo(np.float16).min and c_max < np.finfo(np.float16).max:\n",
        "                    df[col] = df[col].astype(np.float16)\n",
        "                elif c_min > np.finfo(np.float32).min and c_max < np.finfo(np.float32).max:\n",
        "                    df[col] = df[col].astype(np.float32)\n",
        "                else:\n",
        "                    df[col] = df[col].astype(np.float64)\n",
        "\n",
        "    end_mem = df.memory_usage().sum() / 1024**2\n",
        "    print('Memory usage after optimization is: {:.2f} MB'.format(end_mem))\n",
        "    print('Decreased by {:.1f}%'.format(100 * (start_mem - end_mem) / start_mem))\n",
        "\n",
        "    return df"
      ],
      "metadata": {
        "id": "6KzDFy1FFBTa"
      },
      "execution_count": null,
      "outputs": []
    },
    {
      "cell_type": "markdown",
      "source": [
        "## 종목별 OHLCV 데이터 수집"
      ],
      "metadata": {
        "id": "A9-HM-smuezN"
      }
    },
    {
      "cell_type": "code",
      "source": [
        "from tqdm import tqdm\n",
        "for k in tqdm(range(len(tickers))):\n",
        "# for k in tqdm(range(1)):\n",
        "    i=tickers[k]\n",
        "    df = yf.download(tickers=f'{i}.KS')# 며칠때까지를 학습으로 이용할것인가\n",
        "    df = df.rename_axis('Date').reset_index()\n",
        "    # Date 통일화\n",
        "    df['Date']=df['Date'].astype(str)\n",
        "    df['plus']=' 00:00:00+09:00'\n",
        "    df['Date']=df['Date']+df['plus']\n",
        "    df = df.drop(['plus'], axis=1)    \n",
        "    \n",
        "    # # 섹터컬럼 추가\n",
        "    # a=df_krx.loc[df_krx['Symbol']==i, 'Sector'].values[0]\n",
        "    # df['Sector']=a\n",
        "    df['Symbol']=i\n",
        "\n",
        "    # 이격도 구하기\n",
        "    df['ma7'] = df['Close'].rolling(7).mean()\n",
        "    df['ma25'] = df['Close'].rolling(25).mean()\n",
        "    df['ma99'] = df['Close'].rolling(99).mean()\n",
        "    df['ma5'] = df['Close'].rolling(5).mean()\n",
        "    df['ma10'] = df['Close'].rolling(10).mean()\n",
        "    df['ma20'] = df['Close'].rolling(20).mean()\n",
        "    df['ma60'] = df['Close'].rolling(60).mean()\n",
        "    df['ma120'] = df['Close'].rolling(120).mean()\n",
        "    df['ma50'] = df['Close'].rolling(50).mean()\n",
        "    df['ma100'] = df['Close'].rolling(100).mean()\n",
        "    df['ma200'] = df['Close'].rolling(200).mean()\n",
        "    df['max14'] = df['High'].rolling(14).max()\n",
        "    df['min14'] = df['Low'].rolling(14).min()\n",
        "    df['highest_high'] = df['High'].rolling(20).max().shift(-20)\n",
        "    df['lowest_low'] = df['Low'].rolling(20).min().shift(-20)\n",
        "    df['after20'] = df['Close'].shift(-20)\n",
        "    df['highest_high_past'] = df['High'].rolling(20).max()\n",
        "    df['lowest_low_past'] = df['Low'].rolling(20).min()\n",
        "    \n",
        "    \n",
        "    df['dp7'] = df['Close']/df['ma7']\n",
        "    df['dp25'] = df['Close']/df['ma25']\n",
        "    df['dp99'] = df['Close']/df['ma99']\n",
        "    df['dp5'] = df['Close']/df['ma5']\n",
        "    df['dp10'] = df['Close']/df['ma10']\n",
        "    df['dp20'] = df['Close']/df['ma20']\n",
        "    df['dp60'] = df['Close']/df['ma60']\n",
        "    df['dp120'] = df['Close']/df['ma120']\n",
        "    df['dp50'] = df['Close']/df['ma50']\n",
        "    df['dp100'] = df['Close']/df['ma100']\n",
        "    df['dp200'] = df['Close']/df['ma200']  \n",
        "\n",
        "    # 보조지표값 구하기\n",
        "\n",
        "    df['stddev'] = df['Close'].rolling(window=20).std() # 20일 이동표준편차\n",
        "    df['upper'] = df['ma20'] + 2*df['stddev'] # 상단밴드\n",
        "    df['lower'] = df['ma20'] - 2*df['stddev'] # 하단밴드\n",
        "    df['PB'] = (df['Close'] - df['lower']) / (df['upper'] - df['lower'])\n",
        "    df['W%R'] = (df['max14']-df['Close'])/((df['max14']-df['min14'])*-100)\n",
        "    \n",
        "    df['plus_di'] = pd.DataFrame(get_adx(df['High'], df['Low'], df['Close'], 14)[0]).rename(columns = {0:'plus_di'})\n",
        "    df['minus_di'] = pd.DataFrame(get_adx(df['High'], df['Low'], df['Close'], 14)[1]).rename(columns = {0:'minus_di'})\n",
        "    df['adx'] = pd.DataFrame(get_adx(df['High'], df['Low'], df['Close'], 14)[2]).rename(columns = {0:'adx'})  \n",
        "\n",
        "    df['RSI'] = computeRSI(df['Close'], 14)\n",
        "\n",
        "    df['K'], df['D'] = stochastic(df['RSI'], 3, 3, 14)\n",
        "\n",
        "    df= computeMACD(df, 12, 26, 9)\n",
        "\n",
        "    df = CCI(df)\n",
        "\n",
        "    # df['MFI'] = mfi(df['High'], df['Low'], df['Close'], df['Volume'], 14)\n",
        "\n",
        "    # 변화량 컬럼 만들기\n",
        "    lendf=len(df)-2\n",
        "    day_after=df.shift(-1)\n",
        "    day_after=day_after.iloc[1:lendf,:]\n",
        "    yesterday=df.shift(1)\n",
        "    yesterday=yesterday.iloc[1:lendf,:]\n",
        "    df=df.iloc[1:lendf,:]\n",
        "\n",
        "    yesterday = yesterday.reset_index(drop=True)\n",
        "    day_after = day_after.reset_index(drop=True)\n",
        "    df = df.reset_index(drop=True)\n",
        "    \n",
        "    for sanz in ['Open', 'High','Low','Close']:\n",
        "        df[f'{sanz}_change']=(df[sanz]-yesterday[sanz])/yesterday[sanz]\n",
        "    \n",
        "    df['after20_rate']= (df['after20']-day_after['Open']) / day_after['Open']\n",
        "    df['lowest_low_rate']= (df['lowest_low']-day_after['Open']) / day_after['Open']\n",
        "    df['highest_high_rate']= (df['highest_high']-day_after['Open']) / day_after['Open']\n",
        "    \n",
        "\n",
        "    div_size=20\n",
        "    aaa=['plus_di', 'minus_di', 'adx', 'RSI', 'K', 'D', 'MACD', 'MACDsig', 'MACDhist', 'CCI', 'MFI']\n",
        "    for j in aaa:\n",
        "        ok=pd.Series([np.nan]*(div_size-1))\n",
        "        ok2=df.loc[df['High'].rolling(div_size).apply(lambda x: x.idxmax())[(div_size-1):], j]\n",
        "        seri_concat = pd.concat([ok, ok2], ignore_index=True)\n",
        "        df[f'High_{j}']=seri_concat\n",
        "\n",
        "        ok2=df.loc[df['Low'].rolling(div_size).apply(lambda x: x.idxmin())[(div_size-1):], j]\n",
        "        seri_concat = pd.concat([ok, ok2], ignore_index=True)\n",
        "        df[f'Low_{j}']=seri_concat\n",
        "\n",
        "##########################\n",
        "    df=df.dropna(axis=0) \n",
        "#########################\n",
        "\n",
        "    for sanz in ['Volume','plus_di','minus_di','adx','RSI','K','D','MACD','MACDsig','MACDhist','CCI','MFI','PB','W%R']:\n",
        "        df[f'{sanz}_change']=(df[sanz]-yesterday[sanz])/yesterday[sanz]\n",
        "##########################\n",
        "    df = df.fillna(0)\n",
        "##########################\n",
        "    # 히든 다이버전스\n",
        "    aaa=['plus_di', 'minus_di', 'adx', 'RSI', 'K', 'D', 'MACD', 'MACDsig', 'MACDhist', 'CCI', 'MFI']\n",
        "    for j in aaa:\n",
        "        df[f'{j}_updiv'] = 0\n",
        "        df.loc[  ((df['lowest_low_past']-df['Low']) < 0  ) & ( df[f'Low_{j}'] - df[j] > 0) , f'{j}_updiv']= 1\n",
        "        \n",
        "        df[f'{j}_downdiv'] = 0\n",
        "        df.loc[ ((df['highest_high_past']-df['High']) > 0  ) & ( df[f'High_{j}'] - df[j] < 0) , f'{j}_downdiv']= 1\n",
        "\n",
        "\n",
        "    # 레이블만들기\n",
        "    df['tomorrow_pred']=(day_after['Close']-day_after['Open'])/day_after['Open']    \n",
        "\n",
        "    df['long_short']=0\n",
        "    df.loc[df['tomorrow_pred']>0, 'long_short']=1   \n",
        "\n",
        "    df['swing']=0\n",
        "    df.loc[ (df['highest_high_rate']>=0.1) & (df['lowest_low_rate']>-0.05), 'swing']=1\n",
        "    \n",
        "\n",
        "\n",
        "\n",
        "\n",
        "\n",
        "    # 사용할 컬럼 고르기\n",
        "    df=df.loc[:,['Date','Symbol','dp7','dp25','dp99','dp5','dp10','dp20','dp60','dp120','dp50','dp100','dp200','plus_di','minus_di','adx','RSI','K','D','CCI','MFI','W%R','PB','Open_change','High_change','Low_change','Close_change','Volume_change','plus_di_change', 'minus_di_change', 'adx_change', 'RSI_change','K_change','D_change','MACD_change','MACDsig_change','MACDhist_change','CCI_change','MFI_change','PB_change','W%R_change', 'swing', 'highest_high_rate', 'lowest_low_rate', 'after20_rate', 'tomorrow_pred','long_short', 'plus_di_updiv', 'minus_di_updiv', 'adx_updiv', 'RSI_updiv', 'K_updiv', 'D_updiv', 'MACD_updiv', 'MACDsig_updiv', 'MACDhist_updiv', 'CCI_updiv', 'MFI_updiv','plus_di_downdiv', 'minus_di_downdiv', 'adx_downdiv', 'RSI_downdiv', 'K_downdiv', 'D_downdiv', 'MACD_downdiv', 'MACDsig_downdiv', 'MACDhist_downdiv', 'CCI_downdiv', 'MFI_downdiv']]\n",
        "\n",
        "    if k==0:\n",
        "        data=df\n",
        "    else:\n",
        "        data=pd.concat([data, df])\n",
        "    \n",
        "# 빈칸채우기\n",
        "data = data.reset_index(drop=True)\n",
        "clear_output()\n",
        "print('done')"
      ],
      "metadata": {
        "id": "u6sQnkRTvHdm",
        "colab": {
          "base_uri": "https://localhost:8080/"
        },
        "outputId": "4ff15106-464e-4201-9dab-0e3ae96d05fd"
      },
      "execution_count": null,
      "outputs": [
        {
          "output_type": "stream",
          "name": "stdout",
          "text": [
            "done\n"
          ]
        }
      ]
    },
    {
      "cell_type": "code",
      "source": [
        "sns.countplot(x=\"long_short\", data=data)"
      ],
      "metadata": {
        "id": "N4itmdE3H0wH",
        "colab": {
          "base_uri": "https://localhost:8080/",
          "height": 311
        },
        "outputId": "05c24747-1ce7-47e4-f6dc-851b98a85cab"
      },
      "execution_count": null,
      "outputs": [
        {
          "output_type": "execute_result",
          "data": {
            "text/plain": [
              "<matplotlib.axes._subplots.AxesSubplot at 0x7fa1efd05110>"
            ]
          },
          "metadata": {},
          "execution_count": 21
        },
        {
          "output_type": "stream",
          "name": "stderr",
          "text": [
            "WARNING:matplotlib.font_manager:findfont: Font family ['NanumBarunGothic'] not found. Falling back to DejaVu Sans.\n"
          ]
        },
        {
          "output_type": "display_data",
          "data": {
            "text/plain": [
              "<Figure size 432x288 with 1 Axes>"
            ],
            "image/png": "[encoded data removed]"
          },
          "metadata": {
            "needs_background": "light"
          }
        }
      ]
    },
    {
      "cell_type": "code",
      "source": [
        "sns.countplot(x=\"swing\", data=data)"
      ],
      "metadata": {
        "colab": {
          "base_uri": "https://localhost:8080/",
          "height": 310
        },
        "id": "oDjN9W_wDato",
        "outputId": "3552e5c8-ef87-465e-8711-aaf975db08b1"
      },
      "execution_count": null,
      "outputs": [
        {
          "output_type": "execute_result",
          "data": {
            "text/plain": [
              "<matplotlib.axes._subplots.AxesSubplot at 0x7fa14ba7b890>"
            ]
          },
          "metadata": {},
          "execution_count": 22
        },
        {
          "output_type": "display_data",
          "data": {
            "text/plain": [
              "<Figure size 432x288 with 1 Axes>"
            ],
            "image/png": "[encoded data removed]"
          },
          "metadata": {
            "needs_background": "light"
          }
        }
      ]
    },
    {
      "cell_type": "markdown",
      "source": [
        "데이터 보내기"
      ],
      "metadata": {
        "id": "TRsaJpk-QhMi"
      }
    },
    {
      "cell_type": "code",
      "source": [
        "# 데이터 저장\n",
        "data.to_pickle('/content/drive/MyDrive/ColabNotebooks/개인프로젝트/비트코인 /longshort_0.csv')"
      ],
      "metadata": {
        "id": "wsJPq1vEwZ1o"
      },
      "execution_count": null,
      "outputs": []
    },
    {
      "cell_type": "markdown",
      "source": [
        "##종목별 펀디멘탈 데이터 추가"
      ],
      "metadata": {
        "id": "dC8gNhTRvQ9P"
      }
    },
    {
      "cell_type": "code",
      "source": [
        "# data=pd.read_csv('/content/drive/MyDrive/ColabNotebooks/개인프로젝트/비트코인 /longshort_0.csv')\n",
        "# data = dd.read_csv('/content/drive/MyDrive/ColabNotebooks/개인프로젝트/비트코인 /longshort_0.csv')\n",
        "# 데이터 로드\n",
        "data = pd.read_pickle('/content/drive/MyDrive/ColabNotebooks/개인프로젝트/비트코인 /longshort_0.csv')\n",
        "data['Date']=data['Date'].astype(str)\n",
        "gc.collect()"
      ],
      "metadata": {
        "id": "mxx254mUBX1b",
        "colab": {
          "base_uri": "https://localhost:8080/"
        },
        "outputId": "5ea27a15-4642-4a9b-b5a9-f0b06b0b975a"
      },
      "execution_count": null,
      "outputs": [
        {
          "output_type": "execute_result",
          "data": {
            "text/plain": [
              "66"
            ]
          },
          "metadata": {},
          "execution_count": 22
        }
      ]
    },
    {
      "cell_type": "code",
      "source": [
        "cnt=0\n",
        "for k in tqdm(range(len(tickers))):    \n",
        "    i=tickers[k]\n",
        "    df = stock.get_market_fundamental('10001009','30221022',i)\n",
        "    df = df.rename_axis('날짜').reset_index()\n",
        "    df.rename(columns = {'날짜':'Date'},inplace=True)\n",
        "\n",
        "    # Date 통일화\n",
        "    df['Date']=df['Date'].astype(str)\n",
        "    df['plus']=' 00:00:00+09:00'\n",
        "    df['Date']=df['Date']+df['plus']\n",
        "    df = df.drop(['plus'], axis=1) \n",
        "    df['Symbol']=i\n",
        "        \n",
        "\n",
        "    try:\n",
        "        df['BPS']\n",
        "    except:\n",
        "        cnt+=1\n",
        "        print(i)\n",
        "    else:\n",
        "        if k==0:\n",
        "            data2=pd.merge(df, data)\n",
        "\n",
        "        else:   \n",
        "            data3=pd.merge(df, data)\n",
        "            data2=pd.concat([data2,data3])\n",
        "\n",
        "print('done')"
      ],
      "metadata": {
        "id": "4NtusBmW29ei",
        "colab": {
          "base_uri": "https://localhost:8080/"
        },
        "outputId": "f52b9c88-09b0-4a59-ded7-f274132c30fd"
      },
      "execution_count": null,
      "outputs": [
        {
          "output_type": "stream",
          "name": "stderr",
          "text": [
            "  4%|▍         | 36/940 [05:42<1:35:47,  6.36s/it]"
          ]
        },
        {
          "output_type": "stream",
          "name": "stdout",
          "text": [
            "365550\n"
          ]
        },
        {
          "output_type": "stream",
          "name": "stderr",
          "text": [
            "  7%|▋         | 65/940 [09:23<1:24:06,  5.77s/it]"
          ]
        },
        {
          "output_type": "stream",
          "name": "stdout",
          "text": [
            "432320\n"
          ]
        },
        {
          "output_type": "stream",
          "name": "stderr",
          "text": [
            " 12%|█▏        | 111/940 [15:45<1:04:27,  4.67s/it]"
          ]
        },
        {
          "output_type": "stream",
          "name": "stdout",
          "text": [
            "400760\n"
          ]
        },
        {
          "output_type": "stream",
          "name": "stderr",
          "text": [
            " 12%|█▏        | 114/940 [16:07<1:16:39,  5.57s/it]"
          ]
        },
        {
          "output_type": "stream",
          "name": "stdout",
          "text": [
            "338100\n"
          ]
        },
        {
          "output_type": "stream",
          "name": "stderr",
          "text": [
            " 15%|█▌        | 142/940 [20:34<1:15:48,  5.70s/it]"
          ]
        },
        {
          "output_type": "stream",
          "name": "stdout",
          "text": [
            "395400\n"
          ]
        },
        {
          "output_type": "stream",
          "name": "stderr",
          "text": [
            " 36%|███▋      | 343/940 [51:46<54:09,  5.44s/it]  "
          ]
        },
        {
          "output_type": "stream",
          "name": "stdout",
          "text": [
            "377190\n"
          ]
        },
        {
          "output_type": "stream",
          "name": "stderr",
          "text": [
            " 37%|███▋      | 349/940 [52:18<37:56,  3.85s/it]"
          ]
        },
        {
          "output_type": "stream",
          "name": "stdout",
          "text": [
            "330590\n"
          ]
        },
        {
          "output_type": "stream",
          "name": "stderr",
          "text": [
            " 39%|███▊      | 362/940 [53:59<1:01:57,  6.43s/it]"
          ]
        },
        {
          "output_type": "stream",
          "name": "stdout",
          "text": [
            "357430\n"
          ]
        },
        {
          "output_type": "stream",
          "name": "stderr",
          "text": [
            " 39%|███▊      | 364/940 [54:13<59:42,  6.22s/it]  "
          ]
        },
        {
          "output_type": "stream",
          "name": "stdout",
          "text": [
            "088980\n"
          ]
        },
        {
          "output_type": "stream",
          "name": "stderr",
          "text": [
            "\r 39%|███▉      | 365/940 [54:14<44:44,  4.67s/it]"
          ]
        },
        {
          "output_type": "stream",
          "name": "stdout",
          "text": [
            "094800\n"
          ]
        },
        {
          "output_type": "stream",
          "name": "stderr",
          "text": [
            " 40%|███▉      | 374/940 [55:24<58:14,  6.17s/it]  "
          ]
        },
        {
          "output_type": "stream",
          "name": "stdout",
          "text": [
            "204210\n"
          ]
        },
        {
          "output_type": "stream",
          "name": "stderr",
          "text": [
            " 41%|████      | 382/940 [56:38<1:06:58,  7.20s/it]"
          ]
        },
        {
          "output_type": "stream",
          "name": "stdout",
          "text": [
            "396690\n"
          ]
        },
        {
          "output_type": "stream",
          "name": "stderr",
          "text": [
            "\r 41%|████      | 383/940 [56:39<47:52,  5.16s/it]  "
          ]
        },
        {
          "output_type": "stream",
          "name": "stdout",
          "text": [
            "357250\n"
          ]
        },
        {
          "output_type": "stream",
          "name": "stderr",
          "text": [
            " 42%|████▏     | 393/940 [57:51<58:51,  6.46s/it]  "
          ]
        },
        {
          "output_type": "stream",
          "name": "stdout",
          "text": [
            "155900\n"
          ]
        },
        {
          "output_type": "stream",
          "name": "stderr",
          "text": [
            " 42%|████▏     | 398/940 [58:35<1:04:26,  7.13s/it]"
          ]
        },
        {
          "output_type": "stream",
          "name": "stdout",
          "text": [
            "096300\n"
          ]
        },
        {
          "output_type": "stream",
          "name": "stderr",
          "text": [
            " 57%|█████▋    | 534/940 [1:20:24<56:38,  8.37s/it]  "
          ]
        },
        {
          "output_type": "stream",
          "name": "stdout",
          "text": [
            "404990\n"
          ]
        },
        {
          "output_type": "stream",
          "name": "stderr",
          "text": [
            "\r 57%|█████▋    | 535/940 [1:20:24<40:34,  6.01s/it]"
          ]
        },
        {
          "output_type": "stream",
          "name": "stdout",
          "text": [
            "293940\n"
          ]
        },
        {
          "output_type": "stream",
          "name": "stderr",
          "text": [
            " 61%|██████    | 571/940 [1:25:27<34:56,  5.68s/it]"
          ]
        },
        {
          "output_type": "stream",
          "name": "stdout",
          "text": [
            "140910\n"
          ]
        },
        {
          "output_type": "stream",
          "name": "stderr",
          "text": [
            " 62%|██████▏   | 580/940 [1:26:34<32:09,  5.36s/it]"
          ]
        },
        {
          "output_type": "stream",
          "name": "stdout",
          "text": [
            "900140\n"
          ]
        },
        {
          "output_type": "stream",
          "name": "stderr",
          "text": [
            " 67%|██████▋   | 632/940 [1:34:43<34:37,  6.75s/it]"
          ]
        },
        {
          "output_type": "stream",
          "name": "stdout",
          "text": [
            "088260\n"
          ]
        },
        {
          "output_type": "stream",
          "name": "stderr",
          "text": [
            " 68%|██████▊   | 641/940 [1:35:49<27:23,  5.50s/it]"
          ]
        },
        {
          "output_type": "stream",
          "name": "stdout",
          "text": [
            "350520\n"
          ]
        },
        {
          "output_type": "stream",
          "name": "stderr",
          "text": [
            "\r 68%|██████▊   | 642/940 [1:35:50<19:43,  3.97s/it]"
          ]
        },
        {
          "output_type": "stream",
          "name": "stdout",
          "text": [
            "334890\n"
          ]
        },
        {
          "output_type": "stream",
          "name": "stderr",
          "text": [
            " 71%|███████▏  | 670/940 [1:39:49<26:23,  5.87s/it]"
          ]
        },
        {
          "output_type": "stream",
          "name": "stdout",
          "text": [
            "348950\n"
          ]
        },
        {
          "output_type": "stream",
          "name": "stderr",
          "text": [
            " 76%|███████▋  | 717/940 [1:46:24<15:52,  4.27s/it]"
          ]
        },
        {
          "output_type": "stream",
          "name": "stdout",
          "text": [
            "145270\n"
          ]
        },
        {
          "output_type": "stream",
          "name": "stderr",
          "text": [
            "\r 76%|███████▋  | 718/940 [1:46:24<11:27,  3.10s/it]"
          ]
        },
        {
          "output_type": "stream",
          "name": "stdout",
          "text": [
            "417310\n"
          ]
        },
        {
          "output_type": "stream",
          "name": "stderr",
          "text": [
            "\r 76%|███████▋  | 719/940 [1:46:25<08:30,  2.31s/it]"
          ]
        },
        {
          "output_type": "stream",
          "name": "stdout",
          "text": [
            "357120\n"
          ]
        },
        {
          "output_type": "stream",
          "name": "stderr",
          "text": [
            " 83%|████████▎ | 783/940 [1:55:55<17:14,  6.59s/it]"
          ]
        },
        {
          "output_type": "stream",
          "name": "stdout",
          "text": [
            "950210\n"
          ]
        },
        {
          "output_type": "stream",
          "name": "stderr",
          "text": [
            " 85%|████████▍ | 795/940 [1:57:25<16:29,  6.82s/it]"
          ]
        },
        {
          "output_type": "stream",
          "name": "stdout",
          "text": [
            "152550\n"
          ]
        },
        {
          "output_type": "stream",
          "name": "stderr",
          "text": [
            " 87%|████████▋ | 820/940 [2:01:15<12:58,  6.49s/it]"
          ]
        },
        {
          "output_type": "stream",
          "name": "stdout",
          "text": [
            "168490\n"
          ]
        },
        {
          "output_type": "stream",
          "name": "stderr",
          "text": [
            "100%|██████████| 940/940 [2:18:58<00:00,  8.87s/it]"
          ]
        },
        {
          "output_type": "stream",
          "name": "stdout",
          "text": [
            "done\n"
          ]
        },
        {
          "output_type": "stream",
          "name": "stderr",
          "text": [
            "\n"
          ]
        }
      ]
    },
    {
      "cell_type": "code",
      "source": [
        "# 데이터 저장\n",
        "data2 = data2.reset_index(drop=True)\n",
        "data2.to_pickle('/content/drive/MyDrive/ColabNotebooks/개인프로젝트/비트코인 /longshort_1.csv')"
      ],
      "metadata": {
        "id": "XiaaKQxSVr15"
      },
      "execution_count": null,
      "outputs": []
    },
    {
      "cell_type": "markdown",
      "source": [
        "## 외국인 매수매도 데이터 추가"
      ],
      "metadata": {
        "id": "-x2OVM9wali-"
      }
    },
    {
      "cell_type": "code",
      "source": [
        "data = pd.read_pickle('/content/drive/MyDrive/ColabNotebooks/개인프로젝트/비트코인 /longshort_1.csv')\n",
        "data['Date']=data['Date'].astype(str)\n",
        "gc.collect()"
      ],
      "metadata": {
        "id": "wUYfZM6vCDOh",
        "colab": {
          "base_uri": "https://localhost:8080/"
        },
        "outputId": "afae71ee-b48e-41e7-8325-ea5716e3eda9"
      },
      "execution_count": null,
      "outputs": [
        {
          "output_type": "execute_result",
          "data": {
            "text/plain": [
              "44"
            ]
          },
          "metadata": {},
          "execution_count": 25
        }
      ]
    },
    {
      "cell_type": "code",
      "source": [
        "cnt=0\n",
        "for k in tqdm(range(len(tickers))):    \n",
        "    i=tickers[k]\n",
        "    try:    \n",
        "        df1 = stock.get_market_trading_volume_by_date('10001009','30221022',i, on='매수')\n",
        "        df1 = df1.rename_axis('날짜').reset_index()\n",
        "        \n",
        "        # 기타법인+기관\n",
        "        df1['기관']=df1['기관합계']+df1['기타법인']\n",
        "        df1 = df1.drop(['기관합계','기타법인'], axis=1)\n",
        "        \n",
        "        df1.rename(columns = {'날짜':'Date', '기관':'bank', '개인':'ant', '외국인합계':'foreigner','전체':'buy_all'},inplace=True)\n",
        "\n",
        "        # Date 통일화\n",
        "        df1['Date']=df1['Date'].astype(str)\n",
        "        df1['plus']=' 00:00:00+09:00'\n",
        "        df1['Date']=df1['Date']+df1['plus']\n",
        "        df1 = df1.drop(['plus'], axis=1) \n",
        "        df1['Symbol']=i\n",
        "        \n",
        "        \n",
        "        \n",
        "        # 변화량 컬럼 만들기\n",
        "        lendf=len(df1)-2\n",
        "        day_after=df1.shift(-1)\n",
        "        day_after=day_after.iloc[1:lendf,:]\n",
        "        yesterday=df1.shift(1)\n",
        "        yesterday=yesterday.iloc[1:lendf,:]\n",
        "        df1=df1.iloc[1:lendf,:]  \n",
        "\n",
        "        yesterday = yesterday.reset_index(drop=True)\n",
        "        day_after = day_after.reset_index(drop=True)\n",
        "        df1 = df1.reset_index(drop=True)       \n",
        "        \n",
        "\n",
        "        for hg in ['bank', 'ant', 'foreigner']:\n",
        "            df1[f'{hg}_buy_ratio']=df1[f'{hg}']/df1['buy_all']\n",
        "            df1[f'{hg}_buy_ratio_change']=((df1[f'{hg}']/df1['buy_all'])-(yesterday[f'{hg}']/yesterday['buy_all']))/(yesterday[f'{hg}']/yesterday['buy_all'])\n",
        "        \n",
        "        ##########################\n",
        "        df1 = df1.fillna(0)\n",
        "        ##########################\n",
        "        \n",
        "        # df1 = df1.drop(['all','bank', 'ant', 'foreigner'], axis=1) \n",
        "    ###################################################################################################################################################################################################################\n",
        "        df2 = stock.get_market_trading_volume_by_date('10001009','30221022',i, on='매도')\n",
        "        df2 = df2.rename_axis('날짜').reset_index()\n",
        "        \n",
        "        # 기타법인+기관\n",
        "        df2['기관']=df2['기관합계']+df2['기타법인']\n",
        "        df2 = df2.drop(['기관합계','기타법인'], axis=1)\n",
        "        \n",
        "        df2.rename(columns = {'날짜':'Date', '기관':'bank', '개인':'ant', '외국인합계':'foreigner','전체':'sell_all'},inplace=True)\n",
        "\n",
        "        # Date 통일화\n",
        "        df2['Date']=df2['Date'].astype(str)\n",
        "        df2['plus']=' 00:00:00+09:00'\n",
        "        df2['Date']=df2['Date']+df2['plus']\n",
        "        df2 = df2.drop(['plus'], axis=1) \n",
        "        df2['Symbol']=i\n",
        "        \n",
        "        \n",
        "        \n",
        "        # 변화량 컬럼 만들기\n",
        "        lendf=len(df2)-2\n",
        "        day_after=df2.shift(-1)\n",
        "        day_after=day_after.iloc[1:lendf,:]\n",
        "        yesterday=df2.shift(1)\n",
        "        yesterday=yesterday.iloc[1:lendf,:]\n",
        "        df2=df2.iloc[1:lendf,:]   \n",
        "\n",
        "        yesterday = yesterday.reset_index(drop=True)\n",
        "        day_after = day_after.reset_index(drop=True)\n",
        "        df2 = df2.reset_index(drop=True)       \n",
        "\n",
        "\n",
        "\n",
        "        for hg in ['bank', 'ant', 'foreigner']:\n",
        "            df2[f'{hg}_sell_ratio']=df2[f'{hg}']/df2['sell_all']\n",
        "            df2[f'{hg}_sell_ratio_change']=((df2[f'{hg}']/df2['sell_all'])-(yesterday[f'{hg}']/yesterday['sell_all']))/(yesterday[f'{hg}']/yesterday['sell_all'])\n",
        "\n",
        "        ##########################\n",
        "        df2 = df2.fillna(0)\n",
        "        ##########################\n",
        "\n",
        "\n",
        "        # df2 = df2.drop(['all','bank', 'ant', 'foreigner'], axis=1) \n",
        "    ####################################################################################################################################################################################################################\n",
        "    except:\n",
        "        cnt+=1\n",
        "        print(i)\n",
        "    \n",
        "    else:\n",
        "        df['buy_sell_ratio']=df1['buy_all']/df2['sell_all']\n",
        "        df1 = df1.drop(['bank', 'ant', 'foreigner'], axis=1) \n",
        "        df2 = df2.drop(['bank', 'ant', 'foreigner'], axis=1) \n",
        "        df=pd.merge(df1, df2) \n",
        "        # df['buy_sell_ratio']=df['buy_all']/df['sell_all']\n",
        "        df = df.drop(['buy_all', 'sell_all'], axis=1) \n",
        "        if k==0:\n",
        "            # df=pd.merge(df1, df2)\n",
        "            data2=pd.merge(df, data)\n",
        "            \n",
        "        else:\n",
        "            # df=pd.merge(df1, df2)\n",
        "            data3=pd.merge(df, data)\n",
        "            # 합치기\n",
        "            data2=pd.concat([data2,data3])\n",
        "    \n",
        "print('done') "
      ],
      "metadata": {
        "id": "-ZxZbtMHaw9j",
        "colab": {
          "base_uri": "https://localhost:8080/"
        },
        "outputId": "8382e76a-41fe-4807-83ae-ac3152508550"
      },
      "execution_count": null,
      "outputs": [
        {
          "output_type": "stream",
          "name": "stderr",
          "text": [
            "100%|██████████| 940/940 [1:00:01<00:00,  3.83s/it]"
          ]
        },
        {
          "output_type": "stream",
          "name": "stdout",
          "text": [
            "done\n"
          ]
        },
        {
          "output_type": "stream",
          "name": "stderr",
          "text": [
            "\n"
          ]
        }
      ]
    },
    {
      "cell_type": "code",
      "source": [
        "# 데이터 저장\n",
        "data2 = data2.reset_index(drop=True)\n",
        "data2.to_pickle('/content/drive/MyDrive/ColabNotebooks/개인프로젝트/비트코인 /longshort_2.csv')"
      ],
      "metadata": {
        "id": "TWv8VDI2Co_9"
      },
      "execution_count": null,
      "outputs": []
    },
    {
      "cell_type": "code",
      "source": [
        "print(len(data2))\n",
        "data2.isna().sum()"
      ],
      "metadata": {
        "id": "437kDXXjzm0n",
        "colab": {
          "base_uri": "https://localhost:8080/"
        },
        "outputId": "5a92236e-57e5-414d-b02d-d7759a7eca45"
      },
      "execution_count": null,
      "outputs": [
        {
          "output_type": "stream",
          "name": "stdout",
          "text": [
            "3727239\n"
          ]
        },
        {
          "output_type": "execute_result",
          "data": {
            "text/plain": [
              "Date                           0\n",
              "Symbol                         0\n",
              "bank_buy_ratio                 0\n",
              "bank_buy_ratio_change          0\n",
              "ant_buy_ratio                  0\n",
              "ant_buy_ratio_change           0\n",
              "foreigner_buy_ratio            0\n",
              "foreigner_buy_ratio_change     0\n",
              "bank_sell_ratio                0\n",
              "bank_sell_ratio_change         0\n",
              "ant_sell_ratio                 0\n",
              "ant_sell_ratio_change          0\n",
              "foreigner_sell_ratio           0\n",
              "foreigner_sell_ratio_change    0\n",
              "BPS                            0\n",
              "PER                            0\n",
              "PBR                            0\n",
              "EPS                            0\n",
              "DIV                            0\n",
              "DPS                            0\n",
              "dp7                            0\n",
              "dp25                           0\n",
              "dp99                           0\n",
              "dp5                            0\n",
              "dp10                           0\n",
              "dp20                           0\n",
              "dp60                           0\n",
              "dp120                          0\n",
              "dp50                           0\n",
              "dp100                          0\n",
              "dp200                          0\n",
              "plus_di                        0\n",
              "minus_di                       0\n",
              "adx                            0\n",
              "RSI                            0\n",
              "K                              0\n",
              "D                              0\n",
              "CCI                            0\n",
              "MFI                            0\n",
              "W%R                            0\n",
              "PB                             0\n",
              "Open_change                    0\n",
              "High_change                    0\n",
              "Low_change                     0\n",
              "Close_change                   0\n",
              "Volume_change                  0\n",
              "plus_di_change                 0\n",
              "minus_di_change                0\n",
              "adx_change                     0\n",
              "RSI_change                     0\n",
              "K_change                       0\n",
              "D_change                       0\n",
              "MACD_change                    0\n",
              "MACDsig_change                 0\n",
              "MACDhist_change                0\n",
              "CCI_change                     0\n",
              "MFI_change                     0\n",
              "PB_change                      0\n",
              "W%R_change                     0\n",
              "swing                          0\n",
              "highest_high_rate              0\n",
              "lowest_low_rate                0\n",
              "after20_rate                   0\n",
              "tomorrow_pred                  0\n",
              "long_short                     0\n",
              "plus_di_updiv                  0\n",
              "minus_di_updiv                 0\n",
              "adx_updiv                      0\n",
              "RSI_updiv                      0\n",
              "K_updiv                        0\n",
              "D_updiv                        0\n",
              "MACD_updiv                     0\n",
              "MACDsig_updiv                  0\n",
              "MACDhist_updiv                 0\n",
              "CCI_updiv                      0\n",
              "MFI_updiv                      0\n",
              "plus_di_downdiv                0\n",
              "minus_di_downdiv               0\n",
              "adx_downdiv                    0\n",
              "RSI_downdiv                    0\n",
              "K_downdiv                      0\n",
              "D_downdiv                      0\n",
              "MACD_downdiv                   0\n",
              "MACDsig_downdiv                0\n",
              "MACDhist_downdiv               0\n",
              "CCI_downdiv                    0\n",
              "MFI_downdiv                    0\n",
              "dtype: int64"
            ]
          },
          "metadata": {},
          "execution_count": 28
        }
      ]
    },
    {
      "cell_type": "markdown",
      "source": [
        "##외국인 한도소진률 데이터 추가(2.1.1.14 티커별 외국인 보유량 및 외국인 한도소진률)"
      ],
      "metadata": {
        "id": "W_u4bj-6CvOJ"
      }
    },
    {
      "cell_type": "code",
      "source": [
        "data = pd.read_pickle('/content/drive/MyDrive/ColabNotebooks/개인프로젝트/비트코인 /longshort_2.csv')\n",
        "data['Date']=data['Date'].astype(str)\n",
        "gc.collect()\n",
        "data.drop_duplicates(keep='first', inplace=True)\n",
        "data = data.reset_index(drop=True)\n",
        "print(len(data))\n",
        "print('done')"
      ],
      "metadata": {
        "id": "MWOU4JRpJK0D",
        "colab": {
          "base_uri": "https://localhost:8080/"
        },
        "outputId": "3eaf8ff1-7e33-4922-ad02-7f8a9f7a45e9"
      },
      "execution_count": null,
      "outputs": [
        {
          "output_type": "stream",
          "name": "stdout",
          "text": [
            "3727239\n",
            "done\n"
          ]
        }
      ]
    },
    {
      "cell_type": "code",
      "source": [
        "cnt=0\n",
        "for k in tqdm(range(len(tickers))):    \n",
        "# for k in tqdm(range(2)):    \n",
        "    i=tickers[k]\n",
        "    df = stock.get_exhaustion_rates_of_foreign_investment('10001009','30221022',i)\n",
        "    df = df.rename_axis('날짜').reset_index()\n",
        "    df.rename(columns = {'날짜':'Date'},inplace=True)\n",
        "\n",
        "    # Date 통일화\n",
        "    df['Date']=df['Date'].astype(str)\n",
        "    df['plus']=' 00:00:00+09:00'\n",
        "    df['Date']=df['Date']+df['plus']\n",
        "    df = df.drop(['plus'], axis=1) \n",
        "    df['Symbol']=i\n",
        "        \n",
        "\n",
        "    try:\n",
        "        df['상장주식수']\n",
        "    except:\n",
        "        cnt+=1\n",
        "        print(i)\n",
        "    else:\n",
        "        df = df.drop(['상장주식수','보유수량','한도수량'], axis=1)\n",
        "        df.rename(columns = {'지분율':'got', '한도소진률':'limit_gone'},inplace=True)\n",
        "        if k==0:\n",
        "            data2=df\n",
        "        else:\n",
        "            # 합치기\n",
        "            data2=pd.concat([data2,df])\n",
        "    \n",
        "data2=pd.merge(data, data2)\n",
        "print('done')"
      ],
      "metadata": {
        "id": "CEST2PZ_Hi3L",
        "colab": {
          "base_uri": "https://localhost:8080/"
        },
        "outputId": "ba77d007-1d9d-46b1-f9c9-4f1a6bb8db0e"
      },
      "execution_count": null,
      "outputs": [
        {
          "output_type": "stream",
          "name": "stderr",
          "text": [
            "100%|██████████| 940/940 [1:50:16<00:00,  7.04s/it]\n"
          ]
        },
        {
          "output_type": "stream",
          "name": "stdout",
          "text": [
            "done\n"
          ]
        }
      ]
    },
    {
      "cell_type": "code",
      "source": [
        "print(len(data2))\n",
        "data2.isna().sum()"
      ],
      "metadata": {
        "id": "aQOYJrdvPdK2",
        "colab": {
          "base_uri": "https://localhost:8080/"
        },
        "outputId": "0f411241-e992-47e0-a037-d4555e2b2728"
      },
      "execution_count": null,
      "outputs": [
        {
          "output_type": "stream",
          "name": "stdout",
          "text": [
            "3727239\n"
          ]
        },
        {
          "output_type": "execute_result",
          "data": {
            "text/plain": [
              "Date                           0\n",
              "Symbol                         0\n",
              "bank_buy_ratio                 0\n",
              "bank_buy_ratio_change          0\n",
              "ant_buy_ratio                  0\n",
              "ant_buy_ratio_change           0\n",
              "foreigner_buy_ratio            0\n",
              "foreigner_buy_ratio_change     0\n",
              "bank_sell_ratio                0\n",
              "bank_sell_ratio_change         0\n",
              "ant_sell_ratio                 0\n",
              "ant_sell_ratio_change          0\n",
              "foreigner_sell_ratio           0\n",
              "foreigner_sell_ratio_change    0\n",
              "BPS                            0\n",
              "PER                            0\n",
              "PBR                            0\n",
              "EPS                            0\n",
              "DIV                            0\n",
              "DPS                            0\n",
              "dp7                            0\n",
              "dp25                           0\n",
              "dp99                           0\n",
              "dp5                            0\n",
              "dp10                           0\n",
              "dp20                           0\n",
              "dp60                           0\n",
              "dp120                          0\n",
              "dp50                           0\n",
              "dp100                          0\n",
              "dp200                          0\n",
              "plus_di                        0\n",
              "minus_di                       0\n",
              "adx                            0\n",
              "RSI                            0\n",
              "K                              0\n",
              "D                              0\n",
              "CCI                            0\n",
              "MFI                            0\n",
              "W%R                            0\n",
              "PB                             0\n",
              "Open_change                    0\n",
              "High_change                    0\n",
              "Low_change                     0\n",
              "Close_change                   0\n",
              "Volume_change                  0\n",
              "plus_di_change                 0\n",
              "minus_di_change                0\n",
              "adx_change                     0\n",
              "RSI_change                     0\n",
              "K_change                       0\n",
              "D_change                       0\n",
              "MACD_change                    0\n",
              "MACDsig_change                 0\n",
              "MACDhist_change                0\n",
              "CCI_change                     0\n",
              "MFI_change                     0\n",
              "PB_change                      0\n",
              "W%R_change                     0\n",
              "swing                          0\n",
              "highest_high_rate              0\n",
              "lowest_low_rate                0\n",
              "after20_rate                   0\n",
              "tomorrow_pred                  0\n",
              "long_short                     0\n",
              "plus_di_updiv                  0\n",
              "minus_di_updiv                 0\n",
              "adx_updiv                      0\n",
              "RSI_updiv                      0\n",
              "K_updiv                        0\n",
              "D_updiv                        0\n",
              "MACD_updiv                     0\n",
              "MACDsig_updiv                  0\n",
              "MACDhist_updiv                 0\n",
              "CCI_updiv                      0\n",
              "MFI_updiv                      0\n",
              "plus_di_downdiv                0\n",
              "minus_di_downdiv               0\n",
              "adx_downdiv                    0\n",
              "RSI_downdiv                    0\n",
              "K_downdiv                      0\n",
              "D_downdiv                      0\n",
              "MACD_downdiv                   0\n",
              "MACDsig_downdiv                0\n",
              "MACDhist_downdiv               0\n",
              "CCI_downdiv                    0\n",
              "MFI_downdiv                    0\n",
              "got                            0\n",
              "limit_gone                     0\n",
              "dtype: int64"
            ]
          },
          "metadata": {},
          "execution_count": 31
        }
      ]
    },
    {
      "cell_type": "code",
      "source": [
        "# 데이터 저장\n",
        "data2.to_pickle('/content/drive/MyDrive/ColabNotebooks/개인프로젝트/비트코인 /longshort_3.csv')"
      ],
      "metadata": {
        "id": "KX35HFUkID_d"
      },
      "execution_count": null,
      "outputs": []
    },
    {
      "cell_type": "markdown",
      "source": [
        "## 공매도 비중(2.1.3.2 종목별 공매도 거래 정보)"
      ],
      "metadata": {
        "id": "6LTGE3_7DiL0"
      }
    },
    {
      "cell_type": "code",
      "source": [
        "data = pd.read_pickle('/content/drive/MyDrive/ColabNotebooks/개인프로젝트/비트코인 /longshort_3.csv')\n",
        "data['Date']=data['Date'].astype(str)\n",
        "gc.collect()\n",
        "print('done')"
      ],
      "metadata": {
        "id": "hMlxqYGV33sG",
        "colab": {
          "base_uri": "https://localhost:8080/"
        },
        "outputId": "1f8f1efd-a307-44a6-9741-e1a3be7011a1"
      },
      "execution_count": null,
      "outputs": [
        {
          "output_type": "stream",
          "name": "stdout",
          "text": [
            "done\n"
          ]
        }
      ]
    },
    {
      "cell_type": "code",
      "source": [
        "cnt=0\n",
        "for k in tqdm(range(len(tickers))):    \n",
        "# for k in tqdm(range(2)):    \n",
        "    i=tickers[k]\n",
        "    df = stock.get_shorting_volume_by_date('10001009','30221022',i)\n",
        "    df = df.rename_axis('날짜').reset_index()\n",
        "    df.rename(columns = {'날짜':'Date'},inplace=True)\n",
        "\n",
        "    # Date 통일화\n",
        "    df['Date']=df['Date'].astype(str)\n",
        "    df['plus']=' 00:00:00+09:00'\n",
        "    df['Date']=df['Date']+df['plus']\n",
        "    df = df.drop(['plus'], axis=1) \n",
        "    df['Symbol']=i\n",
        "        \n",
        "\n",
        "    try:\n",
        "        df['공매도']\n",
        "    except:\n",
        "        cnt+=1\n",
        "        print(i)\n",
        "    else:\n",
        "        df = df.drop(['공매도','매수'], axis=1)\n",
        "        df.rename(columns = {'비중':'공매도비중'},inplace=True)\n",
        "        if k==0:\n",
        "            data2=df\n",
        "        else:\n",
        "            # 합치기\n",
        "            data2=pd.concat([data2,df])\n",
        "\n",
        "\n",
        "data2=pd.merge(data, data2)\n",
        "print('done')"
      ],
      "metadata": {
        "id": "8IQZMyMC4qUx",
        "colab": {
          "base_uri": "https://localhost:8080/"
        },
        "outputId": "fca27456-7cd5-4897-93cf-0598c0dff0cb"
      },
      "execution_count": null,
      "outputs": [
        {
          "output_type": "stream",
          "name": "stderr",
          "text": [
            " 98%|█████████▊| 917/940 [45:24<00:48,  2.09s/it]"
          ]
        }
      ]
    },
    {
      "cell_type": "code",
      "source": [
        "# 데이터 저장\n",
        "data2.to_pickle('/content/drive/MyDrive/ColabNotebooks/개인프로젝트/비트코인 /longshort_4.csv')"
      ],
      "metadata": {
        "id": "3NrLgjsfDgvY"
      },
      "execution_count": null,
      "outputs": []
    },
    {
      "cell_type": "code",
      "source": [
        "print(len(data2))\n",
        "data2.isna().sum()"
      ],
      "metadata": {
        "id": "ZRB5llG70Mer"
      },
      "execution_count": null,
      "outputs": []
    },
    {
      "cell_type": "markdown",
      "source": [
        "## 일별채권 수익률 등락폭"
      ],
      "metadata": {
        "id": "ANlhV4IrEiFs"
      }
    },
    {
      "cell_type": "code",
      "source": [
        "data = pd.read_pickle('/content/drive/MyDrive/ColabNotebooks/개인프로젝트/비트코인 /longshort_4.csv')\n",
        "data['Date']=data['Date'].astype(str)\n",
        "gc.collect()\n",
        "print('done')"
      ],
      "metadata": {
        "id": "mndNa0ohgH6W",
        "colab": {
          "base_uri": "https://localhost:8080/"
        },
        "outputId": "f80929da-1b07-48a3-e050-bb221b3ed9d0"
      },
      "execution_count": null,
      "outputs": [
        {
          "output_type": "stream",
          "name": "stdout",
          "text": [
            "done\n"
          ]
        }
      ]
    },
    {
      "cell_type": "code",
      "source": [
        "df1 = bond.get_otc_treasury_yields('20011220','99999999','국고채3년')\n",
        "df1 = df1.rename_axis('일자').reset_index()\n",
        "\n",
        "df1.rename(columns = {'일자':'Date', '수익률':'3년국채수익률', '대비':'3년국채수익률대비'},inplace=True)\n",
        "\n",
        "# Date 통일화\n",
        "df1['Date']=df1['Date'].astype(str)\n",
        "df1['plus']=' 00:00:00+09:00'\n",
        "df1['Date']=df1['Date']+df1['plus']\n",
        "df1 = df1.drop(['plus'], axis=1)\n",
        "####################################################################################################\n",
        "df2 = bond.get_otc_treasury_yields('20011220','99999999','국고채10년')\n",
        "df2 = df2.rename_axis('일자').reset_index()\n",
        "\n",
        "df2.rename(columns = {'일자':'Date', '수익률':'10년국채수익률', '대비':'10년국채수익률대비'},inplace=True)\n",
        "\n",
        "# Date 통일화\n",
        "df2['Date']=df2['Date'].astype(str)\n",
        "df2['plus']=' 00:00:00+09:00'\n",
        "df2['Date']=df2['Date']+df2['plus']\n",
        "df2 = df2.drop(['plus'], axis=1)\n",
        "####################################################################################################\n",
        "df=pd.merge(df1, df2)\n",
        "data2=pd.merge(data, df)\n"
      ],
      "metadata": {
        "id": "ug29fnqghYaX"
      },
      "execution_count": null,
      "outputs": []
    },
    {
      "cell_type": "code",
      "source": [
        "# 데이터 저장\n",
        "data2.to_pickle('/content/drive/MyDrive/ColabNotebooks/개인프로젝트/비트코인 /longshort_5.csv')"
      ],
      "metadata": {
        "id": "i4kNIOf2o4IN"
      },
      "execution_count": null,
      "outputs": []
    },
    {
      "cell_type": "code",
      "source": [
        "print(len(data2))\n",
        "data2.isna().sum()"
      ],
      "metadata": {
        "id": "n4L-KvbH0hCt"
      },
      "execution_count": null,
      "outputs": []
    },
    {
      "cell_type": "code",
      "source": [
        "print('꿑!')"
      ],
      "metadata": {
        "id": "iPYThNsR3Ysh"
      },
      "execution_count": null,
      "outputs": []
    },
    {
      "cell_type": "code",
      "source": [
        "resetindex 시킬것"
      ],
      "metadata": {
        "id": "vOKSPHjn_91K"
      },
      "execution_count": null,
      "outputs": []
    },
    {
      "cell_type": "markdown",
      "source": [
        "##지수전용 함수"
      ],
      "metadata": {
        "id": "ILveZ1gzDVkT"
      }
    },
    {
      "cell_type": "code",
      "source": [
        "def get_adx(high, low, close, lookback):\n",
        "    plus_dm = high.diff()\n",
        "    minus_dm = low.diff()\n",
        "    plus_dm[plus_dm < 0] = 0\n",
        "    minus_dm[minus_dm > 0] = 0\n",
        "    \n",
        "    tr1 = pd.DataFrame(high - low)\n",
        "    tr2 = pd.DataFrame(abs(high - close.shift(1)))\n",
        "    tr3 = pd.DataFrame(abs(low - close.shift(1)))\n",
        "    frames = [tr1, tr2, tr3]\n",
        "    tr = pd.concat(frames, axis = 1, join = 'inner').max(axis = 1)\n",
        "    atr = tr.rolling(lookback).mean()\n",
        "    \n",
        "    plus_di = 100 * (plus_dm.ewm(alpha = 1/lookback).mean() / atr)\n",
        "    minus_di = abs(100 * (minus_dm.ewm(alpha = 1/lookback).mean() / atr))\n",
        "    dx = (abs(plus_di - minus_di) / abs(plus_di + minus_di)) * 100\n",
        "    adx = ((dx.shift(1) * (lookback - 1)) + dx) / lookback\n",
        "    adx_smooth = adx.ewm(alpha = 1/lookback).mean()\n",
        "    return plus_di, minus_di, adx_smooth"
      ],
      "metadata": {
        "id": "QBkEgYbXEPhW"
      },
      "execution_count": null,
      "outputs": []
    },
    {
      "cell_type": "code",
      "source": [
        "def computeRSI (data, time_window):\n",
        "    diff = data.diff(1).dropna()        # diff in one field(one day)\n",
        "\n",
        "    #this preservers dimensions off diff values\n",
        "    up_chg = 0 * diff\n",
        "    down_chg = 0 * diff\n",
        "    \n",
        "    # up change is equal to the positive difference, otherwise equal to zero\n",
        "    up_chg[diff > 0] = diff[ diff>0 ]\n",
        "    \n",
        "    # down change is equal to negative deifference, otherwise equal to zero\n",
        "    down_chg[diff < 0] = diff[ diff < 0 ]\n",
        "    \n",
        "    # check pandas documentation for ewm\n",
        "    # https://pandas.pydata.org/pandas-docs/stable/reference/api/pandas.DataFrame.ewm.html\n",
        "    # values are related to exponential decay\n",
        "    # we set com=time_window-1 so we get decay alpha=1/time_window\n",
        "    up_chg_avg   = up_chg.ewm(com=time_window-1 , min_periods=time_window).mean()\n",
        "    down_chg_avg = down_chg.ewm(com=time_window-1 , min_periods=time_window).mean()\n",
        "    \n",
        "    rs = abs(up_chg_avg/down_chg_avg)\n",
        "    rsi = 100 - 100/(1+rs)\n",
        "    return rsi"
      ],
      "metadata": {
        "id": "SAS5yQWBERxX"
      },
      "execution_count": null,
      "outputs": []
    },
    {
      "cell_type": "code",
      "source": [
        "def stochastic(data, k_window, d_window, window):\n",
        "    \n",
        "    # input to function is one column from df\n",
        "    # containing closing price or whatever value we want to extract K and D from\n",
        "    \n",
        "    min_val  = data.rolling(window=window, center=False).min()\n",
        "    max_val = data.rolling(window=window, center=False).max()\n",
        "    \n",
        "    stoch = ( (data - min_val) / (max_val - min_val) ) * 100\n",
        "    \n",
        "    K = stoch.rolling(window=k_window, center=False).mean() \n",
        "    #K = stoch\n",
        "    \n",
        "    D = K.rolling(window=d_window, center=False).mean() \n",
        "\n",
        "\n",
        "    return K, D"
      ],
      "metadata": {
        "id": "_n_o9_z1EWBg"
      },
      "execution_count": null,
      "outputs": []
    },
    {
      "cell_type": "code",
      "source": [
        "def CCI(df):\n",
        "    df['pt'] = (df['High']+df['Low']+df['Close'])/3\n",
        "    df['sma'] = df['pt'].rolling(20).mean()\n",
        "    df['mad']=df['pt'].rolling(20).apply(lambda x: pd.Series(x).mad())\n",
        "    df['CCI'] = (df['pt'] - df['sma']) / (0.015 * df['mad'])\n",
        "    return df"
      ],
      "metadata": {
        "id": "Hp8hGv-tEYJZ"
      },
      "execution_count": null,
      "outputs": []
    },
    {
      "cell_type": "code",
      "source": [
        "def computeMACD (df, n_fast, n_slow, n_smooth):\n",
        "    data = df['Close']\n",
        "    \n",
        "    fastEMA = data.ewm(span=n_fast, min_periods=n_slow).mean()\n",
        "    slowEMA = data.ewm(span=n_slow, min_periods=n_slow).mean()\n",
        "    MACD = pd.Series(fastEMA-slowEMA, name = 'MACD')\n",
        "    MACDsig = pd.Series(MACD.ewm(span=n_smooth, min_periods=n_smooth).mean(), name='MACDsig')\n",
        "    MACDhist = pd.Series(MACD - MACDsig, name = 'MACDhist')\n",
        "    df = df.join(MACD)\n",
        "    df = df.join(MACDsig)\n",
        "    df = df.join(MACDhist)\n",
        "    \n",
        "    return df"
      ],
      "metadata": {
        "id": "ZQTDHjO2Ee82"
      },
      "execution_count": null,
      "outputs": []
    },
    {
      "cell_type": "markdown",
      "source": [
        "## 원달러 환율 데이터"
      ],
      "metadata": {
        "id": "3cG_Fw3dpT6y"
      }
    },
    {
      "cell_type": "code",
      "source": [
        "data = pd.read_pickle('/content/drive/MyDrive/ColabNotebooks/개인프로젝트/비트코인 /longshort_5.csv')\n",
        "data['Date']=data['Date'].astype(str)\n",
        "gc.collect()\n",
        "print(len(data))\n",
        "print('done')"
      ],
      "metadata": {
        "id": "vmG4W51wptej",
        "colab": {
          "base_uri": "https://localhost:8080/"
        },
        "outputId": "ab52fdc2-2a7f-460d-de83-6e624412fc14"
      },
      "execution_count": null,
      "outputs": [
        {
          "output_type": "stream",
          "name": "stdout",
          "text": [
            "3596344\n",
            "done\n"
          ]
        }
      ]
    },
    {
      "cell_type": "code",
      "source": [
        "tker=['USD/KRW']\n",
        "for k in tqdm(range(len(tker))):\n",
        "    i=tker[k]\n",
        "    df = fdr.DataReader(i)\n",
        "    print(i,len(df))\n",
        "    df = df.rename_axis('Date').reset_index()\n",
        "    \n",
        "    # Date 통일화\n",
        "    df['Date']=df['Date'].astype(str)\n",
        "    df['plus']=' 00:00:00+09:00'\n",
        "    df['Date']=df['Date']+df['plus']\n",
        "    df = df.drop(['plus','Volume'], axis=1) \n",
        "   \n",
        "    # 이격도 구하기\n",
        "    df['ma7'] = df['Close'].rolling(7).mean()\n",
        "    df['ma25'] = df['Close'].rolling(25).mean()\n",
        "    df['ma99'] = df['Close'].rolling(99).mean()\n",
        "    df['ma5'] = df['Close'].rolling(5).mean()\n",
        "    df['ma10'] = df['Close'].rolling(10).mean()\n",
        "    df['ma20'] = df['Close'].rolling(20).mean()\n",
        "    df['ma60'] = df['Close'].rolling(60).mean()\n",
        "    df['ma120'] = df['Close'].rolling(120).mean()\n",
        "    df['ma50'] = df['Close'].rolling(50).mean()\n",
        "    df['ma100'] = df['Close'].rolling(100).mean()\n",
        "    df['ma200'] = df['Close'].rolling(200).mean()\n",
        "    df['max14'] = df['High'].rolling(14).max()\n",
        "    df['min14'] = df['Low'].rolling(14).min()\n",
        "    df['highest_high'] = df['High'].rolling(20).max().shift(-20)\n",
        "    df['lowest_low'] = df['Low'].rolling(20).min().shift(-20)\n",
        "    df['after20'] = df['Close'].shift(-20)\n",
        "    df['highest_high_past'] = df['High'].rolling(20).max()\n",
        "    df['lowest_low_past'] = df['Low'].rolling(20).min()\n",
        "    \n",
        "    \n",
        "    df['dp7'] = df['Close']/df['ma7']\n",
        "    df['dp25'] = df['Close']/df['ma25']\n",
        "    df['dp99'] = df['Close']/df['ma99']\n",
        "    df['dp5'] = df['Close']/df['ma5']\n",
        "    df['dp10'] = df['Close']/df['ma10']\n",
        "    df['dp20'] = df['Close']/df['ma20']\n",
        "    df['dp60'] = df['Close']/df['ma60']\n",
        "    df['dp120'] = df['Close']/df['ma120']\n",
        "    df['dp50'] = df['Close']/df['ma50']\n",
        "    df['dp100'] = df['Close']/df['ma100']\n",
        "    df['dp200'] = df['Close']/df['ma200']  \n",
        "\n",
        "    # 보조지표값 구하기\n",
        "\n",
        "    df['stddev'] = df['Close'].rolling(window=20).std() # 20일 이동표준편차\n",
        "    df['upper'] = df['ma20'] + 2*df['stddev'] # 상단밴드\n",
        "    df['lower'] = df['ma20'] - 2*df['stddev'] # 하단밴드\n",
        "    df['PB'] = (df['Close'] - df['lower']) / (df['upper'] - df['lower'])\n",
        "    df['W%R'] = (df['max14']-df['Close'])/((df['max14']-df['min14'])*-100)\n",
        "    \n",
        "    df['plus_di'] = pd.DataFrame(get_adx(df['High'], df['Low'], df['Close'], 14)[0]).rename(columns = {0:'plus_di'})\n",
        "    df['minus_di'] = pd.DataFrame(get_adx(df['High'], df['Low'], df['Close'], 14)[1]).rename(columns = {0:'minus_di'})\n",
        "    df['adx'] = pd.DataFrame(get_adx(df['High'], df['Low'], df['Close'], 14)[2]).rename(columns = {0:'adx'})  \n",
        "\n",
        "    df['RSI'] = computeRSI(df['Close'], 14)\n",
        "\n",
        "    df['K'], df['D'] = stochastic(df['RSI'], 3, 3, 14)\n",
        "\n",
        "    df= computeMACD(df, 12, 26, 9)\n",
        "\n",
        "    df = CCI(df)\n",
        "\n",
        "    # df['MFI'] = mfi(df['High'], df['Low'], df['Close'], df['Volume'], 14)\n",
        "\n",
        "    # 변화량 컬럼 만들기\n",
        "    lendf=len(df)-2\n",
        "    day_after=df.shift(-1)\n",
        "    day_after=day_after.iloc[1:lendf,:]\n",
        "    yesterday=df.shift(1)\n",
        "    yesterday=yesterday.iloc[1:lendf,:]\n",
        "    df=df.iloc[1:lendf,:]\n",
        "\n",
        "    yesterday = yesterday.reset_index(drop=True)\n",
        "    day_after = day_after.reset_index(drop=True)\n",
        "    df = df.reset_index(drop=True)\n",
        "    \n",
        "    for sanz in ['Open', 'High','Low','Close']:\n",
        "        df[f'{sanz}_change']=(df[sanz]-yesterday[sanz])/yesterday[sanz]\n",
        "    \n",
        "    df['after20_rate']= (df['after20']-day_after['Open']) / day_after['Open']\n",
        "    df['lowest_low_rate']= (df['lowest_low']-day_after['Open']) / day_after['Open']\n",
        "    df['highest_high_rate']= (df['highest_high']-day_after['Open']) / day_after['Open']\n",
        "    \n",
        "\n",
        "    div_size=20\n",
        "    aaa=['plus_di', 'minus_di', 'adx', 'RSI', 'K', 'D', 'MACD', 'MACDsig', 'MACDhist', 'CCI']\n",
        "    for j in aaa:\n",
        "        ok=pd.Series([np.nan]*(div_size-1))\n",
        "        ok2=df.loc[df['High'].rolling(div_size).apply(lambda x: x.idxmax())[(div_size-1):], j]\n",
        "        seri_concat = pd.concat([ok, ok2], ignore_index=True)\n",
        "        df[f'High_{j}']=seri_concat\n",
        "\n",
        "        ok2=df.loc[df['Low'].rolling(div_size).apply(lambda x: x.idxmin())[(div_size-1):], j]\n",
        "        seri_concat = pd.concat([ok, ok2], ignore_index=True)\n",
        "        df[f'Low_{j}']=seri_concat\n",
        "\n",
        "##########################\n",
        "    df=df.dropna(axis=0) \n",
        "#########################\n",
        "\n",
        "    for sanz in ['plus_di','minus_di','adx','RSI','K','D','MACD','MACDsig','MACDhist','CCI','PB','W%R']:\n",
        "        df[f'{sanz}_change']=(df[sanz]-yesterday[sanz])/yesterday[sanz]\n",
        "##########################\n",
        "    df = df.fillna(0)\n",
        "##########################\n",
        "    # 히든 다이버전스\n",
        "    aaa=['plus_di', 'minus_di', 'adx', 'RSI', 'K', 'D', 'MACD', 'MACDsig', 'MACDhist', 'CCI']\n",
        "    for j in aaa:\n",
        "        df[f'{j}_updiv'] = 0\n",
        "        df.loc[  ((df['lowest_low_past']-df['Low']) < 0  ) & ( df[f'Low_{j}'] - df[j] > 0) , f'{j}_updiv']= 1\n",
        "        \n",
        "        df[f'{j}_downdiv'] = 0\n",
        "        df.loc[ ((df['highest_high_past']-df['High']) > 0  ) & ( df[f'High_{j}'] - df[j] < 0) , f'{j}_downdiv']= 1\n",
        "\n",
        "\n",
        "    # 레이블만들기\n",
        "    df['tomorrow_pred']=(day_after['Close']-day_after['Open'])/day_after['Open']    \n",
        "\n",
        "    df['long_short']=0\n",
        "    df.loc[df['tomorrow_pred']>0, 'long_short']=1   \n",
        "\n",
        "    df['swing']=0\n",
        "    df.loc[ (df['highest_high_rate']>=0.1) & (df['lowest_low_rate']>-0.05), 'swing']=1  \n",
        "    \n",
        "    # 사용할것 pick \n",
        "    df=df.loc[:,['Date','dp7','dp25','dp99','dp5','dp10','dp20','dp60','dp120','dp50','dp100','dp200','plus_di','minus_di','adx','RSI','K','D','CCI','W%R','PB','Open_change','High_change','Low_change','Close_change','plus_di_change', 'minus_di_change', 'adx_change', 'RSI_change','K_change','D_change','MACD_change','MACDsig_change','MACDhist_change','CCI_change','PB_change','W%R_change','plus_di_updiv', 'minus_di_updiv', 'adx_updiv', 'RSI_updiv', 'K_updiv', 'D_updiv', 'MACD_updiv', 'MACDsig_updiv', 'MACDhist_updiv', 'CCI_updiv','plus_di_downdiv', 'minus_di_downdiv', 'adx_downdiv', 'RSI_downdiv', 'K_downdiv', 'D_downdiv', 'MACD_downdiv', 'MACDsig_downdiv', 'MACDhist_downdiv', 'CCI_downdiv']]\n",
        "    col=['dp7','dp25','dp99','dp5','dp10','dp20','dp60','dp120','dp50','dp100','dp200','plus_di','minus_di','adx','RSI','K','D','CCI','W%R','PB','Open_change','High_change','Low_change','Close_change','plus_di_change', 'minus_di_change', 'adx_change', 'RSI_change','K_change','D_change','MACD_change','MACDsig_change','MACDhist_change','CCI_change','PB_change','W%R_change','plus_di_updiv', 'minus_di_updiv', 'adx_updiv', 'RSI_updiv', 'K_updiv', 'D_updiv', 'MACD_updiv', 'MACDsig_updiv', 'MACDhist_updiv', 'CCI_updiv','plus_di_downdiv', 'minus_di_downdiv', 'adx_downdiv', 'RSI_downdiv', 'K_downdiv', 'D_downdiv', 'MACD_downdiv', 'MACDsig_downdiv', 'MACDhist_downdiv', 'CCI_downdiv']\n",
        "    cool=[]\n",
        "    for hgz in col:\n",
        "        cool.append(f'{i}_'+hgz)\n",
        "    \n",
        "    df.columns = ['Date']+cool\n",
        "\n",
        "\n",
        "    if k==0:\n",
        "        data2=df\n",
        "    else:\n",
        "        # 합치기\n",
        "        data2=pd.merge(df, data2)\n",
        "    gc.collect()\n",
        "\n",
        "\n",
        "# data2=pd.merge(data, data2)\n",
        "# gc.collect()\n",
        "# print('done')"
      ],
      "metadata": {
        "id": "zQgBndHjqdfF"
      },
      "execution_count": null,
      "outputs": []
    },
    {
      "cell_type": "code",
      "source": [
        "df.isna().sum()"
      ],
      "metadata": {
        "colab": {
          "base_uri": "https://localhost:8080/"
        },
        "id": "m5Ohb7O-ehMR",
        "outputId": "5d489789-7844-45b1-8b5d-12a52a507899"
      },
      "execution_count": null,
      "outputs": [
        {
          "output_type": "execute_result",
          "data": {
            "text/plain": [
              "Date                    0\n",
              "Open                   31\n",
              "High                   31\n",
              "Low                    31\n",
              "Close                  31\n",
              "Adj Close              31\n",
              "ma7                   126\n",
              "ma25                  400\n",
              "ma99                 1231\n",
              "ma5                    94\n",
              "ma10                  174\n",
              "ma20                  330\n",
              "ma60                  833\n",
              "ma120                1420\n",
              "ma50                  718\n",
              "ma100                1240\n",
              "ma200                2140\n",
              "max14                 238\n",
              "min14                 238\n",
              "highest_high          330\n",
              "lowest_low            330\n",
              "after20                49\n",
              "highest_high_past     330\n",
              "lowest_low_past       330\n",
              "dp7                   126\n",
              "dp25                  400\n",
              "dp99                 1231\n",
              "dp5                    94\n",
              "dp10                  174\n",
              "dp20                  330\n",
              "dp60                  833\n",
              "dp120                1420\n",
              "dp50                  718\n",
              "dp100                1240\n",
              "dp200                2140\n",
              "stddev                330\n",
              "upper                 330\n",
              "lower                 330\n",
              "PB                    330\n",
              "W%R                   238\n",
              "plus_di               238\n",
              "minus_di              238\n",
              "adx                    13\n",
              "RSI                    59\n",
              "K                     298\n",
              "D                     328\n",
              "MACD                   24\n",
              "MACDsig                32\n",
              "MACDhist               32\n",
              "pt                     31\n",
              "sma                   330\n",
              "mad                   330\n",
              "CCI                   330\n",
              "Open_change            46\n",
              "High_change            46\n",
              "Low_change             46\n",
              "Close_change           46\n",
              "after20_rate           80\n",
              "lowest_low_rate       330\n",
              "highest_high_rate     330\n",
              "dtype: int64"
            ]
          },
          "metadata": {},
          "execution_count": 29
        }
      ]
    },
    {
      "cell_type": "code",
      "source": [
        "data2.to_pickle('/content/drive/MyDrive/ColabNotebooks/개인프로젝트/비트코인 /longshort_6.csv')"
      ],
      "metadata": {
        "id": "pH7Wy_g8O__W"
      },
      "execution_count": null,
      "outputs": []
    },
    {
      "cell_type": "markdown",
      "source": [
        "##섹터별 일일변화량 구현/원유 컬럼 추가/S&P 500 지수 추가/코스피 지수 데이터 추가"
      ],
      "metadata": {
        "id": "-NKW-ef9mGrK"
      }
    },
    {
      "cell_type": "code",
      "source": [
        "# data = pd.read_pickle('/content/drive/MyDrive/ColabNotebooks/개인프로젝트/비트코인 /longshort_6.csv')\n",
        "data = pd.read_pickle('/content/drive/MyDrive/ColabNotebooks/개인프로젝트/비트코인 /longshort_5.csv')\n",
        "data['Date']=data['Date'].astype(str)\n",
        "gc.collect()\n",
        "print(len(data))\n",
        "print('done')"
      ],
      "metadata": {
        "id": "64aLN2UcmFdf",
        "colab": {
          "base_uri": "https://localhost:8080/"
        },
        "outputId": "84992de4-5531-4dba-ad4e-a8f104a2a192"
      },
      "execution_count": null,
      "outputs": [
        {
          "output_type": "stream",
          "name": "stdout",
          "text": [
            "3398905\n",
            "done\n"
          ]
        }
      ]
    },
    {
      "cell_type": "code",
      "source": [
        "# # 결측값 제거\n",
        "# data = data.drop(['bank_buy_ratio_change','ant_buy_ratio_change', 'foreigner_buy_ratio_change', 'bank_sell_ratio_change', 'ant_sell_ratio_change', 'foreigner_sell_ratio_change'], axis=1)\n",
        "# data=data.dropna(axis=0)\n",
        "# print(len(data))\n",
        "# # 중복행 없음"
      ],
      "metadata": {
        "id": "7JvayRO8nhX0"
      },
      "execution_count": null,
      "outputs": []
    },
    {
      "cell_type": "code",
      "source": [
        "tker=['^KS11', '^GSPC', 'CL=F']\n",
        "for k in tqdm(range(len(tker))):\n",
        "    i=tker[k]\n",
        "    df = yf.download(tickers= i)\n",
        "    print(i,len(df))\n",
        "    df = df.rename_axis('Date').reset_index()\n",
        "    \n",
        "    # Date 통일화\n",
        "    df['Date']=df['Date'].astype(str)\n",
        "    df['plus']=' 00:00:00+09:00'\n",
        "    df['Date']=df['Date']+df['plus']\n",
        "    df = df.drop(['plus'], axis=1) \n",
        "   \n",
        "    # 이격도 구하기\n",
        "    df['ma7'] = df['Close'].rolling(7).mean()\n",
        "    df['ma25'] = df['Close'].rolling(25).mean()\n",
        "    df['ma99'] = df['Close'].rolling(99).mean()\n",
        "    df['ma5'] = df['Close'].rolling(5).mean()\n",
        "    df['ma10'] = df['Close'].rolling(10).mean()\n",
        "    df['ma20'] = df['Close'].rolling(20).mean()\n",
        "    df['ma60'] = df['Close'].rolling(60).mean()\n",
        "    df['ma120'] = df['Close'].rolling(120).mean()\n",
        "    df['ma50'] = df['Close'].rolling(50).mean()\n",
        "    df['ma100'] = df['Close'].rolling(100).mean()\n",
        "    df['ma200'] = df['Close'].rolling(200).mean()\n",
        "    df['max14'] = df['High'].rolling(14).max()\n",
        "    df['min14'] = df['Low'].rolling(14).min()\n",
        "    df['highest_high'] = df['High'].rolling(20).max().shift(-20)\n",
        "    df['lowest_low'] = df['Low'].rolling(20).min().shift(-20)\n",
        "    df['after20'] = df['Close'].shift(-20)\n",
        "    df['highest_high_past'] = df['High'].rolling(20).max()\n",
        "    df['lowest_low_past'] = df['Low'].rolling(20).min()\n",
        "    \n",
        "    \n",
        "    df['dp7'] = df['Close']/df['ma7']\n",
        "    df['dp25'] = df['Close']/df['ma25']\n",
        "    df['dp99'] = df['Close']/df['ma99']\n",
        "    df['dp5'] = df['Close']/df['ma5']\n",
        "    df['dp10'] = df['Close']/df['ma10']\n",
        "    df['dp20'] = df['Close']/df['ma20']\n",
        "    df['dp60'] = df['Close']/df['ma60']\n",
        "    df['dp120'] = df['Close']/df['ma120']\n",
        "    df['dp50'] = df['Close']/df['ma50']\n",
        "    df['dp100'] = df['Close']/df['ma100']\n",
        "    df['dp200'] = df['Close']/df['ma200']  \n",
        "\n",
        "    # 보조지표값 구하기\n",
        "\n",
        "    df['stddev'] = df['Close'].rolling(window=20).std() # 20일 이동표준편차\n",
        "    df['upper'] = df['ma20'] + 2*df['stddev'] # 상단밴드\n",
        "    df['lower'] = df['ma20'] - 2*df['stddev'] # 하단밴드\n",
        "    df['PB'] = (df['Close'] - df['lower']) / (df['upper'] - df['lower'])\n",
        "    df['W%R'] = (df['max14']-df['Close'])/((df['max14']-df['min14'])*-100)\n",
        "    \n",
        "    df['plus_di'] = pd.DataFrame(get_adx(df['High'], df['Low'], df['Close'], 14)[0]).rename(columns = {0:'plus_di'})\n",
        "    df['minus_di'] = pd.DataFrame(get_adx(df['High'], df['Low'], df['Close'], 14)[1]).rename(columns = {0:'minus_di'})\n",
        "    df['adx'] = pd.DataFrame(get_adx(df['High'], df['Low'], df['Close'], 14)[2]).rename(columns = {0:'adx'})  \n",
        "\n",
        "    df['RSI'] = computeRSI(df['Close'], 14)\n",
        "\n",
        "    df['K'], df['D'] = stochastic(df['RSI'], 3, 3, 14)\n",
        "\n",
        "    df= computeMACD(df, 12, 26, 9)\n",
        "\n",
        "    df = CCI(df)\n",
        "\n",
        "    df['MFI'] = mfi(df['High'], df['Low'], df['Close'], df['Volume'], 14)\n",
        "\n",
        "    # 변화량 컬럼 만들기\n",
        "    lendf=len(df)-2\n",
        "    day_after=df.shift(-1)\n",
        "    day_after=day_after.iloc[1:lendf,:]\n",
        "    yesterday=df.shift(1)\n",
        "    yesterday=yesterday.iloc[1:lendf,:]\n",
        "    df=df.iloc[1:lendf,:]\n",
        "\n",
        "    yesterday = yesterday.reset_index(drop=True)\n",
        "    day_after = day_after.reset_index(drop=True)\n",
        "    df = df.reset_index(drop=True)\n",
        "    \n",
        "    for sanz in ['Open', 'High','Low','Close']:\n",
        "        df[f'{sanz}_change']=(df[sanz]-yesterday[sanz])/yesterday[sanz]\n",
        "    \n",
        "    df['after20_rate']= (df['after20']-day_after['Open']) / day_after['Open']\n",
        "    df['lowest_low_rate']= (df['lowest_low']-day_after['Open']) / day_after['Open']\n",
        "    df['highest_high_rate']= (df['highest_high']-day_after['Open']) / day_after['Open']\n",
        "    \n",
        "\n",
        "    div_size=20\n",
        "    aaa=['plus_di', 'minus_di', 'adx', 'RSI', 'K', 'D', 'MACD', 'MACDsig', 'MACDhist', 'CCI', 'MFI']\n",
        "    for j in aaa:\n",
        "        ok=pd.Series([np.nan]*(div_size-1))\n",
        "        ok2=df.loc[df['High'].rolling(div_size).apply(lambda x: x.idxmax())[(div_size-1):], j]\n",
        "        seri_concat = pd.concat([ok, ok2], ignore_index=True)\n",
        "        df[f'High_{j}']=seri_concat\n",
        "\n",
        "        ok2=df.loc[df['Low'].rolling(div_size).apply(lambda x: x.idxmin())[(div_size-1):], j]\n",
        "        seri_concat = pd.concat([ok, ok2], ignore_index=True)\n",
        "        df[f'Low_{j}']=seri_concat\n",
        "\n",
        "##########################\n",
        "    df=df.dropna(axis=0) \n",
        "#########################\n",
        "\n",
        "    for sanz in ['Volume','plus_di','minus_di','adx','RSI','K','D','MACD','MACDsig','MACDhist','CCI','MFI','PB','W%R']:\n",
        "        df[f'{sanz}_change']=(df[sanz]-yesterday[sanz])/yesterday[sanz]\n",
        "##########################\n",
        "    df = df.fillna(0)\n",
        "##########################\n",
        "    # 히든 다이버전스\n",
        "    aaa=['plus_di', 'minus_di', 'adx', 'RSI', 'K', 'D', 'MACD', 'MACDsig', 'MACDhist', 'CCI', 'MFI']\n",
        "    for j in aaa:\n",
        "        df[f'{j}_updiv'] = 0\n",
        "        df.loc[  ((df['lowest_low_past']-df['Low']) < 0  ) & ( df[f'Low_{j}'] - df[j] > 0) , f'{j}_updiv']= 1\n",
        "        \n",
        "        df[f'{j}_downdiv'] = 0\n",
        "        df.loc[ ((df['highest_high_past']-df['High']) > 0  ) & ( df[f'High_{j}'] - df[j] < 0) , f'{j}_downdiv']= 1\n",
        "\n",
        "\n",
        "    # 레이블만들기\n",
        "    df['tomorrow_pred']=(day_after['Close']-day_after['Open'])/day_after['Open']    \n",
        "\n",
        "    df['long_short']=0\n",
        "    df.loc[df['tomorrow_pred']>0, 'long_short']=1   \n",
        "\n",
        "    df['swing']=0\n",
        "    df.loc[ (df['highest_high_rate']>=0.1) & (df['lowest_low_rate']>-0.05), 'swing']=1\n",
        "    \n",
        "    # 사용할것 pick \n",
        "    df=df.loc[:,['Date','dp7','dp25','dp99','dp5','dp10','dp20','dp60','dp120','dp50','dp100','dp200','plus_di','minus_di','adx','RSI','K','D','CCI','MFI','W%R','PB','Open_change','High_change','Low_change','Close_change','Volume_change','plus_di_change', 'minus_di_change', 'adx_change', 'RSI_change','K_change','D_change','MACD_change','MACDsig_change','MACDhist_change','CCI_change','MFI_change','PB_change','W%R_change', 'plus_di_updiv', 'minus_di_updiv', 'adx_updiv', 'RSI_updiv', 'K_updiv', 'D_updiv', 'MACD_updiv', 'MACDsig_updiv', 'MACDhist_updiv', 'CCI_updiv', 'MFI_updiv','plus_di_downdiv', 'minus_di_downdiv', 'adx_downdiv', 'RSI_downdiv', 'K_downdiv', 'D_downdiv', 'MACD_downdiv', 'MACDsig_downdiv', 'MACDhist_downdiv', 'CCI_downdiv', 'MFI_downdiv']]\n",
        "    col=['dp7','dp25','dp99','dp5','dp10','dp20','dp60','dp120','dp50','dp100','dp200','plus_di','minus_di','adx','RSI','K','D','CCI','MFI','W%R','PB','Open_change','High_change','Low_change','Close_change','Volume_change','plus_di_change', 'minus_di_change', 'adx_change', 'RSI_change','K_change','D_change','MACD_change','MACDsig_change','MACDhist_change','CCI_change','MFI_change','PB_change','W%R_change', 'plus_di_updiv', 'minus_di_updiv', 'adx_updiv', 'RSI_updiv', 'K_updiv', 'D_updiv', 'MACD_updiv', 'MACDsig_updiv', 'MACDhist_updiv', 'CCI_updiv', 'MFI_updiv','plus_di_downdiv', 'minus_di_downdiv', 'adx_downdiv', 'RSI_downdiv', 'K_downdiv', 'D_downdiv', 'MACD_downdiv', 'MACDsig_downdiv', 'MACDhist_downdiv', 'CCI_downdiv', 'MFI_downdiv']\n",
        "    cool=[]\n",
        "    for hgz in col:\n",
        "        cool.append(f'{i}_'+hgz)\n",
        "    \n",
        "    df.columns = ['Date']+cool\n",
        "\n",
        "\n",
        "    if k==0:\n",
        "        data2=df\n",
        "    else:\n",
        "        # 합치기\n",
        "        data2=pd.merge(df, data2)\n",
        "    gc.collect()\n",
        "\n",
        "\n",
        "\n",
        "data2=pd.merge(data, data2)\n",
        "gc.collect()\n",
        "print('done')"
      ],
      "metadata": {
        "id": "1YQPVRRRw-Tq",
        "colab": {
          "base_uri": "https://localhost:8080/"
        },
        "outputId": "90758839-0799-48c0-ae9a-a44b4dd42078"
      },
      "execution_count": null,
      "outputs": [
        {
          "output_type": "stream",
          "name": "stderr",
          "text": [
            "\r  0%|          | 0/3 [00:00<?, ?it/s]"
          ]
        },
        {
          "output_type": "stream",
          "name": "stdout",
          "text": [
            "\r[*********************100%***********************]  1 of 1 completed\n",
            "^KS11 6378\n"
          ]
        },
        {
          "output_type": "stream",
          "name": "stderr",
          "text": [
            "/usr/local/lib/python3.7/dist-packages/ipykernel_launcher.py:106: SettingWithCopyWarning: \n",
            "A value is trying to be set on a copy of a slice from a DataFrame.\n",
            "Try using .loc[row_indexer,col_indexer] = value instead\n",
            "\n",
            "See the caveats in the documentation: https://pandas.pydata.org/pandas-docs/stable/user_guide/indexing.html#returning-a-view-versus-a-copy\n",
            " 33%|███▎      | 1/3 [00:18<00:36, 18.22s/it]"
          ]
        },
        {
          "output_type": "stream",
          "name": "stdout",
          "text": [
            "\r[*********************100%***********************]  1 of 1 completed\n",
            "^GSPC 18326\n"
          ]
        },
        {
          "output_type": "stream",
          "name": "stderr",
          "text": [
            "/usr/local/lib/python3.7/dist-packages/ipykernel_launcher.py:106: SettingWithCopyWarning: \n",
            "A value is trying to be set on a copy of a slice from a DataFrame.\n",
            "Try using .loc[row_indexer,col_indexer] = value instead\n",
            "\n",
            "See the caveats in the documentation: https://pandas.pydata.org/pandas-docs/stable/user_guide/indexing.html#returning-a-view-versus-a-copy\n",
            " 67%|██████▋   | 2/3 [01:10<00:38, 38.12s/it]"
          ]
        },
        {
          "output_type": "stream",
          "name": "stdout",
          "text": [
            "\r[*********************100%***********************]  1 of 1 completed\n",
            "CL=F 5572\n"
          ]
        },
        {
          "output_type": "stream",
          "name": "stderr",
          "text": [
            "/usr/local/lib/python3.7/dist-packages/ipykernel_launcher.py:106: SettingWithCopyWarning: \n",
            "A value is trying to be set on a copy of a slice from a DataFrame.\n",
            "Try using .loc[row_indexer,col_indexer] = value instead\n",
            "\n",
            "See the caveats in the documentation: https://pandas.pydata.org/pandas-docs/stable/user_guide/indexing.html#returning-a-view-versus-a-copy\n",
            "100%|██████████| 3/3 [01:26<00:00, 28.96s/it]\n"
          ]
        },
        {
          "output_type": "stream",
          "name": "stdout",
          "text": [
            "done\n"
          ]
        }
      ]
    },
    {
      "cell_type": "code",
      "source": [
        "# # 섹터별 일일변화량\n",
        "# data['Sector_mean']=data.groupby([\"Date\",'Sector'])['Adj Close_change'].transform('mean')"
      ],
      "metadata": {
        "id": "-T7Ja1Hr9KCT"
      },
      "execution_count": null,
      "outputs": []
    },
    {
      "cell_type": "code",
      "source": [
        "len(data2)\n",
        "data2.isna().sum()"
      ],
      "metadata": {
        "id": "JLDhde5ASeHb",
        "colab": {
          "base_uri": "https://localhost:8080/"
        },
        "outputId": "44759e4d-26cd-4154-d1c5-2d2a96860c42"
      },
      "execution_count": null,
      "outputs": [
        {
          "output_type": "execute_result",
          "data": {
            "text/plain": [
              "Date                           0\n",
              "Symbol                         0\n",
              "bank_buy_ratio                 0\n",
              "bank_buy_ratio_change          0\n",
              "ant_buy_ratio                  0\n",
              "ant_buy_ratio_change           0\n",
              "foreigner_buy_ratio            0\n",
              "foreigner_buy_ratio_change     0\n",
              "bank_sell_ratio                0\n",
              "bank_sell_ratio_change         0\n",
              "ant_sell_ratio                 0\n",
              "ant_sell_ratio_change          0\n",
              "foreigner_sell_ratio           0\n",
              "foreigner_sell_ratio_change    0\n",
              "BPS                            0\n",
              "PER                            0\n",
              "PBR                            0\n",
              "EPS                            0\n",
              "DIV                            0\n",
              "DPS                            0\n",
              "dp7                            0\n",
              "dp25                           0\n",
              "dp99                           0\n",
              "dp5                            0\n",
              "dp10                           0\n",
              "dp20                           0\n",
              "dp60                           0\n",
              "dp120                          0\n",
              "dp50                           0\n",
              "dp100                          0\n",
              "dp200                          0\n",
              "plus_di                        0\n",
              "minus_di                       0\n",
              "adx                            0\n",
              "RSI                            0\n",
              "K                              0\n",
              "D                              0\n",
              "CCI                            0\n",
              "MFI                            0\n",
              "W%R                            0\n",
              "PB                             0\n",
              "Open_change                    0\n",
              "High_change                    0\n",
              "Low_change                     0\n",
              "Close_change                   0\n",
              "Volume_change                  0\n",
              "plus_di_change                 0\n",
              "minus_di_change                0\n",
              "adx_change                     0\n",
              "RSI_change                     0\n",
              "K_change                       0\n",
              "D_change                       0\n",
              "MACD_change                    0\n",
              "MACDsig_change                 0\n",
              "MACDhist_change                0\n",
              "CCI_change                     0\n",
              "MFI_change                     0\n",
              "PB_change                      0\n",
              "W%R_change                     0\n",
              "swing                          0\n",
              "highest_high_rate              0\n",
              "lowest_low_rate                0\n",
              "after20_rate                   0\n",
              "tomorrow_pred                  0\n",
              "long_short                     0\n",
              "plus_di_updiv                  0\n",
              "minus_di_updiv                 0\n",
              "adx_updiv                      0\n",
              "RSI_updiv                      0\n",
              "K_updiv                        0\n",
              "D_updiv                        0\n",
              "MACD_updiv                     0\n",
              "MACDsig_updiv                  0\n",
              "MACDhist_updiv                 0\n",
              "CCI_updiv                      0\n",
              "MFI_updiv                      0\n",
              "plus_di_downdiv                0\n",
              "minus_di_downdiv               0\n",
              "adx_downdiv                    0\n",
              "RSI_downdiv                    0\n",
              "K_downdiv                      0\n",
              "D_downdiv                      0\n",
              "MACD_downdiv                   0\n",
              "MACDsig_downdiv                0\n",
              "MACDhist_downdiv               0\n",
              "CCI_downdiv                    0\n",
              "MFI_downdiv                    0\n",
              "got                            0\n",
              "limit_gone                     0\n",
              "공매도비중                          0\n",
              "3년국채수익률                        0\n",
              "3년국채수익률대비                      0\n",
              "10년국채수익률                       0\n",
              "10년국채수익률대비                     0\n",
              "CL=F_dp7                       0\n",
              "CL=F_dp25                      0\n",
              "CL=F_dp99                      0\n",
              "CL=F_dp5                       0\n",
              "CL=F_dp10                      0\n",
              "CL=F_dp20                      0\n",
              "CL=F_dp60                      0\n",
              "CL=F_dp120                     0\n",
              "CL=F_dp50                      0\n",
              "CL=F_dp100                     0\n",
              "CL=F_dp200                     0\n",
              "CL=F_plus_di                   0\n",
              "CL=F_minus_di                  0\n",
              "CL=F_adx                       0\n",
              "CL=F_RSI                       0\n",
              "CL=F_K                         0\n",
              "CL=F_D                         0\n",
              "CL=F_CCI                       0\n",
              "CL=F_MFI                       0\n",
              "CL=F_W%R                       0\n",
              "CL=F_PB                        0\n",
              "CL=F_Open_change               0\n",
              "CL=F_High_change               0\n",
              "CL=F_Low_change                0\n",
              "CL=F_Close_change              0\n",
              "CL=F_Volume_change             0\n",
              "CL=F_plus_di_change            0\n",
              "CL=F_minus_di_change           0\n",
              "CL=F_adx_change                0\n",
              "CL=F_RSI_change                0\n",
              "CL=F_K_change                  0\n",
              "CL=F_D_change                  0\n",
              "CL=F_MACD_change               0\n",
              "CL=F_MACDsig_change            0\n",
              "CL=F_MACDhist_change           0\n",
              "CL=F_CCI_change                0\n",
              "CL=F_MFI_change                0\n",
              "CL=F_PB_change                 0\n",
              "CL=F_W%R_change                0\n",
              "CL=F_plus_di_updiv             0\n",
              "CL=F_minus_di_updiv            0\n",
              "CL=F_adx_updiv                 0\n",
              "CL=F_RSI_updiv                 0\n",
              "CL=F_K_updiv                   0\n",
              "CL=F_D_updiv                   0\n",
              "CL=F_MACD_updiv                0\n",
              "CL=F_MACDsig_updiv             0\n",
              "CL=F_MACDhist_updiv            0\n",
              "CL=F_CCI_updiv                 0\n",
              "CL=F_MFI_updiv                 0\n",
              "CL=F_plus_di_downdiv           0\n",
              "CL=F_minus_di_downdiv          0\n",
              "CL=F_adx_downdiv               0\n",
              "CL=F_RSI_downdiv               0\n",
              "CL=F_K_downdiv                 0\n",
              "CL=F_D_downdiv                 0\n",
              "CL=F_MACD_downdiv              0\n",
              "CL=F_MACDsig_downdiv           0\n",
              "CL=F_MACDhist_downdiv          0\n",
              "CL=F_CCI_downdiv               0\n",
              "CL=F_MFI_downdiv               0\n",
              "^GSPC_dp7                      0\n",
              "^GSPC_dp25                     0\n",
              "^GSPC_dp99                     0\n",
              "^GSPC_dp5                      0\n",
              "^GSPC_dp10                     0\n",
              "^GSPC_dp20                     0\n",
              "^GSPC_dp60                     0\n",
              "^GSPC_dp120                    0\n",
              "^GSPC_dp50                     0\n",
              "^GSPC_dp100                    0\n",
              "^GSPC_dp200                    0\n",
              "^GSPC_plus_di                  0\n",
              "^GSPC_minus_di                 0\n",
              "^GSPC_adx                      0\n",
              "^GSPC_RSI                      0\n",
              "^GSPC_K                        0\n",
              "^GSPC_D                        0\n",
              "^GSPC_CCI                      0\n",
              "^GSPC_MFI                      0\n",
              "^GSPC_W%R                      0\n",
              "^GSPC_PB                       0\n",
              "^GSPC_Open_change              0\n",
              "^GSPC_High_change              0\n",
              "^GSPC_Low_change               0\n",
              "^GSPC_Close_change             0\n",
              "^GSPC_Volume_change            0\n",
              "^GSPC_plus_di_change           0\n",
              "^GSPC_minus_di_change          0\n",
              "^GSPC_adx_change               0\n",
              "^GSPC_RSI_change               0\n",
              "^GSPC_K_change                 0\n",
              "^GSPC_D_change                 0\n",
              "^GSPC_MACD_change              0\n",
              "^GSPC_MACDsig_change           0\n",
              "^GSPC_MACDhist_change          0\n",
              "^GSPC_CCI_change               0\n",
              "^GSPC_MFI_change               0\n",
              "^GSPC_PB_change                0\n",
              "^GSPC_W%R_change               0\n",
              "^GSPC_plus_di_updiv            0\n",
              "^GSPC_minus_di_updiv           0\n",
              "^GSPC_adx_updiv                0\n",
              "^GSPC_RSI_updiv                0\n",
              "^GSPC_K_updiv                  0\n",
              "^GSPC_D_updiv                  0\n",
              "^GSPC_MACD_updiv               0\n",
              "^GSPC_MACDsig_updiv            0\n",
              "^GSPC_MACDhist_updiv           0\n",
              "^GSPC_CCI_updiv                0\n",
              "^GSPC_MFI_updiv                0\n",
              "^GSPC_plus_di_downdiv          0\n",
              "^GSPC_minus_di_downdiv         0\n",
              "^GSPC_adx_downdiv              0\n",
              "^GSPC_RSI_downdiv              0\n",
              "^GSPC_K_downdiv                0\n",
              "^GSPC_D_downdiv                0\n",
              "^GSPC_MACD_downdiv             0\n",
              "^GSPC_MACDsig_downdiv          0\n",
              "^GSPC_MACDhist_downdiv         0\n",
              "^GSPC_CCI_downdiv              0\n",
              "^GSPC_MFI_downdiv              0\n",
              "^KS11_dp7                      0\n",
              "^KS11_dp25                     0\n",
              "^KS11_dp99                     0\n",
              "^KS11_dp5                      0\n",
              "^KS11_dp10                     0\n",
              "^KS11_dp20                     0\n",
              "^KS11_dp60                     0\n",
              "^KS11_dp120                    0\n",
              "^KS11_dp50                     0\n",
              "^KS11_dp100                    0\n",
              "^KS11_dp200                    0\n",
              "^KS11_plus_di                  0\n",
              "^KS11_minus_di                 0\n",
              "^KS11_adx                      0\n",
              "^KS11_RSI                      0\n",
              "^KS11_K                        0\n",
              "^KS11_D                        0\n",
              "^KS11_CCI                      0\n",
              "^KS11_MFI                      0\n",
              "^KS11_W%R                      0\n",
              "^KS11_PB                       0\n",
              "^KS11_Open_change              0\n",
              "^KS11_High_change              0\n",
              "^KS11_Low_change               0\n",
              "^KS11_Close_change             0\n",
              "^KS11_Volume_change            0\n",
              "^KS11_plus_di_change           0\n",
              "^KS11_minus_di_change          0\n",
              "^KS11_adx_change               0\n",
              "^KS11_RSI_change               0\n",
              "^KS11_K_change                 0\n",
              "^KS11_D_change                 0\n",
              "^KS11_MACD_change              0\n",
              "^KS11_MACDsig_change           0\n",
              "^KS11_MACDhist_change          0\n",
              "^KS11_CCI_change               0\n",
              "^KS11_MFI_change               0\n",
              "^KS11_PB_change                0\n",
              "^KS11_W%R_change               0\n",
              "^KS11_plus_di_updiv            0\n",
              "^KS11_minus_di_updiv           0\n",
              "^KS11_adx_updiv                0\n",
              "^KS11_RSI_updiv                0\n",
              "^KS11_K_updiv                  0\n",
              "^KS11_D_updiv                  0\n",
              "^KS11_MACD_updiv               0\n",
              "^KS11_MACDsig_updiv            0\n",
              "^KS11_MACDhist_updiv           0\n",
              "^KS11_CCI_updiv                0\n",
              "^KS11_MFI_updiv                0\n",
              "^KS11_plus_di_downdiv          0\n",
              "^KS11_minus_di_downdiv         0\n",
              "^KS11_adx_downdiv              0\n",
              "^KS11_RSI_downdiv              0\n",
              "^KS11_K_downdiv                0\n",
              "^KS11_D_downdiv                0\n",
              "^KS11_MACD_downdiv             0\n",
              "^KS11_MACDsig_downdiv          0\n",
              "^KS11_MACDhist_downdiv         0\n",
              "^KS11_CCI_downdiv              0\n",
              "^KS11_MFI_downdiv              0\n",
              "dtype: int64"
            ]
          },
          "metadata": {},
          "execution_count": 39
        }
      ]
    },
    {
      "cell_type": "code",
      "source": [
        "data2.to_pickle('/content/drive/MyDrive/ColabNotebooks/개인프로젝트/비트코인 /longshort_7.csv')"
      ],
      "metadata": {
        "id": "4Zh1UcpDEpSD"
      },
      "execution_count": null,
      "outputs": []
    },
    {
      "cell_type": "markdown",
      "source": [
        "##데이터 정보"
      ],
      "metadata": {
        "id": "RKgJCpMQAt_6"
      }
    },
    {
      "cell_type": "code",
      "source": [
        "data['Date'] = pd.to_datetime(data['Date'])\n",
        "data=data.sort_values('Date') \n",
        "data = data.reset_index(drop=True)\n",
        "\n",
        "a=data['Date'].nunique()\n",
        "b=data['Symbol'].nunique()\n",
        "c=len(data.columns.values)\n",
        "print(f'로우개수: {len(data)}')\n",
        "print(f'컬럼개수: {c}')\n",
        "print(f'{a}일분량의 거래일 데이터 사용됨')\n",
        "print(f'{b}개의 종목데이터 사용됨')\n",
        "# 2001-12-20 ~ 2022-09-28 동안의 거래일 데이터 사용 "
      ],
      "metadata": {
        "id": "qUc7unEv_-1k",
        "colab": {
          "base_uri": "https://localhost:8080/"
        },
        "outputId": "bb59ead9-c610-4470-c595-cf5238a28537"
      },
      "execution_count": null,
      "outputs": [
        {
          "output_type": "stream",
          "name": "stdout",
          "text": [
            "로우개수: 3479480\n",
            "컬럼개수: 277\n",
            "4957일분량의 거래일 데이터 사용됨\n",
            "906개의 종목데이터 사용됨\n"
          ]
        }
      ]
    },
    {
      "cell_type": "code",
      "source": [
        "data.head(1)"
      ],
      "metadata": {
        "id": "1Se_6vmECyGs",
        "colab": {
          "base_uri": "https://localhost:8080/",
          "height": 301
        },
        "outputId": "fa56c4e5-61f8-43f9-a0d3-2c05dfe1967d"
      },
      "execution_count": null,
      "outputs": [
        {
          "output_type": "execute_result",
          "data": {
            "text/plain": [
              "                       Date  Symbol  bank_buy_ratio  bank_buy_ratio_change  \\\n",
              "0 2001-12-20 00:00:00+09:00  002600             0.0                    0.0   \n",
              "\n",
              "   ant_buy_ratio  ant_buy_ratio_change  foreigner_buy_ratio  \\\n",
              "0            1.0                   0.0                  0.0   \n",
              "\n",
              "   foreigner_buy_ratio_change  bank_sell_ratio  bank_sell_ratio_change  \\\n",
              "0                         0.0              0.0                     0.0   \n",
              "\n",
              "   ant_sell_ratio  ant_sell_ratio_change  foreigner_sell_ratio  \\\n",
              "0           0.275                 -0.527                 0.725   \n",
              "\n",
              "   foreigner_sell_ratio_change  BPS   PER  PBR    EPS   DIV   DPS       dp7  \\\n",
              "0                     0.731944    0  1.74  0.0  23027  7.49  3000  0.968561   \n",
              "\n",
              "       dp25      dp99       dp5      dp10      dp20      dp60     dp120  \\\n",
              "0  0.972135  1.044617  0.976353  0.976472  0.975521  1.021184  1.033715   \n",
              "\n",
              "       dp50     dp100     dp200    plus_di   minus_di        adx        RSI  \\\n",
              "0  1.000775  1.044165  1.014862  37.595813  25.977393  35.391266  46.720177   \n",
              "\n",
              "          K          D        CCI        MFI       W%R        PB  Open_change  \\\n",
              "0  24.34931  34.474934 -70.480549  51.650271 -0.009059  0.231318     0.002454   \n",
              "\n",
              "   High_change  Low_change  Close_change  Volume_change  plus_di_change  \\\n",
              "0          0.0   -0.001247     -0.002491            0.0         0.07724   \n",
              "\n",
              "   minus_di_change  adx_change  RSI_change  K_change  D_change  MACD_change  \\\n",
              "0         0.088236   -0.034946   -0.008549  -0.28579  -0.13289    -0.338168   \n",
              "\n",
              "   MACDsig_change  MACDhist_change  CCI_change  MFI_change  PB_change  \\\n",
              "0       -0.101491         0.587129   -0.043936   -0.307022  -0.020375   \n",
              "\n",
              "   W%R_change  swing  highest_high_rate  lowest_low_rate  after20_rate  \\\n",
              "0    0.023529      0           0.123623        -0.073439     -0.050184   \n",
              "\n",
              "   tomorrow_pred  long_short  plus_di_updiv  minus_di_updiv  adx_updiv  \\\n",
              "0      -0.003672           0              0               0          1   \n",
              "\n",
              "   RSI_updiv  K_updiv  D_updiv  MACD_updiv  MACDsig_updiv  MACDhist_updiv  \\\n",
              "0          1        0        0           1              1               0   \n",
              "\n",
              "   CCI_updiv  MFI_updiv  plus_di_downdiv  minus_di_downdiv  adx_downdiv  \\\n",
              "0          1          0                0                 1            1   \n",
              "\n",
              "   RSI_downdiv  K_downdiv  D_downdiv  MACD_downdiv  MACDsig_downdiv  \\\n",
              "0            0          0          1             0                0   \n",
              "\n",
              "   MACDhist_downdiv  CCI_downdiv  MFI_downdiv       got  limit_gone  공매도비중  \\\n",
              "0                 0            0            0  1.070312    1.070312    0.0   \n",
              "\n",
              "   3년국채수익률  3년국채수익률대비  10년국채수익률  10년국채수익률대비  CL=F_dp7  CL=F_dp25  CL=F_dp99  \\\n",
              "0     5.88       0.05      6.99        0.05  1.011467   1.018618   0.832103   \n",
              "\n",
              "   CL=F_dp5  CL=F_dp10  CL=F_dp20  CL=F_dp60  CL=F_dp120  CL=F_dp50  \\\n",
              "0  0.994327   1.020538   1.011808   0.933249    0.812622   0.951732   \n",
              "\n",
              "   CL=F_dp100  CL=F_dp200  CL=F_plus_di  CL=F_minus_di   CL=F_adx  CL=F_RSI  \\\n",
              "0    0.830827    0.759526      26.41316      30.885597  20.469101  48.75079   \n",
              "\n",
              "      CL=F_K     CL=F_D   CL=F_CCI   CL=F_MFI  CL=F_W%R   CL=F_PB  \\\n",
              "0  89.709857  92.928622  66.839317  43.502694 -0.004519  0.599066   \n",
              "\n",
              "   CL=F_Open_change  CL=F_High_change  CL=F_Low_change  CL=F_Close_change  \\\n",
              "0          0.002519         -0.001487        -0.029367          -0.026263   \n",
              "\n",
              "   CL=F_Volume_change  CL=F_plus_di_change  CL=F_minus_di_change  \\\n",
              "0           -0.047255            -0.058436              0.113696   \n",
              "\n",
              "   CL=F_adx_change  CL=F_RSI_change  CL=F_K_change  CL=F_D_change  \\\n",
              "0        -0.067883        -0.071209      -0.062572       0.100748   \n",
              "\n",
              "   CL=F_MACD_change  CL=F_MACDsig_change  CL=F_MACDhist_change  \\\n",
              "0           -0.1184            -0.091261             -0.047595   \n",
              "\n",
              "   CL=F_CCI_change  CL=F_MFI_change  CL=F_PB_change  CL=F_W%R_change  \\\n",
              "0        -0.479784        -0.137547       -0.279995         0.742854   \n",
              "\n",
              "   CL=F_plus_di_updiv  CL=F_minus_di_updiv  CL=F_adx_updiv  CL=F_RSI_updiv  \\\n",
              "0                   0                    1               1               0   \n",
              "\n",
              "   CL=F_K_updiv  CL=F_D_updiv  CL=F_MACD_updiv  CL=F_MACDsig_updiv  \\\n",
              "0             0             0                0                   0   \n",
              "\n",
              "   CL=F_MACDhist_updiv  CL=F_CCI_updiv  CL=F_MFI_updiv  CL=F_plus_di_downdiv  \\\n",
              "0                    0               0               1                     1   \n",
              "\n",
              "   CL=F_minus_di_downdiv  CL=F_adx_downdiv  CL=F_RSI_downdiv  CL=F_K_downdiv  \\\n",
              "0                      1                 0                 0               1   \n",
              "\n",
              "   CL=F_D_downdiv  CL=F_MACD_downdiv  CL=F_MACDsig_downdiv  \\\n",
              "0               1                  1                     1   \n",
              "\n",
              "   CL=F_MACDhist_downdiv  CL=F_CCI_downdiv  CL=F_MFI_downdiv  ^GSPC_dp7  \\\n",
              "0                      1                 1                 1   1.004178   \n",
              "\n",
              "   ^GSPC_dp25  ^GSPC_dp99  ^GSPC_dp5  ^GSPC_dp10  ^GSPC_dp20  ^GSPC_dp60  \\\n",
              "0     0.99747    1.017839   1.001721    1.001581    0.997363    1.027922   \n",
              "\n",
              "   ^GSPC_dp120  ^GSPC_dp50  ^GSPC_dp100  ^GSPC_dp200  ^GSPC_plus_di  \\\n",
              "0     1.004279    1.018249     1.017085      0.97464      26.785595   \n",
              "\n",
              "   ^GSPC_minus_di  ^GSPC_adx  ^GSPC_RSI    ^GSPC_K    ^GSPC_D  ^GSPC_CCI  \\\n",
              "0       24.164182  11.130722  52.021198  46.181178  39.203057   8.157904   \n",
              "\n",
              "   ^GSPC_MFI  ^GSPC_W%R  ^GSPC_PB  ^GSPC_Open_change  ^GSPC_High_change  \\\n",
              "0  44.794411  -0.005701  0.443969            0.00581          -0.000885   \n",
              "\n",
              "   ^GSPC_Low_change  ^GSPC_Close_change  ^GSPC_Volume_change  \\\n",
              "0          0.004565           -0.008377             0.003771   \n",
              "\n",
              "   ^GSPC_plus_di_change  ^GSPC_minus_di_change  ^GSPC_adx_change  \\\n",
              "0             -0.087427              -0.087427         -0.039723   \n",
              "\n",
              "   ^GSPC_RSI_change  ^GSPC_K_change  ^GSPC_D_change  ^GSPC_MACD_change  \\\n",
              "0         -0.072772        0.051537        0.402527          -0.072866   \n",
              "\n",
              "   ^GSPC_MACDsig_change  ^GSPC_MACDhist_change  ^GSPC_CCI_change  \\\n",
              "0             -0.075611              -0.081205         -0.651841   \n",
              "\n",
              "   ^GSPC_MFI_change  ^GSPC_PB_change  ^GSPC_W%R_change  ^GSPC_plus_di_updiv  \\\n",
              "0         -0.139958        -0.289874          0.400251                    0   \n",
              "\n",
              "   ^GSPC_minus_di_updiv  ^GSPC_adx_updiv  ^GSPC_RSI_updiv  ^GSPC_K_updiv  \\\n",
              "0                     1                1                0              0   \n",
              "\n",
              "   ^GSPC_D_updiv  ^GSPC_MACD_updiv  ^GSPC_MACDsig_updiv  ^GSPC_MACDhist_updiv  \\\n",
              "0              0                 1                    1                     0   \n",
              "\n",
              "   ^GSPC_CCI_updiv  ^GSPC_MFI_updiv  ^GSPC_plus_di_downdiv  \\\n",
              "0                0                0                      0   \n",
              "\n",
              "   ^GSPC_minus_di_downdiv  ^GSPC_adx_downdiv  ^GSPC_RSI_downdiv  \\\n",
              "0                       0                  0                  0   \n",
              "\n",
              "   ^GSPC_K_downdiv  ^GSPC_D_downdiv  ^GSPC_MACD_downdiv  \\\n",
              "0                1                1                   0   \n",
              "\n",
              "   ^GSPC_MACDsig_downdiv  ^GSPC_MACDhist_downdiv  ^GSPC_CCI_downdiv  \\\n",
              "0                      0                       0                  0   \n",
              "\n",
              "   ^GSPC_MFI_downdiv  ^KS11_dp7  ^KS11_dp25  ^KS11_dp99  ^KS11_dp5  \\\n",
              "0                  0   1.005349    1.017071    1.169952   1.016443   \n",
              "\n",
              "   ^KS11_dp10  ^KS11_dp20  ^KS11_dp60  ^KS11_dp120  ^KS11_dp50  ^KS11_dp100  \\\n",
              "0    0.996241    1.003772    1.138625     1.174045    1.104109     1.170662   \n",
              "\n",
              "   ^KS11_dp200  ^KS11_plus_di  ^KS11_minus_di  ^KS11_adx  ^KS11_RSI   ^KS11_K  \\\n",
              "0     1.170924      25.439678       17.887796  35.003373  57.270535  9.649959   \n",
              "\n",
              "   ^KS11_D  ^KS11_CCI  ^KS11_MFI  ^KS11_W%R  ^KS11_PB  ^KS11_Open_change  \\\n",
              "0  3.67672 -15.800979  62.558198  -0.006117  0.531064          -0.005529   \n",
              "\n",
              "   ^KS11_High_change  ^KS11_Low_change  ^KS11_Close_change  \\\n",
              "0           0.018102          0.000327            0.026984   \n",
              "\n",
              "   ^KS11_Volume_change  ^KS11_plus_di_change  ^KS11_minus_di_change  \\\n",
              "0            -0.196941              0.069321              -0.080002   \n",
              "\n",
              "   ^KS11_adx_change  ^KS11_RSI_change  ^KS11_K_change  ^KS11_D_change  \\\n",
              "0         -0.050935          0.099022          5.9917        2.430272   \n",
              "\n",
              "   ^KS11_MACD_change  ^KS11_MACDsig_change  ^KS11_MACDhist_change  \\\n",
              "0          -0.043999             -0.067068              -0.119698   \n",
              "\n",
              "   ^KS11_CCI_change  ^KS11_MFI_change  ^KS11_PB_change  ^KS11_W%R_change  \\\n",
              "0          -0.63833         -0.016642         0.513076         -0.253485   \n",
              "\n",
              "   ^KS11_plus_di_updiv  ^KS11_minus_di_updiv  ^KS11_adx_updiv  \\\n",
              "0                    1                     1                1   \n",
              "\n",
              "   ^KS11_RSI_updiv  ^KS11_K_updiv  ^KS11_D_updiv  ^KS11_MACD_updiv  \\\n",
              "0                1              1              1                 1   \n",
              "\n",
              "   ^KS11_MACDsig_updiv  ^KS11_MACDhist_updiv  ^KS11_CCI_updiv  \\\n",
              "0                    1                     1                1   \n",
              "\n",
              "   ^KS11_MFI_updiv  ^KS11_plus_di_downdiv  ^KS11_minus_di_downdiv  \\\n",
              "0                1                      0                       1   \n",
              "\n",
              "   ^KS11_adx_downdiv  ^KS11_RSI_downdiv  ^KS11_K_downdiv  ^KS11_D_downdiv  \\\n",
              "0                  0                  0                0                0   \n",
              "\n",
              "   ^KS11_MACD_downdiv  ^KS11_MACDsig_downdiv  ^KS11_MACDhist_downdiv  \\\n",
              "0                   0                      0                       0   \n",
              "\n",
              "   ^KS11_CCI_downdiv  ^KS11_MFI_downdiv  \n",
              "0                  0                  0  "
            ],
            "text/html": [
              "\n",
              "  <div id=\"df-417b9987-dc81-42e8-a950-5a37867473bc\">\n",
              "    <div class=\"colab-df-container\">\n",
              "      <div>\n",
              "<style scoped>\n",
              "    .dataframe tbody tr th:only-of-type {\n",
              "        vertical-align: middle;\n",
              "    }\n",
              "\n",
              "    .dataframe tbody tr th {\n",
              "        vertical-align: top;\n",
              "    }\n",
              "\n",
              "    .dataframe thead th {\n",
              "        text-align: right;\n",
              "    }\n",
              "</style>\n",
              "<table border=\"1\" class=\"dataframe\">\n",
              "  <thead>\n",
              "    <tr style=\"text-align: right;\">\n",
              "      <th></th>\n",
              "      <th>Date</th>\n",
              "      <th>Symbol</th>\n",
              "      <th>bank_buy_ratio</th>\n",
              "      <th>bank_buy_ratio_change</th>\n",
              "      <th>ant_buy_ratio</th>\n",
              "      <th>ant_buy_ratio_change</th>\n",
              "      <th>foreigner_buy_ratio</th>\n",
              "      <th>foreigner_buy_ratio_change</th>\n",
              "      <th>bank_sell_ratio</th>\n",
              "      <th>bank_sell_ratio_change</th>\n",
              "      <th>ant_sell_ratio</th>\n",
              "      <th>ant_sell_ratio_change</th>\n",
              "      <th>foreigner_sell_ratio</th>\n",
              "      <th>foreigner_sell_ratio_change</th>\n",
              "      <th>BPS</th>\n",
              "      <th>PER</th>\n",
              "      <th>PBR</th>\n",
              "      <th>EPS</th>\n",
              "      <th>DIV</th>\n",
              "      <th>DPS</th>\n",
              "      <th>dp7</th>\n",
              "      <th>dp25</th>\n",
              "      <th>dp99</th>\n",
              "      <th>dp5</th>\n",
              "      <th>dp10</th>\n",
              "      <th>dp20</th>\n",
              "      <th>dp60</th>\n",
              "      <th>dp120</th>\n",
              "      <th>dp50</th>\n",
              "      <th>dp100</th>\n",
              "      <th>dp200</th>\n",
              "      <th>plus_di</th>\n",
              "      <th>minus_di</th>\n",
              "      <th>adx</th>\n",
              "      <th>RSI</th>\n",
              "      <th>K</th>\n",
              "      <th>D</th>\n",
              "      <th>CCI</th>\n",
              "      <th>MFI</th>\n",
              "      <th>W%R</th>\n",
              "      <th>PB</th>\n",
              "      <th>Open_change</th>\n",
              "      <th>High_change</th>\n",
              "      <th>Low_change</th>\n",
              "      <th>Close_change</th>\n",
              "      <th>Volume_change</th>\n",
              "      <th>plus_di_change</th>\n",
              "      <th>minus_di_change</th>\n",
              "      <th>adx_change</th>\n",
              "      <th>RSI_change</th>\n",
              "      <th>K_change</th>\n",
              "      <th>D_change</th>\n",
              "      <th>MACD_change</th>\n",
              "      <th>MACDsig_change</th>\n",
              "      <th>MACDhist_change</th>\n",
              "      <th>CCI_change</th>\n",
              "      <th>MFI_change</th>\n",
              "      <th>PB_change</th>\n",
              "      <th>W%R_change</th>\n",
              "      <th>swing</th>\n",
              "      <th>highest_high_rate</th>\n",
              "      <th>lowest_low_rate</th>\n",
              "      <th>after20_rate</th>\n",
              "      <th>tomorrow_pred</th>\n",
              "      <th>long_short</th>\n",
              "      <th>plus_di_updiv</th>\n",
              "      <th>minus_di_updiv</th>\n",
              "      <th>adx_updiv</th>\n",
              "      <th>RSI_updiv</th>\n",
              "      <th>K_updiv</th>\n",
              "      <th>D_updiv</th>\n",
              "      <th>MACD_updiv</th>\n",
              "      <th>MACDsig_updiv</th>\n",
              "      <th>MACDhist_updiv</th>\n",
              "      <th>CCI_updiv</th>\n",
              "      <th>MFI_updiv</th>\n",
              "      <th>plus_di_downdiv</th>\n",
              "      <th>minus_di_downdiv</th>\n",
              "      <th>adx_downdiv</th>\n",
              "      <th>RSI_downdiv</th>\n",
              "      <th>K_downdiv</th>\n",
              "      <th>D_downdiv</th>\n",
              "      <th>MACD_downdiv</th>\n",
              "      <th>MACDsig_downdiv</th>\n",
              "      <th>MACDhist_downdiv</th>\n",
              "      <th>CCI_downdiv</th>\n",
              "      <th>MFI_downdiv</th>\n",
              "      <th>got</th>\n",
              "      <th>limit_gone</th>\n",
              "      <th>공매도비중</th>\n",
              "      <th>3년국채수익률</th>\n",
              "      <th>3년국채수익률대비</th>\n",
              "      <th>10년국채수익률</th>\n",
              "      <th>10년국채수익률대비</th>\n",
              "      <th>CL=F_dp7</th>\n",
              "      <th>CL=F_dp25</th>\n",
              "      <th>CL=F_dp99</th>\n",
              "      <th>CL=F_dp5</th>\n",
              "      <th>CL=F_dp10</th>\n",
              "      <th>CL=F_dp20</th>\n",
              "      <th>CL=F_dp60</th>\n",
              "      <th>CL=F_dp120</th>\n",
              "      <th>CL=F_dp50</th>\n",
              "      <th>CL=F_dp100</th>\n",
              "      <th>CL=F_dp200</th>\n",
              "      <th>CL=F_plus_di</th>\n",
              "      <th>CL=F_minus_di</th>\n",
              "      <th>CL=F_adx</th>\n",
              "      <th>CL=F_RSI</th>\n",
              "      <th>CL=F_K</th>\n",
              "      <th>CL=F_D</th>\n",
              "      <th>CL=F_CCI</th>\n",
              "      <th>CL=F_MFI</th>\n",
              "      <th>CL=F_W%R</th>\n",
              "      <th>CL=F_PB</th>\n",
              "      <th>CL=F_Open_change</th>\n",
              "      <th>CL=F_High_change</th>\n",
              "      <th>CL=F_Low_change</th>\n",
              "      <th>CL=F_Close_change</th>\n",
              "      <th>CL=F_Volume_change</th>\n",
              "      <th>CL=F_plus_di_change</th>\n",
              "      <th>CL=F_minus_di_change</th>\n",
              "      <th>CL=F_adx_change</th>\n",
              "      <th>CL=F_RSI_change</th>\n",
              "      <th>CL=F_K_change</th>\n",
              "      <th>CL=F_D_change</th>\n",
              "      <th>CL=F_MACD_change</th>\n",
              "      <th>CL=F_MACDsig_change</th>\n",
              "      <th>CL=F_MACDhist_change</th>\n",
              "      <th>CL=F_CCI_change</th>\n",
              "      <th>CL=F_MFI_change</th>\n",
              "      <th>CL=F_PB_change</th>\n",
              "      <th>CL=F_W%R_change</th>\n",
              "      <th>CL=F_plus_di_updiv</th>\n",
              "      <th>CL=F_minus_di_updiv</th>\n",
              "      <th>CL=F_adx_updiv</th>\n",
              "      <th>CL=F_RSI_updiv</th>\n",
              "      <th>CL=F_K_updiv</th>\n",
              "      <th>CL=F_D_updiv</th>\n",
              "      <th>CL=F_MACD_updiv</th>\n",
              "      <th>CL=F_MACDsig_updiv</th>\n",
              "      <th>CL=F_MACDhist_updiv</th>\n",
              "      <th>CL=F_CCI_updiv</th>\n",
              "      <th>CL=F_MFI_updiv</th>\n",
              "      <th>CL=F_plus_di_downdiv</th>\n",
              "      <th>CL=F_minus_di_downdiv</th>\n",
              "      <th>CL=F_adx_downdiv</th>\n",
              "      <th>CL=F_RSI_downdiv</th>\n",
              "      <th>CL=F_K_downdiv</th>\n",
              "      <th>CL=F_D_downdiv</th>\n",
              "      <th>CL=F_MACD_downdiv</th>\n",
              "      <th>CL=F_MACDsig_downdiv</th>\n",
              "      <th>CL=F_MACDhist_downdiv</th>\n",
              "      <th>CL=F_CCI_downdiv</th>\n",
              "      <th>CL=F_MFI_downdiv</th>\n",
              "      <th>^GSPC_dp7</th>\n",
              "      <th>^GSPC_dp25</th>\n",
              "      <th>^GSPC_dp99</th>\n",
              "      <th>^GSPC_dp5</th>\n",
              "      <th>^GSPC_dp10</th>\n",
              "      <th>^GSPC_dp20</th>\n",
              "      <th>^GSPC_dp60</th>\n",
              "      <th>^GSPC_dp120</th>\n",
              "      <th>^GSPC_dp50</th>\n",
              "      <th>^GSPC_dp100</th>\n",
              "      <th>^GSPC_dp200</th>\n",
              "      <th>^GSPC_plus_di</th>\n",
              "      <th>^GSPC_minus_di</th>\n",
              "      <th>^GSPC_adx</th>\n",
              "      <th>^GSPC_RSI</th>\n",
              "      <th>^GSPC_K</th>\n",
              "      <th>^GSPC_D</th>\n",
              "      <th>^GSPC_CCI</th>\n",
              "      <th>^GSPC_MFI</th>\n",
              "      <th>^GSPC_W%R</th>\n",
              "      <th>^GSPC_PB</th>\n",
              "      <th>^GSPC_Open_change</th>\n",
              "      <th>^GSPC_High_change</th>\n",
              "      <th>^GSPC_Low_change</th>\n",
              "      <th>^GSPC_Close_change</th>\n",
              "      <th>^GSPC_Volume_change</th>\n",
              "      <th>^GSPC_plus_di_change</th>\n",
              "      <th>^GSPC_minus_di_change</th>\n",
              "      <th>^GSPC_adx_change</th>\n",
              "      <th>^GSPC_RSI_change</th>\n",
              "      <th>^GSPC_K_change</th>\n",
              "      <th>^GSPC_D_change</th>\n",
              "      <th>^GSPC_MACD_change</th>\n",
              "      <th>^GSPC_MACDsig_change</th>\n",
              "      <th>^GSPC_MACDhist_change</th>\n",
              "      <th>^GSPC_CCI_change</th>\n",
              "      <th>^GSPC_MFI_change</th>\n",
              "      <th>^GSPC_PB_change</th>\n",
              "      <th>^GSPC_W%R_change</th>\n",
              "      <th>^GSPC_plus_di_updiv</th>\n",
              "      <th>^GSPC_minus_di_updiv</th>\n",
              "      <th>^GSPC_adx_updiv</th>\n",
              "      <th>^GSPC_RSI_updiv</th>\n",
              "      <th>^GSPC_K_updiv</th>\n",
              "      <th>^GSPC_D_updiv</th>\n",
              "      <th>^GSPC_MACD_updiv</th>\n",
              "      <th>^GSPC_MACDsig_updiv</th>\n",
              "      <th>^GSPC_MACDhist_updiv</th>\n",
              "      <th>^GSPC_CCI_updiv</th>\n",
              "      <th>^GSPC_MFI_updiv</th>\n",
              "      <th>^GSPC_plus_di_downdiv</th>\n",
              "      <th>^GSPC_minus_di_downdiv</th>\n",
              "      <th>^GSPC_adx_downdiv</th>\n",
              "      <th>^GSPC_RSI_downdiv</th>\n",
              "      <th>^GSPC_K_downdiv</th>\n",
              "      <th>^GSPC_D_downdiv</th>\n",
              "      <th>^GSPC_MACD_downdiv</th>\n",
              "      <th>^GSPC_MACDsig_downdiv</th>\n",
              "      <th>^GSPC_MACDhist_downdiv</th>\n",
              "      <th>^GSPC_CCI_downdiv</th>\n",
              "      <th>^GSPC_MFI_downdiv</th>\n",
              "      <th>^KS11_dp7</th>\n",
              "      <th>^KS11_dp25</th>\n",
              "      <th>^KS11_dp99</th>\n",
              "      <th>^KS11_dp5</th>\n",
              "      <th>^KS11_dp10</th>\n",
              "      <th>^KS11_dp20</th>\n",
              "      <th>^KS11_dp60</th>\n",
              "      <th>^KS11_dp120</th>\n",
              "      <th>^KS11_dp50</th>\n",
              "      <th>^KS11_dp100</th>\n",
              "      <th>^KS11_dp200</th>\n",
              "      <th>^KS11_plus_di</th>\n",
              "      <th>^KS11_minus_di</th>\n",
              "      <th>^KS11_adx</th>\n",
              "      <th>^KS11_RSI</th>\n",
              "      <th>^KS11_K</th>\n",
              "      <th>^KS11_D</th>\n",
              "      <th>^KS11_CCI</th>\n",
              "      <th>^KS11_MFI</th>\n",
              "      <th>^KS11_W%R</th>\n",
              "      <th>^KS11_PB</th>\n",
              "      <th>^KS11_Open_change</th>\n",
              "      <th>^KS11_High_change</th>\n",
              "      <th>^KS11_Low_change</th>\n",
              "      <th>^KS11_Close_change</th>\n",
              "      <th>^KS11_Volume_change</th>\n",
              "      <th>^KS11_plus_di_change</th>\n",
              "      <th>^KS11_minus_di_change</th>\n",
              "      <th>^KS11_adx_change</th>\n",
              "      <th>^KS11_RSI_change</th>\n",
              "      <th>^KS11_K_change</th>\n",
              "      <th>^KS11_D_change</th>\n",
              "      <th>^KS11_MACD_change</th>\n",
              "      <th>^KS11_MACDsig_change</th>\n",
              "      <th>^KS11_MACDhist_change</th>\n",
              "      <th>^KS11_CCI_change</th>\n",
              "      <th>^KS11_MFI_change</th>\n",
              "      <th>^KS11_PB_change</th>\n",
              "      <th>^KS11_W%R_change</th>\n",
              "      <th>^KS11_plus_di_updiv</th>\n",
              "      <th>^KS11_minus_di_updiv</th>\n",
              "      <th>^KS11_adx_updiv</th>\n",
              "      <th>^KS11_RSI_updiv</th>\n",
              "      <th>^KS11_K_updiv</th>\n",
              "      <th>^KS11_D_updiv</th>\n",
              "      <th>^KS11_MACD_updiv</th>\n",
              "      <th>^KS11_MACDsig_updiv</th>\n",
              "      <th>^KS11_MACDhist_updiv</th>\n",
              "      <th>^KS11_CCI_updiv</th>\n",
              "      <th>^KS11_MFI_updiv</th>\n",
              "      <th>^KS11_plus_di_downdiv</th>\n",
              "      <th>^KS11_minus_di_downdiv</th>\n",
              "      <th>^KS11_adx_downdiv</th>\n",
              "      <th>^KS11_RSI_downdiv</th>\n",
              "      <th>^KS11_K_downdiv</th>\n",
              "      <th>^KS11_D_downdiv</th>\n",
              "      <th>^KS11_MACD_downdiv</th>\n",
              "      <th>^KS11_MACDsig_downdiv</th>\n",
              "      <th>^KS11_MACDhist_downdiv</th>\n",
              "      <th>^KS11_CCI_downdiv</th>\n",
              "      <th>^KS11_MFI_downdiv</th>\n",
              "    </tr>\n",
              "  </thead>\n",
              "  <tbody>\n",
              "    <tr>\n",
              "      <th>0</th>\n",
              "      <td>2001-12-20 00:00:00+09:00</td>\n",
              "      <td>002600</td>\n",
              "      <td>0.0</td>\n",
              "      <td>0.0</td>\n",
              "      <td>1.0</td>\n",
              "      <td>0.0</td>\n",
              "      <td>0.0</td>\n",
              "      <td>0.0</td>\n",
              "      <td>0.0</td>\n",
              "      <td>0.0</td>\n",
              "      <td>0.275</td>\n",
              "      <td>-0.527</td>\n",
              "      <td>0.725</td>\n",
              "      <td>0.731944</td>\n",
              "      <td>0</td>\n",
              "      <td>1.74</td>\n",
              "      <td>0.0</td>\n",
              "      <td>23027</td>\n",
              "      <td>7.49</td>\n",
              "      <td>3000</td>\n",
              "      <td>0.968561</td>\n",
              "      <td>0.972135</td>\n",
              "      <td>1.044617</td>\n",
              "      <td>0.976353</td>\n",
              "      <td>0.976472</td>\n",
              "      <td>0.975521</td>\n",
              "      <td>1.021184</td>\n",
              "      <td>1.033715</td>\n",
              "      <td>1.000775</td>\n",
              "      <td>1.044165</td>\n",
              "      <td>1.014862</td>\n",
              "      <td>37.595813</td>\n",
              "      <td>25.977393</td>\n",
              "      <td>35.391266</td>\n",
              "      <td>46.720177</td>\n",
              "      <td>24.34931</td>\n",
              "      <td>34.474934</td>\n",
              "      <td>-70.480549</td>\n",
              "      <td>51.650271</td>\n",
              "      <td>-0.009059</td>\n",
              "      <td>0.231318</td>\n",
              "      <td>0.002454</td>\n",
              "      <td>0.0</td>\n",
              "      <td>-0.001247</td>\n",
              "      <td>-0.002491</td>\n",
              "      <td>0.0</td>\n",
              "      <td>0.07724</td>\n",
              "      <td>0.088236</td>\n",
              "      <td>-0.034946</td>\n",
              "      <td>-0.008549</td>\n",
              "      <td>-0.28579</td>\n",
              "      <td>-0.13289</td>\n",
              "      <td>-0.338168</td>\n",
              "      <td>-0.101491</td>\n",
              "      <td>0.587129</td>\n",
              "      <td>-0.043936</td>\n",
              "      <td>-0.307022</td>\n",
              "      <td>-0.020375</td>\n",
              "      <td>0.023529</td>\n",
              "      <td>0</td>\n",
              "      <td>0.123623</td>\n",
              "      <td>-0.073439</td>\n",
              "      <td>-0.050184</td>\n",
              "      <td>-0.003672</td>\n",
              "      <td>0</td>\n",
              "      <td>0</td>\n",
              "      <td>0</td>\n",
              "      <td>1</td>\n",
              "      <td>1</td>\n",
              "      <td>0</td>\n",
              "      <td>0</td>\n",
              "      <td>1</td>\n",
              "      <td>1</td>\n",
              "      <td>0</td>\n",
              "      <td>1</td>\n",
              "      <td>0</td>\n",
              "      <td>0</td>\n",
              "      <td>1</td>\n",
              "      <td>1</td>\n",
              "      <td>0</td>\n",
              "      <td>0</td>\n",
              "      <td>1</td>\n",
              "      <td>0</td>\n",
              "      <td>0</td>\n",
              "      <td>0</td>\n",
              "      <td>0</td>\n",
              "      <td>0</td>\n",
              "      <td>1.070312</td>\n",
              "      <td>1.070312</td>\n",
              "      <td>0.0</td>\n",
              "      <td>5.88</td>\n",
              "      <td>0.05</td>\n",
              "      <td>6.99</td>\n",
              "      <td>0.05</td>\n",
              "      <td>1.011467</td>\n",
              "      <td>1.018618</td>\n",
              "      <td>0.832103</td>\n",
              "      <td>0.994327</td>\n",
              "      <td>1.020538</td>\n",
              "      <td>1.011808</td>\n",
              "      <td>0.933249</td>\n",
              "      <td>0.812622</td>\n",
              "      <td>0.951732</td>\n",
              "      <td>0.830827</td>\n",
              "      <td>0.759526</td>\n",
              "      <td>26.41316</td>\n",
              "      <td>30.885597</td>\n",
              "      <td>20.469101</td>\n",
              "      <td>48.75079</td>\n",
              "      <td>89.709857</td>\n",
              "      <td>92.928622</td>\n",
              "      <td>66.839317</td>\n",
              "      <td>43.502694</td>\n",
              "      <td>-0.004519</td>\n",
              "      <td>0.599066</td>\n",
              "      <td>0.002519</td>\n",
              "      <td>-0.001487</td>\n",
              "      <td>-0.029367</td>\n",
              "      <td>-0.026263</td>\n",
              "      <td>-0.047255</td>\n",
              "      <td>-0.058436</td>\n",
              "      <td>0.113696</td>\n",
              "      <td>-0.067883</td>\n",
              "      <td>-0.071209</td>\n",
              "      <td>-0.062572</td>\n",
              "      <td>0.100748</td>\n",
              "      <td>-0.1184</td>\n",
              "      <td>-0.091261</td>\n",
              "      <td>-0.047595</td>\n",
              "      <td>-0.479784</td>\n",
              "      <td>-0.137547</td>\n",
              "      <td>-0.279995</td>\n",
              "      <td>0.742854</td>\n",
              "      <td>0</td>\n",
              "      <td>1</td>\n",
              "      <td>1</td>\n",
              "      <td>0</td>\n",
              "      <td>0</td>\n",
              "      <td>0</td>\n",
              "      <td>0</td>\n",
              "      <td>0</td>\n",
              "      <td>0</td>\n",
              "      <td>0</td>\n",
              "      <td>1</td>\n",
              "      <td>1</td>\n",
              "      <td>1</td>\n",
              "      <td>0</td>\n",
              "      <td>0</td>\n",
              "      <td>1</td>\n",
              "      <td>1</td>\n",
              "      <td>1</td>\n",
              "      <td>1</td>\n",
              "      <td>1</td>\n",
              "      <td>1</td>\n",
              "      <td>1</td>\n",
              "      <td>1.004178</td>\n",
              "      <td>0.99747</td>\n",
              "      <td>1.017839</td>\n",
              "      <td>1.001721</td>\n",
              "      <td>1.001581</td>\n",
              "      <td>0.997363</td>\n",
              "      <td>1.027922</td>\n",
              "      <td>1.004279</td>\n",
              "      <td>1.018249</td>\n",
              "      <td>1.017085</td>\n",
              "      <td>0.97464</td>\n",
              "      <td>26.785595</td>\n",
              "      <td>24.164182</td>\n",
              "      <td>11.130722</td>\n",
              "      <td>52.021198</td>\n",
              "      <td>46.181178</td>\n",
              "      <td>39.203057</td>\n",
              "      <td>8.157904</td>\n",
              "      <td>44.794411</td>\n",
              "      <td>-0.005701</td>\n",
              "      <td>0.443969</td>\n",
              "      <td>0.00581</td>\n",
              "      <td>-0.000885</td>\n",
              "      <td>0.004565</td>\n",
              "      <td>-0.008377</td>\n",
              "      <td>0.003771</td>\n",
              "      <td>-0.087427</td>\n",
              "      <td>-0.087427</td>\n",
              "      <td>-0.039723</td>\n",
              "      <td>-0.072772</td>\n",
              "      <td>0.051537</td>\n",
              "      <td>0.402527</td>\n",
              "      <td>-0.072866</td>\n",
              "      <td>-0.075611</td>\n",
              "      <td>-0.081205</td>\n",
              "      <td>-0.651841</td>\n",
              "      <td>-0.139958</td>\n",
              "      <td>-0.289874</td>\n",
              "      <td>0.400251</td>\n",
              "      <td>0</td>\n",
              "      <td>1</td>\n",
              "      <td>1</td>\n",
              "      <td>0</td>\n",
              "      <td>0</td>\n",
              "      <td>0</td>\n",
              "      <td>1</td>\n",
              "      <td>1</td>\n",
              "      <td>0</td>\n",
              "      <td>0</td>\n",
              "      <td>0</td>\n",
              "      <td>0</td>\n",
              "      <td>0</td>\n",
              "      <td>0</td>\n",
              "      <td>0</td>\n",
              "      <td>1</td>\n",
              "      <td>1</td>\n",
              "      <td>0</td>\n",
              "      <td>0</td>\n",
              "      <td>0</td>\n",
              "      <td>0</td>\n",
              "      <td>0</td>\n",
              "      <td>1.005349</td>\n",
              "      <td>1.017071</td>\n",
              "      <td>1.169952</td>\n",
              "      <td>1.016443</td>\n",
              "      <td>0.996241</td>\n",
              "      <td>1.003772</td>\n",
              "      <td>1.138625</td>\n",
              "      <td>1.174045</td>\n",
              "      <td>1.104109</td>\n",
              "      <td>1.170662</td>\n",
              "      <td>1.170924</td>\n",
              "      <td>25.439678</td>\n",
              "      <td>17.887796</td>\n",
              "      <td>35.003373</td>\n",
              "      <td>57.270535</td>\n",
              "      <td>9.649959</td>\n",
              "      <td>3.67672</td>\n",
              "      <td>-15.800979</td>\n",
              "      <td>62.558198</td>\n",
              "      <td>-0.006117</td>\n",
              "      <td>0.531064</td>\n",
              "      <td>-0.005529</td>\n",
              "      <td>0.018102</td>\n",
              "      <td>0.000327</td>\n",
              "      <td>0.026984</td>\n",
              "      <td>-0.196941</td>\n",
              "      <td>0.069321</td>\n",
              "      <td>-0.080002</td>\n",
              "      <td>-0.050935</td>\n",
              "      <td>0.099022</td>\n",
              "      <td>5.9917</td>\n",
              "      <td>2.430272</td>\n",
              "      <td>-0.043999</td>\n",
              "      <td>-0.067068</td>\n",
              "      <td>-0.119698</td>\n",
              "      <td>-0.63833</td>\n",
              "      <td>-0.016642</td>\n",
              "      <td>0.513076</td>\n",
              "      <td>-0.253485</td>\n",
              "      <td>1</td>\n",
              "      <td>1</td>\n",
              "      <td>1</td>\n",
              "      <td>1</td>\n",
              "      <td>1</td>\n",
              "      <td>1</td>\n",
              "      <td>1</td>\n",
              "      <td>1</td>\n",
              "      <td>1</td>\n",
              "      <td>1</td>\n",
              "      <td>1</td>\n",
              "      <td>0</td>\n",
              "      <td>1</td>\n",
              "      <td>0</td>\n",
              "      <td>0</td>\n",
              "      <td>0</td>\n",
              "      <td>0</td>\n",
              "      <td>0</td>\n",
              "      <td>0</td>\n",
              "      <td>0</td>\n",
              "      <td>0</td>\n",
              "      <td>0</td>\n",
              "    </tr>\n",
              "  </tbody>\n",
              "</table>\n",
              "</div>\n",
              "      <button class=\"colab-df-convert\" onclick=\"convertToInteractive('df-417b9987-dc81-42e8-a950-5a37867473bc')\"\n",
              "              title=\"Convert this dataframe to an interactive table.\"\n",
              "              style=\"display:none;\">\n",
              "        \n",
              "  <svg xmlns=\"http://www.w3.org/2000/svg\" height=\"24px\"viewBox=\"0 0 24 24\"\n",
              "       width=\"24px\">\n",
              "    <path d=\"M0 0h24v24H0V0z\" fill=\"none\"/>\n",
              "    <path d=\"M18.56 5.44l.94 2.06.94-2.06 2.06-.94-2.06-.94-.94-2.06-.94 2.06-2.06.94zm-11 1L8.5 8.5l.94-2.06 2.06-.94-2.06-.94L8.5 2.5l-.94 2.06-2.06.94zm10 10l.94 2.06.94-2.06 2.06-.94-2.06-.94-.94-2.06-.94 2.06-2.06.94z\"/><path d=\"M17.41 7.96l-1.37-1.37c-.4-.4-.92-.59-1.43-.59-.52 0-1.04.2-1.43.59L10.3 9.45l-7.72 7.72c-.78.78-.78 2.05 0 2.83L4 21.41c.39.39.9.59 1.41.59.51 0 1.02-.2 1.41-.59l7.78-7.78 2.81-2.81c.8-.78.8-2.07 0-2.86zM5.41 20L4 18.59l7.72-7.72 1.47 1.35L5.41 20z\"/>\n",
              "  </svg>\n",
              "      </button>\n",
              "      \n",
              "  <style>\n",
              "    .colab-df-container {\n",
              "      display:flex;\n",
              "      flex-wrap:wrap;\n",
              "      gap: 12px;\n",
              "    }\n",
              "\n",
              "    .colab-df-convert {\n",
              "      background-color: #E8F0FE;\n",
              "      border: none;\n",
              "      border-radius: 50%;\n",
              "      cursor: pointer;\n",
              "      display: none;\n",
              "      fill: #1967D2;\n",
              "      height: 32px;\n",
              "      padding: 0 0 0 0;\n",
              "      width: 32px;\n",
              "    }\n",
              "\n",
              "    .colab-df-convert:hover {\n",
              "      background-color: #E2EBFA;\n",
              "      box-shadow: 0px 1px 2px rgba(60, 64, 67, 0.3), 0px 1px 3px 1px rgba(60, 64, 67, 0.15);\n",
              "      fill: #174EA6;\n",
              "    }\n",
              "\n",
              "    [theme=dark] .colab-df-convert {\n",
              "      background-color: #3B4455;\n",
              "      fill: #D2E3FC;\n",
              "    }\n",
              "\n",
              "    [theme=dark] .colab-df-convert:hover {\n",
              "      background-color: #434B5C;\n",
              "      box-shadow: 0px 1px 3px 1px rgba(0, 0, 0, 0.15);\n",
              "      filter: drop-shadow(0px 1px 2px rgba(0, 0, 0, 0.3));\n",
              "      fill: #FFFFFF;\n",
              "    }\n",
              "  </style>\n",
              "\n",
              "      <script>\n",
              "        const buttonEl =\n",
              "          document.querySelector('#df-417b9987-dc81-42e8-a950-5a37867473bc button.colab-df-convert');\n",
              "        buttonEl.style.display =\n",
              "          google.colab.kernel.accessAllowed ? 'block' : 'none';\n",
              "\n",
              "        async function convertToInteractive(key) {\n",
              "          const element = document.querySelector('#df-417b9987-dc81-42e8-a950-5a37867473bc');\n",
              "          const dataTable =\n",
              "            await google.colab.kernel.invokeFunction('convertToInteractive',\n",
              "                                                     [key], {});\n",
              "          if (!dataTable) return;\n",
              "\n",
              "          const docLinkHtml = 'Like what you see? Visit the ' +\n",
              "            '<a target=\"_blank\" href=https://colab.research.google.com/notebooks/data_table.ipynb>data table notebook</a>'\n",
              "            + ' to learn more about interactive tables.';\n",
              "          element.innerHTML = '';\n",
              "          dataTable['output_type'] = 'display_data';\n",
              "          await google.colab.output.renderOutput(dataTable, element);\n",
              "          const docLink = document.createElement('div');\n",
              "          docLink.innerHTML = docLinkHtml;\n",
              "          element.appendChild(docLink);\n",
              "        }\n",
              "      </script>\n",
              "    </div>\n",
              "  </div>\n",
              "  "
            ]
          },
          "metadata": {},
          "execution_count": 6
        }
      ]
    },
    {
      "cell_type": "code",
      "source": [
        "data.tail(1)"
      ],
      "metadata": {
        "id": "AVSZiRdYUvgQ",
        "colab": {
          "base_uri": "https://localhost:8080/",
          "height": 231
        },
        "outputId": "b30eb01d-0144-4db6-d4fd-3794547532db"
      },
      "execution_count": null,
      "outputs": [
        {
          "output_type": "execute_result",
          "data": {
            "text/plain": [
              "                             Date  Symbol  bank_buy_ratio  \\\n",
              "3479479 2022-09-28 00:00:00+09:00  034120        0.393309   \n",
              "\n",
              "         bank_buy_ratio_change  ant_buy_ratio  ant_buy_ratio_change  \\\n",
              "3479479              -0.081747       0.606581              0.061056   \n",
              "\n",
              "         foreigner_buy_ratio  foreigner_buy_ratio_change  bank_sell_ratio  \\\n",
              "3479479              0.00011                         inf         0.228652   \n",
              "\n",
              "         bank_sell_ratio_change  ant_sell_ratio  ant_sell_ratio_change  \\\n",
              "3479479                6.289633        0.771237              -0.203788   \n",
              "\n",
              "         foreigner_sell_ratio  foreigner_sell_ratio_change    BPS   PER   PBR  \\\n",
              "3479479               0.00011                          inf  37150  4.18  0.87   \n",
              "\n",
              "          EPS   DIV   DPS       dp7      dp25     dp99       dp5      dp10  \\\n",
              "3479479  7693  3.11  1000  0.904906  0.860684  0.74917  0.918571  0.896792   \n",
              "\n",
              "             dp20      dp60     dp120    dp50     dp100     dp200    plus_di  \\\n",
              "3479479  0.869859  0.805478  0.728763  0.8138  0.747518  0.727355  12.327842   \n",
              "\n",
              "          minus_di        adx        RSI         K          D         CCI  \\\n",
              "3479479  37.499047  28.515032  24.483845  2.098967  23.920319 -262.938727   \n",
              "\n",
              "               MFI       W%R        PB  Open_change  High_change  Low_change  \\\n",
              "3479479  28.287429 -0.009562 -0.169919     -0.01909    -0.027338   -0.027481   \n",
              "\n",
              "         Close_change  Volume_change  plus_di_change  minus_di_change  \\\n",
              "3479479     -0.028701      -0.434775       -0.128748        -0.011601   \n",
              "\n",
              "         adx_change  RSI_change  K_change  D_change  MACD_change  \\\n",
              "3479479    0.049555   -0.085603 -0.884446 -0.474081     0.181128   \n",
              "\n",
              "         MACDsig_change  MACDhist_change  CCI_change  MFI_change  PB_change  \\\n",
              "3479479        0.081764         0.696566    -0.07095   -0.056347  -0.292889   \n",
              "\n",
              "         W%R_change  swing  highest_high_rate  lowest_low_rate  after20_rate  \\\n",
              "3479479    0.014919      0           0.024653        -0.141757     -0.120185   \n",
              "\n",
              "         tomorrow_pred  long_short  plus_di_updiv  minus_di_updiv  adx_updiv  \\\n",
              "3479479      -0.016949           0              0               0          0   \n",
              "\n",
              "         RSI_updiv  K_updiv  D_updiv  MACD_updiv  MACDsig_updiv  \\\n",
              "3479479          0        0        0           0              0   \n",
              "\n",
              "         MACDhist_updiv  CCI_updiv  MFI_updiv  plus_di_downdiv  \\\n",
              "3479479               0          0          0                0   \n",
              "\n",
              "         minus_di_downdiv  adx_downdiv  RSI_downdiv  K_downdiv  D_downdiv  \\\n",
              "3479479                 1            1            0          0          1   \n",
              "\n",
              "         MACD_downdiv  MACDsig_downdiv  MACDhist_downdiv  CCI_downdiv  \\\n",
              "3479479             0                0                 0            0   \n",
              "\n",
              "         MFI_downdiv  got  limit_gone  공매도비중  3년국채수익률  3년국채수익률대비  10년국채수익률  \\\n",
              "3479479            1  0.0         0.0   0.03    4.338      0.034     4.332   \n",
              "\n",
              "         10년국채수익률대비  CL=F_dp7  CL=F_dp25  CL=F_dp99  CL=F_dp5  CL=F_dp10  \\\n",
              "3479479       0.124  1.014233   0.951784   0.824813  1.027929   0.998274   \n",
              "\n",
              "         CL=F_dp20  CL=F_dp60  CL=F_dp120  CL=F_dp50  CL=F_dp100  CL=F_dp200  \\\n",
              "3479479   0.972955   0.898964    0.819261   0.916748    0.824524    0.848168   \n",
              "\n",
              "         CL=F_plus_di  CL=F_minus_di   CL=F_adx   CL=F_RSI     CL=F_K  \\\n",
              "3479479     15.050478      24.325593  21.442842  43.245492  35.155746   \n",
              "\n",
              "            CL=F_D    CL=F_CCI   CL=F_MFI  CL=F_W%R   CL=F_PB  \\\n",
              "3479479  19.888763 -110.064364  47.770895 -0.005768  0.335723   \n",
              "\n",
              "         CL=F_Open_change  CL=F_High_change  CL=F_Low_change  \\\n",
              "3479479          0.021054          0.035593         0.001701   \n",
              "\n",
              "         CL=F_Close_change  CL=F_Volume_change  CL=F_plus_di_change  \\\n",
              "3479479           0.046497            0.144788             0.316134   \n",
              "\n",
              "         CL=F_minus_di_change  CL=F_adx_change  CL=F_RSI_change  \\\n",
              "3479479             -0.115839         0.071372         0.237896   \n",
              "\n",
              "         CL=F_K_change  CL=F_D_change  CL=F_MACD_change  CL=F_MACDsig_change  \\\n",
              "3479479       2.787739        0.16106         -0.063602             0.032998   \n",
              "\n",
              "         CL=F_MACDhist_change  CL=F_CCI_change  CL=F_MFI_change  \\\n",
              "3479479             -0.459309        -0.364901         0.216602   \n",
              "\n",
              "         CL=F_PB_change  CL=F_W%R_change  CL=F_plus_di_updiv  \\\n",
              "3479479        3.398091        -0.312233                   0   \n",
              "\n",
              "         CL=F_minus_di_updiv  CL=F_adx_updiv  CL=F_RSI_updiv  CL=F_K_updiv  \\\n",
              "3479479                    1               0               0             0   \n",
              "\n",
              "         CL=F_D_updiv  CL=F_MACD_updiv  CL=F_MACDsig_updiv  \\\n",
              "3479479             1                0                   1   \n",
              "\n",
              "         CL=F_MACDhist_updiv  CL=F_CCI_updiv  CL=F_MFI_updiv  \\\n",
              "3479479                    0               0               0   \n",
              "\n",
              "         CL=F_plus_di_downdiv  CL=F_minus_di_downdiv  CL=F_adx_downdiv  \\\n",
              "3479479                     0                      1                 1   \n",
              "\n",
              "         CL=F_RSI_downdiv  CL=F_K_downdiv  CL=F_D_downdiv  CL=F_MACD_downdiv  \\\n",
              "3479479                 0               0               0                  0   \n",
              "\n",
              "         CL=F_MACDsig_downdiv  CL=F_MACDhist_downdiv  CL=F_CCI_downdiv  \\\n",
              "3479479                     0                      0                 0   \n",
              "\n",
              "         CL=F_MFI_downdiv  ^GSPC_dp7  ^GSPC_dp25  ^GSPC_dp99  ^GSPC_dp5  \\\n",
              "3479479                 1   0.996739    0.948694    0.936046   1.006637   \n",
              "\n",
              "         ^GSPC_dp10  ^GSPC_dp20  ^GSPC_dp60  ^GSPC_dp120  ^GSPC_dp50  \\\n",
              "3479479    0.984055    0.958641    0.930304     0.922204     0.92368   \n",
              "\n",
              "         ^GSPC_dp100  ^GSPC_dp200  ^GSPC_plus_di  ^GSPC_minus_di  ^GSPC_adx  \\\n",
              "3479479     0.935692     0.880575      15.480884       32.636978  24.354864   \n",
              "\n",
              "         ^GSPC_RSI   ^GSPC_K   ^GSPC_D   ^GSPC_CCI  ^GSPC_MFI  ^GSPC_W%R  \\\n",
              "3479479  35.072333  9.876085  3.292028 -119.618472  25.751397   -0.00807   \n",
              "\n",
              "         ^GSPC_PB  ^GSPC_Open_change  ^GSPC_High_change  ^GSPC_Low_change  \\\n",
              "3479479  0.194312          -0.009359           0.005167           0.00478   \n",
              "\n",
              "         ^GSPC_Close_change  ^GSPC_Volume_change  ^GSPC_plus_di_change  \\\n",
              "3479479            0.019672             0.023398              0.012379   \n",
              "\n",
              "         ^GSPC_minus_di_change  ^GSPC_adx_change  ^GSPC_RSI_change  \\\n",
              "3479479               -0.09576          0.052463          0.305758   \n",
              "\n",
              "         ^GSPC_K_change  ^GSPC_D_change  ^GSPC_MACD_change  \\\n",
              "3479479             inf    2.316559e+13          -0.005541   \n",
              "\n",
              "         ^GSPC_MACDsig_change  ^GSPC_MACDhist_change  ^GSPC_CCI_change  \\\n",
              "3479479              0.087271              -0.214408         -0.266785   \n",
              "\n",
              "         ^GSPC_MFI_change  ^GSPC_PB_change  ^GSPC_W%R_change  \\\n",
              "3479479          0.018131         9.338429         -0.152016   \n",
              "\n",
              "         ^GSPC_plus_di_updiv  ^GSPC_minus_di_updiv  ^GSPC_adx_updiv  \\\n",
              "3479479                    0                     1                0   \n",
              "\n",
              "         ^GSPC_RSI_updiv  ^GSPC_K_updiv  ^GSPC_D_updiv  ^GSPC_MACD_updiv  \\\n",
              "3479479                0              0              0                 0   \n",
              "\n",
              "         ^GSPC_MACDsig_updiv  ^GSPC_MACDhist_updiv  ^GSPC_CCI_updiv  \\\n",
              "3479479                    1                     0                0   \n",
              "\n",
              "         ^GSPC_MFI_updiv  ^GSPC_plus_di_downdiv  ^GSPC_minus_di_downdiv  \\\n",
              "3479479                0                      0                       1   \n",
              "\n",
              "         ^GSPC_adx_downdiv  ^GSPC_RSI_downdiv  ^GSPC_K_downdiv  \\\n",
              "3479479                  1                  0                0   \n",
              "\n",
              "         ^GSPC_D_downdiv  ^GSPC_MACD_downdiv  ^GSPC_MACDsig_downdiv  \\\n",
              "3479479                0                   0                      0   \n",
              "\n",
              "         ^GSPC_MACDhist_downdiv  ^GSPC_CCI_downdiv  ^GSPC_MFI_downdiv  \\\n",
              "3479479                       0                  0                  0   \n",
              "\n",
              "         ^KS11_dp7  ^KS11_dp25  ^KS11_dp99  ^KS11_dp5  ^KS11_dp10  ^KS11_dp20  \\\n",
              "3479479   0.951952    0.910807    0.882925   0.965296    0.939423     0.91773   \n",
              "\n",
              "         ^KS11_dp60  ^KS11_dp120  ^KS11_dp50  ^KS11_dp100  ^KS11_dp200  \\\n",
              "3479479    0.902517     0.868078    0.896719     0.882122     0.825921   \n",
              "\n",
              "         ^KS11_plus_di  ^KS11_minus_di  ^KS11_adx  ^KS11_RSI   ^KS11_K  \\\n",
              "3479479      10.660341       47.309385  26.124639   22.32376  0.801293   \n",
              "\n",
              "          ^KS11_D   ^KS11_CCI  ^KS11_MFI  ^KS11_W%R  ^KS11_PB  \\\n",
              "3479479  0.534196 -210.099283  26.751746  -0.009415 -0.100761   \n",
              "\n",
              "         ^KS11_Open_change  ^KS11_High_change  ^KS11_Low_change  \\\n",
              "3479479            -0.0082          -0.001702         -0.021065   \n",
              "\n",
              "         ^KS11_Close_change  ^KS11_Volume_change  ^KS11_plus_di_change  \\\n",
              "3479479           -0.024538             0.221698             -0.146829   \n",
              "\n",
              "         ^KS11_minus_di_change  ^KS11_adx_change  ^KS11_RSI_change  \\\n",
              "3479479               0.018362          0.103613         -0.145391   \n",
              "\n",
              "         ^KS11_K_change  ^KS11_D_change  ^KS11_MACD_change  \\\n",
              "3479479             0.0       -0.086708           0.187978   \n",
              "\n",
              "         ^KS11_MACDsig_change  ^KS11_MACDhist_change  ^KS11_CCI_change  \\\n",
              "3479479              0.187915               0.188078          -0.06235   \n",
              "\n",
              "         ^KS11_MFI_change  ^KS11_PB_change  ^KS11_W%R_change  \\\n",
              "3479479         -0.187263         0.586013          0.047717   \n",
              "\n",
              "         ^KS11_plus_di_updiv  ^KS11_minus_di_updiv  ^KS11_adx_updiv  \\\n",
              "3479479                    0                     0                0   \n",
              "\n",
              "         ^KS11_RSI_updiv  ^KS11_K_updiv  ^KS11_D_updiv  ^KS11_MACD_updiv  \\\n",
              "3479479                0              0              0                 0   \n",
              "\n",
              "         ^KS11_MACDsig_updiv  ^KS11_MACDhist_updiv  ^KS11_CCI_updiv  \\\n",
              "3479479                    0                     0                0   \n",
              "\n",
              "         ^KS11_MFI_updiv  ^KS11_plus_di_downdiv  ^KS11_minus_di_downdiv  \\\n",
              "3479479                0                      0                       1   \n",
              "\n",
              "         ^KS11_adx_downdiv  ^KS11_RSI_downdiv  ^KS11_K_downdiv  \\\n",
              "3479479                  1                  0                0   \n",
              "\n",
              "         ^KS11_D_downdiv  ^KS11_MACD_downdiv  ^KS11_MACDsig_downdiv  \\\n",
              "3479479                0                   0                      0   \n",
              "\n",
              "         ^KS11_MACDhist_downdiv  ^KS11_CCI_downdiv  ^KS11_MFI_downdiv  \n",
              "3479479                       0                  0                  0  "
            ],
            "text/html": [
              "\n",
              "  <div id=\"df-2d4953b2-f969-48c9-a0a4-3a08a7cbf341\">\n",
              "    <div class=\"colab-df-container\">\n",
              "      <div>\n",
              "<style scoped>\n",
              "    .dataframe tbody tr th:only-of-type {\n",
              "        vertical-align: middle;\n",
              "    }\n",
              "\n",
              "    .dataframe tbody tr th {\n",
              "        vertical-align: top;\n",
              "    }\n",
              "\n",
              "    .dataframe thead th {\n",
              "        text-align: right;\n",
              "    }\n",
              "</style>\n",
              "<table border=\"1\" class=\"dataframe\">\n",
              "  <thead>\n",
              "    <tr style=\"text-align: right;\">\n",
              "      <th></th>\n",
              "      <th>Date</th>\n",
              "      <th>Symbol</th>\n",
              "      <th>bank_buy_ratio</th>\n",
              "      <th>bank_buy_ratio_change</th>\n",
              "      <th>ant_buy_ratio</th>\n",
              "      <th>ant_buy_ratio_change</th>\n",
              "      <th>foreigner_buy_ratio</th>\n",
              "      <th>foreigner_buy_ratio_change</th>\n",
              "      <th>bank_sell_ratio</th>\n",
              "      <th>bank_sell_ratio_change</th>\n",
              "      <th>ant_sell_ratio</th>\n",
              "      <th>ant_sell_ratio_change</th>\n",
              "      <th>foreigner_sell_ratio</th>\n",
              "      <th>foreigner_sell_ratio_change</th>\n",
              "      <th>BPS</th>\n",
              "      <th>PER</th>\n",
              "      <th>PBR</th>\n",
              "      <th>EPS</th>\n",
              "      <th>DIV</th>\n",
              "      <th>DPS</th>\n",
              "      <th>dp7</th>\n",
              "      <th>dp25</th>\n",
              "      <th>dp99</th>\n",
              "      <th>dp5</th>\n",
              "      <th>dp10</th>\n",
              "      <th>dp20</th>\n",
              "      <th>dp60</th>\n",
              "      <th>dp120</th>\n",
              "      <th>dp50</th>\n",
              "      <th>dp100</th>\n",
              "      <th>dp200</th>\n",
              "      <th>plus_di</th>\n",
              "      <th>minus_di</th>\n",
              "      <th>adx</th>\n",
              "      <th>RSI</th>\n",
              "      <th>K</th>\n",
              "      <th>D</th>\n",
              "      <th>CCI</th>\n",
              "      <th>MFI</th>\n",
              "      <th>W%R</th>\n",
              "      <th>PB</th>\n",
              "      <th>Open_change</th>\n",
              "      <th>High_change</th>\n",
              "      <th>Low_change</th>\n",
              "      <th>Close_change</th>\n",
              "      <th>Volume_change</th>\n",
              "      <th>plus_di_change</th>\n",
              "      <th>minus_di_change</th>\n",
              "      <th>adx_change</th>\n",
              "      <th>RSI_change</th>\n",
              "      <th>K_change</th>\n",
              "      <th>D_change</th>\n",
              "      <th>MACD_change</th>\n",
              "      <th>MACDsig_change</th>\n",
              "      <th>MACDhist_change</th>\n",
              "      <th>CCI_change</th>\n",
              "      <th>MFI_change</th>\n",
              "      <th>PB_change</th>\n",
              "      <th>W%R_change</th>\n",
              "      <th>swing</th>\n",
              "      <th>highest_high_rate</th>\n",
              "      <th>lowest_low_rate</th>\n",
              "      <th>after20_rate</th>\n",
              "      <th>tomorrow_pred</th>\n",
              "      <th>long_short</th>\n",
              "      <th>plus_di_updiv</th>\n",
              "      <th>minus_di_updiv</th>\n",
              "      <th>adx_updiv</th>\n",
              "      <th>RSI_updiv</th>\n",
              "      <th>K_updiv</th>\n",
              "      <th>D_updiv</th>\n",
              "      <th>MACD_updiv</th>\n",
              "      <th>MACDsig_updiv</th>\n",
              "      <th>MACDhist_updiv</th>\n",
              "      <th>CCI_updiv</th>\n",
              "      <th>MFI_updiv</th>\n",
              "      <th>plus_di_downdiv</th>\n",
              "      <th>minus_di_downdiv</th>\n",
              "      <th>adx_downdiv</th>\n",
              "      <th>RSI_downdiv</th>\n",
              "      <th>K_downdiv</th>\n",
              "      <th>D_downdiv</th>\n",
              "      <th>MACD_downdiv</th>\n",
              "      <th>MACDsig_downdiv</th>\n",
              "      <th>MACDhist_downdiv</th>\n",
              "      <th>CCI_downdiv</th>\n",
              "      <th>MFI_downdiv</th>\n",
              "      <th>got</th>\n",
              "      <th>limit_gone</th>\n",
              "      <th>공매도비중</th>\n",
              "      <th>3년국채수익률</th>\n",
              "      <th>3년국채수익률대비</th>\n",
              "      <th>10년국채수익률</th>\n",
              "      <th>10년국채수익률대비</th>\n",
              "      <th>CL=F_dp7</th>\n",
              "      <th>CL=F_dp25</th>\n",
              "      <th>CL=F_dp99</th>\n",
              "      <th>CL=F_dp5</th>\n",
              "      <th>CL=F_dp10</th>\n",
              "      <th>CL=F_dp20</th>\n",
              "      <th>CL=F_dp60</th>\n",
              "      <th>CL=F_dp120</th>\n",
              "      <th>CL=F_dp50</th>\n",
              "      <th>CL=F_dp100</th>\n",
              "      <th>CL=F_dp200</th>\n",
              "      <th>CL=F_plus_di</th>\n",
              "      <th>CL=F_minus_di</th>\n",
              "      <th>CL=F_adx</th>\n",
              "      <th>CL=F_RSI</th>\n",
              "      <th>CL=F_K</th>\n",
              "      <th>CL=F_D</th>\n",
              "      <th>CL=F_CCI</th>\n",
              "      <th>CL=F_MFI</th>\n",
              "      <th>CL=F_W%R</th>\n",
              "      <th>CL=F_PB</th>\n",
              "      <th>CL=F_Open_change</th>\n",
              "      <th>CL=F_High_change</th>\n",
              "      <th>CL=F_Low_change</th>\n",
              "      <th>CL=F_Close_change</th>\n",
              "      <th>CL=F_Volume_change</th>\n",
              "      <th>CL=F_plus_di_change</th>\n",
              "      <th>CL=F_minus_di_change</th>\n",
              "      <th>CL=F_adx_change</th>\n",
              "      <th>CL=F_RSI_change</th>\n",
              "      <th>CL=F_K_change</th>\n",
              "      <th>CL=F_D_change</th>\n",
              "      <th>CL=F_MACD_change</th>\n",
              "      <th>CL=F_MACDsig_change</th>\n",
              "      <th>CL=F_MACDhist_change</th>\n",
              "      <th>CL=F_CCI_change</th>\n",
              "      <th>CL=F_MFI_change</th>\n",
              "      <th>CL=F_PB_change</th>\n",
              "      <th>CL=F_W%R_change</th>\n",
              "      <th>CL=F_plus_di_updiv</th>\n",
              "      <th>CL=F_minus_di_updiv</th>\n",
              "      <th>CL=F_adx_updiv</th>\n",
              "      <th>CL=F_RSI_updiv</th>\n",
              "      <th>CL=F_K_updiv</th>\n",
              "      <th>CL=F_D_updiv</th>\n",
              "      <th>CL=F_MACD_updiv</th>\n",
              "      <th>CL=F_MACDsig_updiv</th>\n",
              "      <th>CL=F_MACDhist_updiv</th>\n",
              "      <th>CL=F_CCI_updiv</th>\n",
              "      <th>CL=F_MFI_updiv</th>\n",
              "      <th>CL=F_plus_di_downdiv</th>\n",
              "      <th>CL=F_minus_di_downdiv</th>\n",
              "      <th>CL=F_adx_downdiv</th>\n",
              "      <th>CL=F_RSI_downdiv</th>\n",
              "      <th>CL=F_K_downdiv</th>\n",
              "      <th>CL=F_D_downdiv</th>\n",
              "      <th>CL=F_MACD_downdiv</th>\n",
              "      <th>CL=F_MACDsig_downdiv</th>\n",
              "      <th>CL=F_MACDhist_downdiv</th>\n",
              "      <th>CL=F_CCI_downdiv</th>\n",
              "      <th>CL=F_MFI_downdiv</th>\n",
              "      <th>^GSPC_dp7</th>\n",
              "      <th>^GSPC_dp25</th>\n",
              "      <th>^GSPC_dp99</th>\n",
              "      <th>^GSPC_dp5</th>\n",
              "      <th>^GSPC_dp10</th>\n",
              "      <th>^GSPC_dp20</th>\n",
              "      <th>^GSPC_dp60</th>\n",
              "      <th>^GSPC_dp120</th>\n",
              "      <th>^GSPC_dp50</th>\n",
              "      <th>^GSPC_dp100</th>\n",
              "      <th>^GSPC_dp200</th>\n",
              "      <th>^GSPC_plus_di</th>\n",
              "      <th>^GSPC_minus_di</th>\n",
              "      <th>^GSPC_adx</th>\n",
              "      <th>^GSPC_RSI</th>\n",
              "      <th>^GSPC_K</th>\n",
              "      <th>^GSPC_D</th>\n",
              "      <th>^GSPC_CCI</th>\n",
              "      <th>^GSPC_MFI</th>\n",
              "      <th>^GSPC_W%R</th>\n",
              "      <th>^GSPC_PB</th>\n",
              "      <th>^GSPC_Open_change</th>\n",
              "      <th>^GSPC_High_change</th>\n",
              "      <th>^GSPC_Low_change</th>\n",
              "      <th>^GSPC_Close_change</th>\n",
              "      <th>^GSPC_Volume_change</th>\n",
              "      <th>^GSPC_plus_di_change</th>\n",
              "      <th>^GSPC_minus_di_change</th>\n",
              "      <th>^GSPC_adx_change</th>\n",
              "      <th>^GSPC_RSI_change</th>\n",
              "      <th>^GSPC_K_change</th>\n",
              "      <th>^GSPC_D_change</th>\n",
              "      <th>^GSPC_MACD_change</th>\n",
              "      <th>^GSPC_MACDsig_change</th>\n",
              "      <th>^GSPC_MACDhist_change</th>\n",
              "      <th>^GSPC_CCI_change</th>\n",
              "      <th>^GSPC_MFI_change</th>\n",
              "      <th>^GSPC_PB_change</th>\n",
              "      <th>^GSPC_W%R_change</th>\n",
              "      <th>^GSPC_plus_di_updiv</th>\n",
              "      <th>^GSPC_minus_di_updiv</th>\n",
              "      <th>^GSPC_adx_updiv</th>\n",
              "      <th>^GSPC_RSI_updiv</th>\n",
              "      <th>^GSPC_K_updiv</th>\n",
              "      <th>^GSPC_D_updiv</th>\n",
              "      <th>^GSPC_MACD_updiv</th>\n",
              "      <th>^GSPC_MACDsig_updiv</th>\n",
              "      <th>^GSPC_MACDhist_updiv</th>\n",
              "      <th>^GSPC_CCI_updiv</th>\n",
              "      <th>^GSPC_MFI_updiv</th>\n",
              "      <th>^GSPC_plus_di_downdiv</th>\n",
              "      <th>^GSPC_minus_di_downdiv</th>\n",
              "      <th>^GSPC_adx_downdiv</th>\n",
              "      <th>^GSPC_RSI_downdiv</th>\n",
              "      <th>^GSPC_K_downdiv</th>\n",
              "      <th>^GSPC_D_downdiv</th>\n",
              "      <th>^GSPC_MACD_downdiv</th>\n",
              "      <th>^GSPC_MACDsig_downdiv</th>\n",
              "      <th>^GSPC_MACDhist_downdiv</th>\n",
              "      <th>^GSPC_CCI_downdiv</th>\n",
              "      <th>^GSPC_MFI_downdiv</th>\n",
              "      <th>^KS11_dp7</th>\n",
              "      <th>^KS11_dp25</th>\n",
              "      <th>^KS11_dp99</th>\n",
              "      <th>^KS11_dp5</th>\n",
              "      <th>^KS11_dp10</th>\n",
              "      <th>^KS11_dp20</th>\n",
              "      <th>^KS11_dp60</th>\n",
              "      <th>^KS11_dp120</th>\n",
              "      <th>^KS11_dp50</th>\n",
              "      <th>^KS11_dp100</th>\n",
              "      <th>^KS11_dp200</th>\n",
              "      <th>^KS11_plus_di</th>\n",
              "      <th>^KS11_minus_di</th>\n",
              "      <th>^KS11_adx</th>\n",
              "      <th>^KS11_RSI</th>\n",
              "      <th>^KS11_K</th>\n",
              "      <th>^KS11_D</th>\n",
              "      <th>^KS11_CCI</th>\n",
              "      <th>^KS11_MFI</th>\n",
              "      <th>^KS11_W%R</th>\n",
              "      <th>^KS11_PB</th>\n",
              "      <th>^KS11_Open_change</th>\n",
              "      <th>^KS11_High_change</th>\n",
              "      <th>^KS11_Low_change</th>\n",
              "      <th>^KS11_Close_change</th>\n",
              "      <th>^KS11_Volume_change</th>\n",
              "      <th>^KS11_plus_di_change</th>\n",
              "      <th>^KS11_minus_di_change</th>\n",
              "      <th>^KS11_adx_change</th>\n",
              "      <th>^KS11_RSI_change</th>\n",
              "      <th>^KS11_K_change</th>\n",
              "      <th>^KS11_D_change</th>\n",
              "      <th>^KS11_MACD_change</th>\n",
              "      <th>^KS11_MACDsig_change</th>\n",
              "      <th>^KS11_MACDhist_change</th>\n",
              "      <th>^KS11_CCI_change</th>\n",
              "      <th>^KS11_MFI_change</th>\n",
              "      <th>^KS11_PB_change</th>\n",
              "      <th>^KS11_W%R_change</th>\n",
              "      <th>^KS11_plus_di_updiv</th>\n",
              "      <th>^KS11_minus_di_updiv</th>\n",
              "      <th>^KS11_adx_updiv</th>\n",
              "      <th>^KS11_RSI_updiv</th>\n",
              "      <th>^KS11_K_updiv</th>\n",
              "      <th>^KS11_D_updiv</th>\n",
              "      <th>^KS11_MACD_updiv</th>\n",
              "      <th>^KS11_MACDsig_updiv</th>\n",
              "      <th>^KS11_MACDhist_updiv</th>\n",
              "      <th>^KS11_CCI_updiv</th>\n",
              "      <th>^KS11_MFI_updiv</th>\n",
              "      <th>^KS11_plus_di_downdiv</th>\n",
              "      <th>^KS11_minus_di_downdiv</th>\n",
              "      <th>^KS11_adx_downdiv</th>\n",
              "      <th>^KS11_RSI_downdiv</th>\n",
              "      <th>^KS11_K_downdiv</th>\n",
              "      <th>^KS11_D_downdiv</th>\n",
              "      <th>^KS11_MACD_downdiv</th>\n",
              "      <th>^KS11_MACDsig_downdiv</th>\n",
              "      <th>^KS11_MACDhist_downdiv</th>\n",
              "      <th>^KS11_CCI_downdiv</th>\n",
              "      <th>^KS11_MFI_downdiv</th>\n",
              "    </tr>\n",
              "  </thead>\n",
              "  <tbody>\n",
              "    <tr>\n",
              "      <th>3479479</th>\n",
              "      <td>2022-09-28 00:00:00+09:00</td>\n",
              "      <td>034120</td>\n",
              "      <td>0.393309</td>\n",
              "      <td>-0.081747</td>\n",
              "      <td>0.606581</td>\n",
              "      <td>0.061056</td>\n",
              "      <td>0.00011</td>\n",
              "      <td>inf</td>\n",
              "      <td>0.228652</td>\n",
              "      <td>6.289633</td>\n",
              "      <td>0.771237</td>\n",
              "      <td>-0.203788</td>\n",
              "      <td>0.00011</td>\n",
              "      <td>inf</td>\n",
              "      <td>37150</td>\n",
              "      <td>4.18</td>\n",
              "      <td>0.87</td>\n",
              "      <td>7693</td>\n",
              "      <td>3.11</td>\n",
              "      <td>1000</td>\n",
              "      <td>0.904906</td>\n",
              "      <td>0.860684</td>\n",
              "      <td>0.74917</td>\n",
              "      <td>0.918571</td>\n",
              "      <td>0.896792</td>\n",
              "      <td>0.869859</td>\n",
              "      <td>0.805478</td>\n",
              "      <td>0.728763</td>\n",
              "      <td>0.8138</td>\n",
              "      <td>0.747518</td>\n",
              "      <td>0.727355</td>\n",
              "      <td>12.327842</td>\n",
              "      <td>37.499047</td>\n",
              "      <td>28.515032</td>\n",
              "      <td>24.483845</td>\n",
              "      <td>2.098967</td>\n",
              "      <td>23.920319</td>\n",
              "      <td>-262.938727</td>\n",
              "      <td>28.287429</td>\n",
              "      <td>-0.009562</td>\n",
              "      <td>-0.169919</td>\n",
              "      <td>-0.01909</td>\n",
              "      <td>-0.027338</td>\n",
              "      <td>-0.027481</td>\n",
              "      <td>-0.028701</td>\n",
              "      <td>-0.434775</td>\n",
              "      <td>-0.128748</td>\n",
              "      <td>-0.011601</td>\n",
              "      <td>0.049555</td>\n",
              "      <td>-0.085603</td>\n",
              "      <td>-0.884446</td>\n",
              "      <td>-0.474081</td>\n",
              "      <td>0.181128</td>\n",
              "      <td>0.081764</td>\n",
              "      <td>0.696566</td>\n",
              "      <td>-0.07095</td>\n",
              "      <td>-0.056347</td>\n",
              "      <td>-0.292889</td>\n",
              "      <td>0.014919</td>\n",
              "      <td>0</td>\n",
              "      <td>0.024653</td>\n",
              "      <td>-0.141757</td>\n",
              "      <td>-0.120185</td>\n",
              "      <td>-0.016949</td>\n",
              "      <td>0</td>\n",
              "      <td>0</td>\n",
              "      <td>0</td>\n",
              "      <td>0</td>\n",
              "      <td>0</td>\n",
              "      <td>0</td>\n",
              "      <td>0</td>\n",
              "      <td>0</td>\n",
              "      <td>0</td>\n",
              "      <td>0</td>\n",
              "      <td>0</td>\n",
              "      <td>0</td>\n",
              "      <td>0</td>\n",
              "      <td>1</td>\n",
              "      <td>1</td>\n",
              "      <td>0</td>\n",
              "      <td>0</td>\n",
              "      <td>1</td>\n",
              "      <td>0</td>\n",
              "      <td>0</td>\n",
              "      <td>0</td>\n",
              "      <td>0</td>\n",
              "      <td>1</td>\n",
              "      <td>0.0</td>\n",
              "      <td>0.0</td>\n",
              "      <td>0.03</td>\n",
              "      <td>4.338</td>\n",
              "      <td>0.034</td>\n",
              "      <td>4.332</td>\n",
              "      <td>0.124</td>\n",
              "      <td>1.014233</td>\n",
              "      <td>0.951784</td>\n",
              "      <td>0.824813</td>\n",
              "      <td>1.027929</td>\n",
              "      <td>0.998274</td>\n",
              "      <td>0.972955</td>\n",
              "      <td>0.898964</td>\n",
              "      <td>0.819261</td>\n",
              "      <td>0.916748</td>\n",
              "      <td>0.824524</td>\n",
              "      <td>0.848168</td>\n",
              "      <td>15.050478</td>\n",
              "      <td>24.325593</td>\n",
              "      <td>21.442842</td>\n",
              "      <td>43.245492</td>\n",
              "      <td>35.155746</td>\n",
              "      <td>19.888763</td>\n",
              "      <td>-110.064364</td>\n",
              "      <td>47.770895</td>\n",
              "      <td>-0.005768</td>\n",
              "      <td>0.335723</td>\n",
              "      <td>0.021054</td>\n",
              "      <td>0.035593</td>\n",
              "      <td>0.001701</td>\n",
              "      <td>0.046497</td>\n",
              "      <td>0.144788</td>\n",
              "      <td>0.316134</td>\n",
              "      <td>-0.115839</td>\n",
              "      <td>0.071372</td>\n",
              "      <td>0.237896</td>\n",
              "      <td>2.787739</td>\n",
              "      <td>0.16106</td>\n",
              "      <td>-0.063602</td>\n",
              "      <td>0.032998</td>\n",
              "      <td>-0.459309</td>\n",
              "      <td>-0.364901</td>\n",
              "      <td>0.216602</td>\n",
              "      <td>3.398091</td>\n",
              "      <td>-0.312233</td>\n",
              "      <td>0</td>\n",
              "      <td>1</td>\n",
              "      <td>0</td>\n",
              "      <td>0</td>\n",
              "      <td>0</td>\n",
              "      <td>1</td>\n",
              "      <td>0</td>\n",
              "      <td>1</td>\n",
              "      <td>0</td>\n",
              "      <td>0</td>\n",
              "      <td>0</td>\n",
              "      <td>0</td>\n",
              "      <td>1</td>\n",
              "      <td>1</td>\n",
              "      <td>0</td>\n",
              "      <td>0</td>\n",
              "      <td>0</td>\n",
              "      <td>0</td>\n",
              "      <td>0</td>\n",
              "      <td>0</td>\n",
              "      <td>0</td>\n",
              "      <td>1</td>\n",
              "      <td>0.996739</td>\n",
              "      <td>0.948694</td>\n",
              "      <td>0.936046</td>\n",
              "      <td>1.006637</td>\n",
              "      <td>0.984055</td>\n",
              "      <td>0.958641</td>\n",
              "      <td>0.930304</td>\n",
              "      <td>0.922204</td>\n",
              "      <td>0.92368</td>\n",
              "      <td>0.935692</td>\n",
              "      <td>0.880575</td>\n",
              "      <td>15.480884</td>\n",
              "      <td>32.636978</td>\n",
              "      <td>24.354864</td>\n",
              "      <td>35.072333</td>\n",
              "      <td>9.876085</td>\n",
              "      <td>3.292028</td>\n",
              "      <td>-119.618472</td>\n",
              "      <td>25.751397</td>\n",
              "      <td>-0.00807</td>\n",
              "      <td>0.194312</td>\n",
              "      <td>-0.009359</td>\n",
              "      <td>0.005167</td>\n",
              "      <td>0.00478</td>\n",
              "      <td>0.019672</td>\n",
              "      <td>0.023398</td>\n",
              "      <td>0.012379</td>\n",
              "      <td>-0.09576</td>\n",
              "      <td>0.052463</td>\n",
              "      <td>0.305758</td>\n",
              "      <td>inf</td>\n",
              "      <td>2.316559e+13</td>\n",
              "      <td>-0.005541</td>\n",
              "      <td>0.087271</td>\n",
              "      <td>-0.214408</td>\n",
              "      <td>-0.266785</td>\n",
              "      <td>0.018131</td>\n",
              "      <td>9.338429</td>\n",
              "      <td>-0.152016</td>\n",
              "      <td>0</td>\n",
              "      <td>1</td>\n",
              "      <td>0</td>\n",
              "      <td>0</td>\n",
              "      <td>0</td>\n",
              "      <td>0</td>\n",
              "      <td>0</td>\n",
              "      <td>1</td>\n",
              "      <td>0</td>\n",
              "      <td>0</td>\n",
              "      <td>0</td>\n",
              "      <td>0</td>\n",
              "      <td>1</td>\n",
              "      <td>1</td>\n",
              "      <td>0</td>\n",
              "      <td>0</td>\n",
              "      <td>0</td>\n",
              "      <td>0</td>\n",
              "      <td>0</td>\n",
              "      <td>0</td>\n",
              "      <td>0</td>\n",
              "      <td>0</td>\n",
              "      <td>0.951952</td>\n",
              "      <td>0.910807</td>\n",
              "      <td>0.882925</td>\n",
              "      <td>0.965296</td>\n",
              "      <td>0.939423</td>\n",
              "      <td>0.91773</td>\n",
              "      <td>0.902517</td>\n",
              "      <td>0.868078</td>\n",
              "      <td>0.896719</td>\n",
              "      <td>0.882122</td>\n",
              "      <td>0.825921</td>\n",
              "      <td>10.660341</td>\n",
              "      <td>47.309385</td>\n",
              "      <td>26.124639</td>\n",
              "      <td>22.32376</td>\n",
              "      <td>0.801293</td>\n",
              "      <td>0.534196</td>\n",
              "      <td>-210.099283</td>\n",
              "      <td>26.751746</td>\n",
              "      <td>-0.009415</td>\n",
              "      <td>-0.100761</td>\n",
              "      <td>-0.0082</td>\n",
              "      <td>-0.001702</td>\n",
              "      <td>-0.021065</td>\n",
              "      <td>-0.024538</td>\n",
              "      <td>0.221698</td>\n",
              "      <td>-0.146829</td>\n",
              "      <td>0.018362</td>\n",
              "      <td>0.103613</td>\n",
              "      <td>-0.145391</td>\n",
              "      <td>0.0</td>\n",
              "      <td>-0.086708</td>\n",
              "      <td>0.187978</td>\n",
              "      <td>0.187915</td>\n",
              "      <td>0.188078</td>\n",
              "      <td>-0.06235</td>\n",
              "      <td>-0.187263</td>\n",
              "      <td>0.586013</td>\n",
              "      <td>0.047717</td>\n",
              "      <td>0</td>\n",
              "      <td>0</td>\n",
              "      <td>0</td>\n",
              "      <td>0</td>\n",
              "      <td>0</td>\n",
              "      <td>0</td>\n",
              "      <td>0</td>\n",
              "      <td>0</td>\n",
              "      <td>0</td>\n",
              "      <td>0</td>\n",
              "      <td>0</td>\n",
              "      <td>0</td>\n",
              "      <td>1</td>\n",
              "      <td>1</td>\n",
              "      <td>0</td>\n",
              "      <td>0</td>\n",
              "      <td>0</td>\n",
              "      <td>0</td>\n",
              "      <td>0</td>\n",
              "      <td>0</td>\n",
              "      <td>0</td>\n",
              "      <td>0</td>\n",
              "    </tr>\n",
              "  </tbody>\n",
              "</table>\n",
              "</div>\n",
              "      <button class=\"colab-df-convert\" onclick=\"convertToInteractive('df-2d4953b2-f969-48c9-a0a4-3a08a7cbf341')\"\n",
              "              title=\"Convert this dataframe to an interactive table.\"\n",
              "              style=\"display:none;\">\n",
              "        \n",
              "  <svg xmlns=\"http://www.w3.org/2000/svg\" height=\"24px\"viewBox=\"0 0 24 24\"\n",
              "       width=\"24px\">\n",
              "    <path d=\"M0 0h24v24H0V0z\" fill=\"none\"/>\n",
              "    <path d=\"M18.56 5.44l.94 2.06.94-2.06 2.06-.94-2.06-.94-.94-2.06-.94 2.06-2.06.94zm-11 1L8.5 8.5l.94-2.06 2.06-.94-2.06-.94L8.5 2.5l-.94 2.06-2.06.94zm10 10l.94 2.06.94-2.06 2.06-.94-2.06-.94-.94-2.06-.94 2.06-2.06.94z\"/><path d=\"M17.41 7.96l-1.37-1.37c-.4-.4-.92-.59-1.43-.59-.52 0-1.04.2-1.43.59L10.3 9.45l-7.72 7.72c-.78.78-.78 2.05 0 2.83L4 21.41c.39.39.9.59 1.41.59.51 0 1.02-.2 1.41-.59l7.78-7.78 2.81-2.81c.8-.78.8-2.07 0-2.86zM5.41 20L4 18.59l7.72-7.72 1.47 1.35L5.41 20z\"/>\n",
              "  </svg>\n",
              "      </button>\n",
              "      \n",
              "  <style>\n",
              "    .colab-df-container {\n",
              "      display:flex;\n",
              "      flex-wrap:wrap;\n",
              "      gap: 12px;\n",
              "    }\n",
              "\n",
              "    .colab-df-convert {\n",
              "      background-color: #E8F0FE;\n",
              "      border: none;\n",
              "      border-radius: 50%;\n",
              "      cursor: pointer;\n",
              "      display: none;\n",
              "      fill: #1967D2;\n",
              "      height: 32px;\n",
              "      padding: 0 0 0 0;\n",
              "      width: 32px;\n",
              "    }\n",
              "\n",
              "    .colab-df-convert:hover {\n",
              "      background-color: #E2EBFA;\n",
              "      box-shadow: 0px 1px 2px rgba(60, 64, 67, 0.3), 0px 1px 3px 1px rgba(60, 64, 67, 0.15);\n",
              "      fill: #174EA6;\n",
              "    }\n",
              "\n",
              "    [theme=dark] .colab-df-convert {\n",
              "      background-color: #3B4455;\n",
              "      fill: #D2E3FC;\n",
              "    }\n",
              "\n",
              "    [theme=dark] .colab-df-convert:hover {\n",
              "      background-color: #434B5C;\n",
              "      box-shadow: 0px 1px 3px 1px rgba(0, 0, 0, 0.15);\n",
              "      filter: drop-shadow(0px 1px 2px rgba(0, 0, 0, 0.3));\n",
              "      fill: #FFFFFF;\n",
              "    }\n",
              "  </style>\n",
              "\n",
              "      <script>\n",
              "        const buttonEl =\n",
              "          document.querySelector('#df-2d4953b2-f969-48c9-a0a4-3a08a7cbf341 button.colab-df-convert');\n",
              "        buttonEl.style.display =\n",
              "          google.colab.kernel.accessAllowed ? 'block' : 'none';\n",
              "\n",
              "        async function convertToInteractive(key) {\n",
              "          const element = document.querySelector('#df-2d4953b2-f969-48c9-a0a4-3a08a7cbf341');\n",
              "          const dataTable =\n",
              "            await google.colab.kernel.invokeFunction('convertToInteractive',\n",
              "                                                     [key], {});\n",
              "          if (!dataTable) return;\n",
              "\n",
              "          const docLinkHtml = 'Like what you see? Visit the ' +\n",
              "            '<a target=\"_blank\" href=https://colab.research.google.com/notebooks/data_table.ipynb>data table notebook</a>'\n",
              "            + ' to learn more about interactive tables.';\n",
              "          element.innerHTML = '';\n",
              "          dataTable['output_type'] = 'display_data';\n",
              "          await google.colab.output.renderOutput(dataTable, element);\n",
              "          const docLink = document.createElement('div');\n",
              "          docLink.innerHTML = docLinkHtml;\n",
              "          element.appendChild(docLink);\n",
              "        }\n",
              "      </script>\n",
              "    </div>\n",
              "  </div>\n",
              "  "
            ]
          },
          "metadata": {},
          "execution_count": 7
        }
      ]
    },
    {
      "cell_type": "markdown",
      "source": [
        "# 머신러닝"
      ],
      "metadata": {
        "id": "95wdKGVEFmnd"
      }
    },
    {
      "cell_type": "markdown",
      "source": [
        "## 성능평가(이진분류 데이트레이딩)"
      ],
      "metadata": {
        "id": "R1MgWK-hiXIO"
      }
    },
    {
      "cell_type": "code",
      "source": [
        "data = pd.read_pickle('/content/drive/MyDrive/ColabNotebooks/개인프로젝트/비트코인 /longshort_7.csv')\n",
        "# data=data.sort_values('Date') \n",
        "# data = data.reset_index(drop=True)\n",
        "gc.collect()"
      ],
      "metadata": {
        "id": "JMRPSYbfDits",
        "colab": {
          "base_uri": "https://localhost:8080/"
        },
        "outputId": "6a6e3396-ffa0-4494-9bb6-7efc9290c953"
      },
      "execution_count": null,
      "outputs": [
        {
          "output_type": "execute_result",
          "data": {
            "text/plain": [
              "0"
            ]
          },
          "metadata": {},
          "execution_count": 3
        }
      ]
    },
    {
      "cell_type": "code",
      "source": [
        "# for i in data.columns.values:\n",
        "#     print(f'{i} min: {data[i].min()}')\n",
        "#     print(f'{i} max: {data[i].max()}')"
      ],
      "metadata": {
        "id": "b3LNyGB_v7Qh"
      },
      "execution_count": null,
      "outputs": []
    },
    {
      "cell_type": "code",
      "source": [
        "# 결측값, inf값 0으로 치환\n",
        "data = data.replace([np.inf, -np.inf], np.nan)\n",
        "data = data.fillna(0)\n",
        "\n",
        "# 컬럼 드랍\n",
        "data=data.drop(['Date', 'Symbol','swing', 'highest_high_rate', 'lowest_low_rate', 'after20_rate', 'tomorrow_pred'], axis=1)\n",
        "\n",
        "# 이것들은 제외하고\n",
        "a=data.columns.values\n",
        "a=a.tolist()\n",
        "a.remove('BPS') \n",
        "a.remove('PER') \n",
        "a.remove('PBR') \n",
        "a.remove('EPS') \n",
        "a.remove('DIV') \n",
        "a.remove('DPS') \n",
        "\n",
        "# 1000넘는것들 다 1000으로 한정\n",
        "for i in a:\n",
        "    data.loc[data[i]>100,i]=100\n",
        "for i in a:\n",
        "    data.loc[data[i]<-100,i]=-100\n",
        "\n",
        "# 변화율이 30을 초과하거나 -30미만인 경우 드랍\n",
        "data=data.drop(index=data[ data['Close_change'] < -0.3  ].index)\n",
        "data=data.drop(index=data[ data['Close_change'] > 0.3  ].index)\n",
        "\n",
        "data = data.reset_index(drop=True)"
      ],
      "metadata": {
        "id": "bOxwQ6fIMPjy"
      },
      "execution_count": null,
      "outputs": []
    },
    {
      "cell_type": "code",
      "source": [
        "print(len(data))"
      ],
      "metadata": {
        "colab": {
          "base_uri": "https://localhost:8080/"
        },
        "id": "0ijuU0BpPu_o",
        "outputId": "ed743699-90b1-4e1d-ce6e-5b4ad9531f27"
      },
      "execution_count": null,
      "outputs": [
        {
          "output_type": "stream",
          "name": "stdout",
          "text": [
            "3479480\n"
          ]
        }
      ]
    },
    {
      "cell_type": "code",
      "source": [
        "data.columns.values"
      ],
      "metadata": {
        "id": "nU1rr-KE0adQ"
      },
      "execution_count": null,
      "outputs": []
    },
    {
      "cell_type": "code",
      "source": [
        "# # 레이블만들기\n",
        "# data['long_short']=0\n",
        "# data.loc[data['Adj Close_pred']>=0.05, 'long_short']=1"
      ],
      "metadata": {
        "id": "pyvGJF3jlcgu"
      },
      "execution_count": null,
      "outputs": []
    },
    {
      "cell_type": "code",
      "source": [
        "sns.countplot(x=\"long_short\", data=data)"
      ],
      "metadata": {
        "id": "5N_UjYUeVna_",
        "colab": {
          "base_uri": "https://localhost:8080/",
          "height": 311
        },
        "outputId": "13e1cf63-6870-4bd3-b998-5fdf6add07f0"
      },
      "execution_count": null,
      "outputs": [
        {
          "output_type": "execute_result",
          "data": {
            "text/plain": [
              "<matplotlib.axes._subplots.AxesSubplot at 0x7f3e0cad6250>"
            ]
          },
          "metadata": {},
          "execution_count": 37
        },
        {
          "output_type": "stream",
          "name": "stderr",
          "text": [
            "WARNING:matplotlib.font_manager:findfont: Font family ['NanumBarunGothic'] not found. Falling back to DejaVu Sans.\n"
          ]
        },
        {
          "output_type": "display_data",
          "data": {
            "text/plain": [
              "<Figure size 432x288 with 1 Axes>"
            ],
            "image/png": "[encoded data removed]"
          },
          "metadata": {
            "needs_background": "light"
          }
        }
      ]
    },
    {
      "cell_type": "code",
      "source": [
        "X = np.array(data.drop(['long_short'], axis=1) )\n",
        "# X = data.drop(['long_short'], axis=1) \n",
        "y = data['long_short']\n",
        "jebal=list(data.drop(['long_short'], axis=1).columns)\n",
        "# del data"
      ],
      "metadata": {
        "id": "PWYOatigYVHN"
      },
      "execution_count": null,
      "outputs": []
    },
    {
      "cell_type": "code",
      "source": [
        "# 샘플링 기법 사용 x\n",
        "accuracy=[]\n",
        "recall=[]\n",
        "f1=[]\n",
        "precision=[]\n",
        "\n",
        "# split 개수, 셔플 여부 및 seed 설정\n",
        "str_kf = StratifiedKFold(n_splits = 5, shuffle = True, random_state = 42)\n",
        "a=0\n",
        "# split 개수 스텝 만큼 train, test 데이터셋을 매번 분할\n",
        "for train_index, test_index in str_kf.split(X, y):\n",
        "    X_train, X_test = X[train_index], X[test_index]\n",
        "    y_train, y_test = y[train_index], y[test_index]\n",
        "\n",
        "\n",
        "    X_train=pd.DataFrame(data=X_train, columns=jebal)\n",
        "    X_test=pd.DataFrame(data=X_test, columns=jebal)\n",
        "    y_train=pd.DataFrame(y_train)\n",
        "    y_test=pd.DataFrame(y_test)\n",
        "    \n",
        "    model = ltb.LGBMClassifier()\n",
        "    model.fit(X_train, y_train)\n",
        "\n",
        "    # model = LogisticRegression()\n",
        "    # model.fit(X_train, y_train)\n",
        "\n",
        "    # model = RandomForestClassifier()\n",
        "    # model.fit(X_train, y_train)\n",
        "    \n",
        "    # model = XGBClassifier()\n",
        "    # model.fit(X_train, y_train)\n",
        "    \n",
        "    recall.append( recall_score(y_test, model.predict(X_test)))\n",
        "    accuracy.append(accuracy_score(y_test, model.predict(X_test)))\n",
        "    f1.append(f1_score(y_test, model.predict(X_test)))\n",
        "    precision.append(precision_score(y_test, model.predict(X_test)))\n",
        "clear_output()"
      ],
      "metadata": {
        "id": "BakPZM-5bdPt"
      },
      "execution_count": null,
      "outputs": []
    },
    {
      "cell_type": "code",
      "source": [
        "# LGBM\n",
        "print(f'accuracy_score: {np.mean(accuracy):.4f}')\n",
        "print(f'recall_score: {np.mean(recall):.4f}')\n",
        "print(f'precision_score: {np.mean(precision):.4f}')\n",
        "print(f'f1_score: {np.mean(f1):.4f}') \n",
        "\n",
        "########################################\n",
        "# 0초과 롱숏 레이블\n",
        "# accuracy_score: 0.6267\n",
        "# recall_score: 0.3697\n",
        "# precision_score: 0.6411\n",
        "# f1_score: 0.4689\n",
        "\n",
        "# 5초과 롱숏 레이블\n",
        "# accuracy_score: 0.9581\n",
        "# recall_score: 0.0367\n",
        "# precision_score: 0.6997\n",
        "# f1_score: 0.0698\n",
        "#########################################\n",
        "#지표 change 넣고 \n",
        "\n",
        "# 0초과 롱숏 레이블\n",
        "# accuracy_score: 0.6299\n",
        "# recall_score: 0.3823\n",
        "# precision_score: 0.6422\n",
        "# f1_score: 0.4793\n",
        "\n",
        "\n",
        "#5초과 롱숏 레이블\n",
        "# accuracy_score: 0.9581\n",
        "# recall_score: 0.0355\n",
        "# precision_score: 0.6982\n",
        "# f1_score: 0.0675\n",
        "\n",
        "#################################\n",
        "# 결측값 처리방식 2\n",
        "\n",
        "# accuracy_score: 0.6300\n",
        "# recall_score: 0.3863\n",
        "# precision_score: 0.6399\n",
        "# f1_score: 0.4818\n",
        "\n",
        "####################################\n",
        "# 새로운 전처리방식"
      ],
      "metadata": {
        "id": "9dMIUmLZkt6j",
        "colab": {
          "base_uri": "https://localhost:8080/"
        },
        "outputId": "e8fd3c33-943f-4c62-a955-720f99f05b56"
      },
      "execution_count": null,
      "outputs": [
        {
          "output_type": "stream",
          "name": "stdout",
          "text": [
            "accuracy_score: 0.6072\n",
            "recall_score: 0.2380\n",
            "precision_score: 0.6473\n",
            "f1_score: 0.3480\n"
          ]
        }
      ]
    },
    {
      "cell_type": "code",
      "source": [
        "feature_importance = model.feature_importances_\n",
        "sorted_idx = np.argsort(feature_importance)\n",
        "fig = plt.figure(figsize=(384, 72))\n",
        "plt.barh(range(len(sorted_idx)), feature_importance[sorted_idx], align='center', color='#6C8C7D')\n",
        "plt.yticks(range(len(sorted_idx)), np.array(X_test.columns)[sorted_idx])\n",
        "plt.title('Feature Importance')"
      ],
      "metadata": {
        "id": "bj0xeF6voUCl"
      },
      "execution_count": null,
      "outputs": []
    },
    {
      "cell_type": "code",
      "source": [
        "# clf = ltb.LGBMClassifier()\n",
        "# selector = RFECV(clf, cv=5)\n",
        "# selector = selector.fit(X, y)"
      ],
      "metadata": {
        "id": "6ACckCF8WsUl"
      },
      "execution_count": null,
      "outputs": []
    },
    {
      "cell_type": "markdown",
      "source": [
        "## 성능평가(스윙 이진분류)"
      ],
      "metadata": {
        "id": "Hx5yl1kr_iVI"
      }
    },
    {
      "cell_type": "code",
      "source": [
        "data = pd.read_pickle('/content/drive/MyDrive/ColabNotebooks/개인프로젝트/비트코인 /longshort_7.csv')\n",
        "# data=data.sort_values('Date') \n",
        "# data = data.reset_index(drop=True)\n",
        "gc.collect()"
      ],
      "metadata": {
        "colab": {
          "base_uri": "https://localhost:8080/"
        },
        "id": "Kw67M7Lh_qph",
        "outputId": "65d4ffda-667a-46c6-8c75-896f5bca5b9f"
      },
      "execution_count": null,
      "outputs": [
        {
          "output_type": "execute_result",
          "data": {
            "text/plain": [
              "90"
            ]
          },
          "metadata": {},
          "execution_count": 9
        }
      ]
    },
    {
      "cell_type": "code",
      "source": [
        "sns.countplot(x=\"swing\", data=data)"
      ],
      "metadata": {
        "colab": {
          "base_uri": "https://localhost:8080/",
          "height": 310
        },
        "id": "uN5KqIPwAYIx",
        "outputId": "d35f2bbe-83ef-453a-842a-ad57f15fa8f7"
      },
      "execution_count": null,
      "outputs": [
        {
          "output_type": "execute_result",
          "data": {
            "text/plain": [
              "<matplotlib.axes._subplots.AxesSubplot at 0x7f429340bc90>"
            ]
          },
          "metadata": {},
          "execution_count": 4
        },
        {
          "output_type": "stream",
          "name": "stderr",
          "text": [
            "WARNING:matplotlib.font_manager:findfont: Font family ['NanumBarunGothic'] not found. Falling back to DejaVu Sans.\n"
          ]
        },
        {
          "output_type": "display_data",
          "data": {
            "text/plain": [
              "<Figure size 432x288 with 1 Axes>"
            ],
            "image/png": "[encoded data removed]"
          },
          "metadata": {
            "needs_background": "light"
          }
        }
      ]
    },
    {
      "cell_type": "code",
      "source": [
        "print(len(data))\n",
        "# 결측값, inf값 0으로 치환\n",
        "data = data.replace([np.inf, -np.inf], np.nan)\n",
        "data = data.fillna(0)\n",
        "\n",
        "# 컬럼 드랍\n",
        "data=data.drop(['Date', 'Symbol', 'highest_high_rate', 'lowest_low_rate', 'after20_rate', 'tomorrow_pred', 'long_short'], axis=1)\n",
        "\n",
        "# 이것들은 제외하고\n",
        "a=data.columns.values\n",
        "a=a.tolist()\n",
        "a.remove('BPS') \n",
        "a.remove('PER') \n",
        "a.remove('PBR') \n",
        "a.remove('EPS') \n",
        "a.remove('DIV') \n",
        "a.remove('DPS') \n",
        "\n",
        "# 100넘는것들 다 100으로 한정\n",
        "for i in a:\n",
        "    data.loc[data[i]>100,i]=100\n",
        "for i in a:\n",
        "    data.loc[data[i]<-100,i]=-100\n",
        "\n",
        "# 변화율이 30을 초과하거나 -30미만인 경우 드랍\n",
        "data=data.drop(index=data[ data['Close_change'] < -0.3  ].index)\n",
        "data=data.drop(index=data[ data['Close_change'] > 0.3  ].index)\n",
        "\n",
        "data = data.reset_index(drop=True)\n",
        "print(len(data))"
      ],
      "metadata": {
        "colab": {
          "base_uri": "https://localhost:8080/"
        },
        "id": "9rJA7-jqAD5d",
        "outputId": "fad600fb-45c2-4569-8429-af9304475e6d"
      },
      "execution_count": null,
      "outputs": [
        {
          "output_type": "stream",
          "name": "stdout",
          "text": [
            "3479480\n",
            "3479050\n"
          ]
        }
      ]
    },
    {
      "cell_type": "code",
      "source": [
        "X = np.array(data.drop(['swing'], axis=1) )\n",
        "# X = data.drop(['swing'], axis=1) \n",
        "y = data['swing']\n",
        "jebal=list(data.drop(['swing'], axis=1).columns)\n",
        "# del data"
      ],
      "metadata": {
        "id": "YcabLmplAJrk"
      },
      "execution_count": null,
      "outputs": []
    },
    {
      "cell_type": "code",
      "source": [
        "# 샘플링 기법 사용 x\n",
        "accuracy=[]\n",
        "recall=[]\n",
        "f1=[]\n",
        "precision=[]\n",
        "\n",
        "# split 개수, 셔플 여부 및 seed 설정\n",
        "str_kf = StratifiedKFold(n_splits = 5, shuffle = True, random_state = 42)\n",
        "a=0\n",
        "# split 개수 스텝 만큼 train, test 데이터셋을 매번 분할\n",
        "for train_index, test_index in str_kf.split(X, y):\n",
        "    X_train, X_test = X[train_index], X[test_index]\n",
        "    y_train, y_test = y[train_index], y[test_index]\n",
        "\n",
        "\n",
        "    X_train=pd.DataFrame(data=X_train, columns=jebal)\n",
        "    X_test=pd.DataFrame(data=X_test, columns=jebal)\n",
        "    y_train=pd.DataFrame(y_train)\n",
        "    y_test=pd.DataFrame(y_test)\n",
        "    \n",
        "    model = ltb.LGBMClassifier()\n",
        "    model.fit(X_train, y_train)\n",
        "\n",
        "    # model = LogisticRegression()\n",
        "    # model.fit(X_train, y_train)\n",
        "\n",
        "    # model = RandomForestClassifier()\n",
        "    # model.fit(X_train, y_train)\n",
        "    \n",
        "    # model = XGBClassifier()\n",
        "    # model.fit(X_train, y_train)\n",
        "    \n",
        "    recall.append( recall_score(y_test, model.predict(X_test)))\n",
        "    accuracy.append(accuracy_score(y_test, model.predict(X_test)))\n",
        "    f1.append(f1_score(y_test, model.predict(X_test)))\n",
        "    precision.append(precision_score(y_test, model.predict(X_test)))\n",
        "clear_output()"
      ],
      "metadata": {
        "id": "R--n3AuDAeRn"
      },
      "execution_count": null,
      "outputs": []
    },
    {
      "cell_type": "code",
      "source": [
        "# LGBM\n",
        "print(f'accuracy_score: {np.mean(accuracy):.4f}')\n",
        "print(f'recall_score: {np.mean(recall):.4f}')\n",
        "print(f'precision_score: {np.mean(precision):.4f}')\n",
        "print(f'f1_score: {np.mean(f1):.4f}') "
      ],
      "metadata": {
        "colab": {
          "base_uri": "https://localhost:8080/"
        },
        "id": "Y_pnLhEzApCX",
        "outputId": "9ee72b01-50ce-4e2e-9eef-2909338edbdf"
      },
      "execution_count": null,
      "outputs": [
        {
          "output_type": "stream",
          "name": "stdout",
          "text": [
            "accuracy_score: 0.7779\n",
            "recall_score: 0.0943\n",
            "precision_score: 0.6872\n",
            "f1_score: 0.1658\n"
          ]
        }
      ]
    },
    {
      "cell_type": "markdown",
      "source": [
        "## 성능평가(회귀)"
      ],
      "metadata": {
        "id": "Pyi2B0t6cL7x"
      }
    },
    {
      "cell_type": "code",
      "source": [
        "data = pd.read_pickle('/content/drive/MyDrive/ColabNotebooks/개인프로젝트/비트코인 /longshort_7.csv')\n",
        "data=data.sort_values('Date') \n",
        "data = data.reset_index(drop=True)\n",
        "gc.collect()"
      ],
      "metadata": {
        "id": "hrR20iW4cXcY",
        "colab": {
          "base_uri": "https://localhost:8080/"
        },
        "outputId": "20c7a241-acac-4296-a624-18aa45df655c"
      },
      "execution_count": null,
      "outputs": [
        {
          "output_type": "execute_result",
          "data": {
            "text/plain": [
              "22"
            ]
          },
          "metadata": {},
          "execution_count": 3
        }
      ]
    },
    {
      "cell_type": "code",
      "source": [
        "# 결측값, inf값 0으로 치환\n",
        "data = data.replace([np.inf, -np.inf], np.nan)\n",
        "data = data.fillna(0)\n",
        "\n",
        "# 컬럼 드랍\n",
        "data=data.drop(['Date', 'Symbol','swing', 'highest_high_rate', 'lowest_low_rate', 'after20_rate', 'long_short'], axis=1)\n",
        "\n",
        "# 이것들은 제외하고\n",
        "a=data.columns.values\n",
        "a=a.tolist()\n",
        "a.remove('BPS') \n",
        "a.remove('PER') \n",
        "a.remove('PBR') \n",
        "a.remove('EPS') \n",
        "a.remove('DIV') \n",
        "a.remove('DPS') \n",
        "\n",
        "# 1000넘는것들 다 1000으로 한정\n",
        "for i in a:\n",
        "    data.loc[data[i]>100,i]=100\n",
        "for i in a:\n",
        "    data.loc[data[i]<-100,i]=-100\n",
        "\n",
        "# 변화율이 30을 초과하거나 -30미만인 경우 드랍\n",
        "data=data.drop(index=data[ data['Close_change'] < -0.3  ].index)\n",
        "data=data.drop(index=data[ data['Close_change'] > 0.3  ].index)\n",
        "\n",
        "data = data.reset_index(drop=True)"
      ],
      "metadata": {
        "id": "qzB34MlKfOXy"
      },
      "execution_count": null,
      "outputs": []
    },
    {
      "cell_type": "code",
      "source": [
        "X = np.array(data.drop(['tomorrow_pred'], axis=1) )\n",
        "y = data['tomorrow_pred']\n",
        "jebal=list(data.drop(['tomorrow_pred'], axis=1).columns)\n",
        "# del data"
      ],
      "metadata": {
        "id": "TGlxGcBscrC8"
      },
      "execution_count": null,
      "outputs": []
    },
    {
      "cell_type": "code",
      "source": [
        "from sklearn.model_selection import KFold\n",
        "# 샘플링 기법 사용 x\n",
        "mse=[]\n",
        "mae=[]\n",
        "rmse=[]\n",
        "\n",
        "\n",
        "# split 개수, 셔플 여부 및 seed 설정\n",
        "str_kf = KFold(n_splits = 5, shuffle = True, random_state = 42)\n",
        "a=0\n",
        "# split 개수 스텝 만큼 train, test 데이터셋을 매번 분할\n",
        "for train_index, test_index in str_kf.split(X, y):\n",
        "    X_train, X_test = X[train_index], X[test_index]\n",
        "    y_train, y_test = y[train_index], y[test_index]\n",
        "\n",
        "\n",
        "    X_train=pd.DataFrame(data=X_train, columns=jebal)\n",
        "    X_test=pd.DataFrame(data=X_test, columns=jebal)\n",
        "    y_train=pd.DataFrame(y_train)\n",
        "    y_test=pd.DataFrame(y_test)\n",
        "    \n",
        "    model = ltb.LGBMRegressor()\n",
        "    model.fit(X_train, y_train)\n",
        "    \n",
        "    mae.append( mean_absolute_error(y_test, model.predict(X_test)))\n",
        "    mse.append(mean_squared_error(y_test, model.predict(X_test)))\n",
        "    rmse.append(  mean_squared_error(y_test, model.predict(X_test))**0.5 )\n",
        "clear_output()"
      ],
      "metadata": {
        "id": "5q2wYpbnoT9F"
      },
      "execution_count": null,
      "outputs": []
    },
    {
      "cell_type": "code",
      "source": [
        "# LGBM\n",
        "print(f'mae_score: {np.mean(mae):.4f}')\n",
        "print(f'mse_score: {np.mean(mse):.4f}')\n",
        "print(f'rmse_score: {np.mean(rmse):.4f}')"
      ],
      "metadata": {
        "id": "k_sPifuBgjQ2",
        "colab": {
          "base_uri": "https://localhost:8080/"
        },
        "outputId": "31217c78-91c6-4869-92e7-fd7d43d0a6ca"
      },
      "execution_count": null,
      "outputs": [
        {
          "output_type": "stream",
          "name": "stdout",
          "text": [
            "mae_score: 0.0182\n",
            "mse_score: 0.0008\n",
            "rmse_score: 0.0282\n"
          ]
        }
      ]
    },
    {
      "cell_type": "code",
      "source": [
        "# 처음\n",
        "# mae_score: 0.0201\n",
        "# mse_score: 0.0297\n",
        "# rmse_score: 0.1622\n",
        "############################\n",
        "# 나중"
      ],
      "metadata": {
        "id": "0MpzeA0c7V2b"
      },
      "execution_count": null,
      "outputs": []
    },
    {
      "cell_type": "markdown",
      "source": [
        "##실전성능평가(이진분류)"
      ],
      "metadata": {
        "id": "BAzpLsu8E21E"
      }
    },
    {
      "cell_type": "code",
      "source": [
        "data = pd.read_pickle('/content/drive/MyDrive/ColabNotebooks/개인프로젝트/비트코인 /longshort_7.csv')\n",
        "data=data.sort_values('Date') \n",
        "data = data.reset_index(drop=True)\n",
        "# gc.collect()\n",
        "print(len(data))"
      ],
      "metadata": {
        "id": "YUn3QIRJE6Xn"
      },
      "execution_count": null,
      "outputs": []
    },
    {
      "cell_type": "code",
      "source": [
        "# data.loc[data['Date']=='2020-11-10 00:00:00+09:00',:]\n",
        "# data.loc[3088382]\n",
        "# data"
      ],
      "metadata": {
        "id": "WtqTTV8nZUND"
      },
      "execution_count": null,
      "outputs": []
    },
    {
      "cell_type": "code",
      "source": [
        "# 변화율이 30을 초과하거나 -30미만인 경우 드랍\n",
        "data=data.drop(index=data[ data['Close_change'] < -0.3  ].index)\n",
        "data=data.drop(index=data[ data['Close_change'] > 0.3  ].index)\n",
        "\n",
        "data = data.reset_index(drop=True)\n",
        "\n",
        "# 결측값, inf값 0으로 치환\n",
        "data = data.replace([np.inf, -np.inf], np.nan)\n",
        "data = data.fillna(0)\n",
        "\n",
        "# 남겨놓기\n",
        "data2=data.loc[3088382:,['Date', 'Symbol', 'tomorrow_pred']]\n",
        "sym=data['Symbol'].tolist()[3088382:]\n",
        "test_date=data['Date'].tolist()[3088382:]\n",
        "\n",
        "# 컬럼 드랍\n",
        "data=data.drop(['Date', 'Symbol','swing', 'highest_high_rate', 'lowest_low_rate', 'after20_rate', 'tomorrow_pred'], axis=1)\n",
        "\n",
        "# 이것들은 제외하고\n",
        "a=data.columns.values\n",
        "a=a.tolist()\n",
        "a.remove('BPS') \n",
        "a.remove('PER') \n",
        "a.remove('PBR') \n",
        "a.remove('EPS') \n",
        "a.remove('DIV') \n",
        "a.remove('DPS') \n",
        "\n",
        "# 1000넘는것들 다 1000으로 한정\n",
        "for i in a:\n",
        "    data.loc[data[i]>100,i]=100\n",
        "for i in a:\n",
        "    data.loc[data[i]<-100,i]=-100"
      ],
      "metadata": {
        "id": "z2dHrRUxZENv"
      },
      "execution_count": null,
      "outputs": []
    },
    {
      "cell_type": "code",
      "source": [
        "# 이분법으로 접근\n",
        "train=data.loc[:3088382,:]\n",
        "test=data.loc[3088382:,:]\n",
        "X_train = train.drop(['long_short'], axis=1) \n",
        "y_train = train['long_short'] \n",
        "X_test = test.drop(['long_short'], axis=1) \n",
        "y_test = test['long_short'] "
      ],
      "metadata": {
        "id": "IKbSbIK-GKiU"
      },
      "execution_count": null,
      "outputs": []
    },
    {
      "cell_type": "code",
      "source": [
        "# 2분법으로 예측\n",
        "import lightgbm as ltb\n",
        "model = ltb.LGBMClassifier()\n",
        "model.fit(X_train, y_train)\n",
        "\n",
        "preds=[]\n",
        "pre=model.predict_proba(X_test)\n",
        "for qss in pre:\n",
        "    preds.append(qss[1]*100)"
      ],
      "metadata": {
        "id": "mk1NyabdG3qy"
      },
      "execution_count": null,
      "outputs": []
    },
    {
      "cell_type": "code",
      "source": [
        "print(len(test_date))\n",
        "print(len(sym))\n",
        "print(len(preds))"
      ],
      "metadata": {
        "colab": {
          "base_uri": "https://localhost:8080/"
        },
        "id": "XKDBVKDshuBM",
        "outputId": "4e023777-dade-449c-d1b3-0fa7e62a4110"
      },
      "execution_count": null,
      "outputs": [
        {
          "output_type": "stream",
          "name": "stdout",
          "text": [
            "390668\n",
            "390668\n",
            "390668\n"
          ]
        }
      ]
    },
    {
      "cell_type": "code",
      "source": [
        "result = pd.DataFrame({\n",
        "        \"Date\":test_date,\n",
        "        \"Symbol\": sym,\n",
        "        \"pred\": preds\n",
        "    })"
      ],
      "metadata": {
        "id": "QnuLUxCdHIaO"
      },
      "execution_count": null,
      "outputs": []
    },
    {
      "cell_type": "code",
      "source": [
        "result['max_pred']=result.groupby(\"Date\")['pred'].transform('max')\n",
        "dapji=result.loc[(result['pred']==result['max_pred']) & (result['max_pred']>50),['Date','Symbol','pred']]\n",
        "# dapji=result.loc[(result['pred']==result['max_pred']) ,['Date','Symbol','pred']]\n",
        "dapji = dapji.reset_index(drop=True)"
      ],
      "metadata": {
        "id": "HWYG9pOWHVhJ"
      },
      "execution_count": null,
      "outputs": []
    },
    {
      "cell_type": "code",
      "source": [
        "# 실제 오른정도 불러오기\n",
        "for i in range(len(dapji)):\n",
        "    dapji.loc[i,'actual']=data2.loc[(data2['Date']==dapji['Date'][i]) & (data2['Symbol']==dapji['Symbol'][i]), 'tomorrow_pred'].values*100"
      ],
      "metadata": {
        "id": "w7NMFjL5Hdj-"
      },
      "execution_count": null,
      "outputs": []
    },
    {
      "cell_type": "code",
      "source": [
        "dapji"
      ],
      "metadata": {
        "id": "6e5WfvyuK5oN"
      },
      "execution_count": null,
      "outputs": []
    },
    {
      "cell_type": "code",
      "source": [
        "dapji['Date']=pd.to_datetime(dapji['Date'])"
      ],
      "metadata": {
        "id": "HqF8j-u-AygL"
      },
      "execution_count": null,
      "outputs": []
    },
    {
      "cell_type": "code",
      "source": [
        "자본금=1000000\n",
        "money=[]\n",
        "aa=dapji['actual'].tolist()\n",
        "for i in aa:\n",
        "    자본금=(자본금*0.99985*((100+i)/100))*0.99985\n",
        "    money.append(자본금)\n",
        "\n",
        "dapji['money'] = money\n",
        "print(f'{자본금:.0f}₩')"
      ],
      "metadata": {
        "colab": {
          "base_uri": "https://localhost:8080/"
        },
        "id": "tirh7dgbFWEG",
        "outputId": "1ae2eb8d-d472-47b4-f2ed-d9c9719bb818"
      },
      "execution_count": null,
      "outputs": [
        {
          "output_type": "stream",
          "name": "stdout",
          "text": [
            "511789₩\n"
          ]
        }
      ]
    },
    {
      "cell_type": "code",
      "source": [
        "import seaborn as sns\n",
        "import matplotlib.pyplot as plt\n",
        "fig = plt.figure(figsize=(10, 6))\n",
        "fig.set_facecolor('white')\n",
        "sns.lineplot(data=dapji, x='Date', y='money')\n",
        "plt.show()"
      ],
      "metadata": {
        "colab": {
          "base_uri": "https://localhost:8080/",
          "height": 399
        },
        "id": "ALD4cdv9GehY",
        "outputId": "265a3d19-06ca-4edb-b549-51d17c2f8f4b"
      },
      "execution_count": null,
      "outputs": [
        {
          "output_type": "display_data",
          "data": {
            "text/plain": [
              "<Figure size 720x432 with 1 Axes>"
            ],
            "image/png": "[encoded data removed]"
          },
          "metadata": {}
        }
      ]
    },
    {
      "cell_type": "markdown",
      "source": [
        "## 실전성능평가(스윙)"
      ],
      "metadata": {
        "id": "dK8vNTxNrbLR"
      }
    },
    {
      "cell_type": "code",
      "source": [
        "data = pd.read_pickle('/content/drive/MyDrive/ColabNotebooks/개인프로젝트/비트코인 /longshort_7.csv')\n",
        "data=data.sort_values('Date') \n",
        "data = data.reset_index(drop=True)\n",
        "# gc.collect()\n",
        "print(len(data))"
      ],
      "metadata": {
        "colab": {
          "base_uri": "https://localhost:8080/"
        },
        "id": "VKa63WH2rkVg",
        "outputId": "b3364583-21b7-4a83-8e61-7ce859d1c3b4"
      },
      "execution_count": null,
      "outputs": [
        {
          "output_type": "stream",
          "name": "stdout",
          "text": [
            "3479480\n"
          ]
        }
      ]
    },
    {
      "cell_type": "code",
      "source": [
        "# 변화율이 30을 초과하거나 -30미만인 경우 드랍\n",
        "data=data.drop(index=data[ data['Close_change'] < -0.3  ].index)\n",
        "data=data.drop(index=data[ data['Close_change'] > 0.3  ].index)\n",
        "\n",
        "data = data.reset_index(drop=True)\n",
        "\n",
        "# 결측값, inf값 0으로 치환\n",
        "data = data.replace([np.inf, -np.inf], np.nan)\n",
        "data = data.fillna(0)\n",
        "\n",
        "# 남겨놓기\n",
        "data2=data.loc[3088382:,['Date', 'Symbol', 'highest_high_rate','lowest_low_rate','after20_rate']]\n",
        "sym=data['Symbol'].tolist()[3088382:]\n",
        "test_date=data['Date'].tolist()[3088382:]\n",
        "\n",
        "# 컬럼 드랍\n",
        "data=data.drop(['Date', 'Symbol','long_short', 'highest_high_rate', 'lowest_low_rate', 'after20_rate', 'tomorrow_pred'], axis=1)\n",
        "\n",
        "# 이것들은 제외하고\n",
        "a=data.columns.values\n",
        "a=a.tolist()\n",
        "a.remove('BPS') \n",
        "a.remove('PER') \n",
        "a.remove('PBR') \n",
        "a.remove('EPS') \n",
        "a.remove('DIV') \n",
        "a.remove('DPS') \n",
        "\n",
        "# 1000넘는것들 다 1000으로 한정\n",
        "for i in a:\n",
        "    data.loc[data[i]>100,i]=100\n",
        "for i in a:\n",
        "    data.loc[data[i]<-100,i]=-100"
      ],
      "metadata": {
        "id": "r_x0kqnerqol"
      },
      "execution_count": null,
      "outputs": []
    },
    {
      "cell_type": "code",
      "source": [
        "# 이분법으로 접근\n",
        "train=data.loc[:3088382,:]\n",
        "test=data.loc[3088382:,:]\n",
        "X_train = train.drop(['swing'], axis=1) \n",
        "y_train = train['swing'] \n",
        "X_test = test.drop(['swing'], axis=1) \n",
        "y_test = test['swing'] "
      ],
      "metadata": {
        "id": "CvwTHn0Srqld"
      },
      "execution_count": null,
      "outputs": []
    },
    {
      "cell_type": "code",
      "source": [
        "# 2분법으로 예측\n",
        "import lightgbm as ltb\n",
        "model = ltb.LGBMClassifier()\n",
        "model.fit(X_train, y_train)\n",
        "\n",
        "preds=[]\n",
        "pre=model.predict_proba(X_test)\n",
        "for qss in pre:\n",
        "    preds.append(qss[1]*100)"
      ],
      "metadata": {
        "id": "KSOclY2yrqhj"
      },
      "execution_count": null,
      "outputs": []
    },
    {
      "cell_type": "code",
      "source": [
        "result = pd.DataFrame({\n",
        "        \"Date\":test_date,\n",
        "        \"Symbol\": sym,\n",
        "        \"pred\": preds\n",
        "    })"
      ],
      "metadata": {
        "id": "I-qhgNBjrqea"
      },
      "execution_count": null,
      "outputs": []
    },
    {
      "cell_type": "code",
      "source": [
        "result['max_pred']=result.groupby(\"Date\")['pred'].transform('max')\n",
        "dapji=result.loc[(result['pred']==result['max_pred']) & (result['max_pred']>50),['Date','Symbol','pred']]\n",
        "# dapji=result.loc[(result['pred']==result['max_pred']) ,['Date','Symbol','pred']]\n",
        "\n",
        "dapji = dapji.reset_index(drop=True)"
      ],
      "metadata": {
        "id": "N0KP7Ls4rqTG"
      },
      "execution_count": null,
      "outputs": []
    },
    {
      "cell_type": "code",
      "source": [
        "# 20일간 최대상승폭 최대하락폭 20일후종가 데이터 불러오기\n",
        "for i in range(len(dapji)):\n",
        "    dapji.loc[i,'lowest_low_rate']=data2.loc[(data2['Date']==dapji['Date'][i]) & (data2['Symbol']==dapji['Symbol'][i]), 'lowest_low_rate'].values*100\n",
        "\n",
        "for i in range(len(dapji)):\n",
        "    dapji.loc[i,'highest_high_rate']=data2.loc[(data2['Date']==dapji['Date'][i]) & (data2['Symbol']==dapji['Symbol'][i]), 'highest_high_rate'].values*100\n",
        "\n",
        "for i in range(len(dapji)):\n",
        "    dapji.loc[i,'after20_rate']=data2.loc[(data2['Date']==dapji['Date'][i]) & (data2['Symbol']==dapji['Symbol'][i]), 'after20_rate'].values*100"
      ],
      "metadata": {
        "id": "DS6TO4FXs2JX"
      },
      "execution_count": null,
      "outputs": []
    },
    {
      "cell_type": "code",
      "source": [
        "dapji"
      ],
      "metadata": {
        "colab": {
          "base_uri": "https://localhost:8080/",
          "height": 269
        },
        "id": "MzNREvxos2G8",
        "outputId": "3a1a45da-d707-4016-8f40-0a22e4947833"
      },
      "execution_count": null,
      "outputs": [
        {
          "output_type": "execute_result",
          "data": {
            "text/plain": [
              "                        Date  Symbol       pred  lowest_low_rate  \\\n",
              "0  2022-01-27 00:00:00+09:00  003070  50.913205        -2.439024   \n",
              "1  2022-02-03 00:00:00+09:00  007110  52.316546        -7.894737   \n",
              "2  2022-02-04 00:00:00+09:00  007110  51.333883        -9.793814   \n",
              "3  2022-02-07 00:00:00+09:00  007110  52.112043        -8.376963   \n",
              "4  2022-02-11 00:00:00+09:00  007110  54.515476        -7.713499   \n",
              "5  2022-03-07 00:00:00+09:00  33637L  53.691865        -6.993007   \n",
              "6  2022-07-07 00:00:00+09:00  298000  53.585918        -7.262570   \n",
              "\n",
              "   highest_high_rate  after20_rate  \n",
              "0          16.531165     12.737127  \n",
              "1           3.157895      0.526316  \n",
              "2           1.030928     -4.381443  \n",
              "3           2.617801     -3.403141  \n",
              "4           5.234160     -6.060606  \n",
              "5           3.729604      0.466200  \n",
              "6           7.821229      4.748603  "
            ],
            "text/html": [
              "\n",
              "  <div id=\"df-0ee9564e-73cc-4859-85b5-d702b197d2fc\">\n",
              "    <div class=\"colab-df-container\">\n",
              "      <div>\n",
              "<style scoped>\n",
              "    .dataframe tbody tr th:only-of-type {\n",
              "        vertical-align: middle;\n",
              "    }\n",
              "\n",
              "    .dataframe tbody tr th {\n",
              "        vertical-align: top;\n",
              "    }\n",
              "\n",
              "    .dataframe thead th {\n",
              "        text-align: right;\n",
              "    }\n",
              "</style>\n",
              "<table border=\"1\" class=\"dataframe\">\n",
              "  <thead>\n",
              "    <tr style=\"text-align: right;\">\n",
              "      <th></th>\n",
              "      <th>Date</th>\n",
              "      <th>Symbol</th>\n",
              "      <th>pred</th>\n",
              "      <th>lowest_low_rate</th>\n",
              "      <th>highest_high_rate</th>\n",
              "      <th>after20_rate</th>\n",
              "    </tr>\n",
              "  </thead>\n",
              "  <tbody>\n",
              "    <tr>\n",
              "      <th>0</th>\n",
              "      <td>2022-01-27 00:00:00+09:00</td>\n",
              "      <td>003070</td>\n",
              "      <td>50.913205</td>\n",
              "      <td>-2.439024</td>\n",
              "      <td>16.531165</td>\n",
              "      <td>12.737127</td>\n",
              "    </tr>\n",
              "    <tr>\n",
              "      <th>1</th>\n",
              "      <td>2022-02-03 00:00:00+09:00</td>\n",
              "      <td>007110</td>\n",
              "      <td>52.316546</td>\n",
              "      <td>-7.894737</td>\n",
              "      <td>3.157895</td>\n",
              "      <td>0.526316</td>\n",
              "    </tr>\n",
              "    <tr>\n",
              "      <th>2</th>\n",
              "      <td>2022-02-04 00:00:00+09:00</td>\n",
              "      <td>007110</td>\n",
              "      <td>51.333883</td>\n",
              "      <td>-9.793814</td>\n",
              "      <td>1.030928</td>\n",
              "      <td>-4.381443</td>\n",
              "    </tr>\n",
              "    <tr>\n",
              "      <th>3</th>\n",
              "      <td>2022-02-07 00:00:00+09:00</td>\n",
              "      <td>007110</td>\n",
              "      <td>52.112043</td>\n",
              "      <td>-8.376963</td>\n",
              "      <td>2.617801</td>\n",
              "      <td>-3.403141</td>\n",
              "    </tr>\n",
              "    <tr>\n",
              "      <th>4</th>\n",
              "      <td>2022-02-11 00:00:00+09:00</td>\n",
              "      <td>007110</td>\n",
              "      <td>54.515476</td>\n",
              "      <td>-7.713499</td>\n",
              "      <td>5.234160</td>\n",
              "      <td>-6.060606</td>\n",
              "    </tr>\n",
              "    <tr>\n",
              "      <th>5</th>\n",
              "      <td>2022-03-07 00:00:00+09:00</td>\n",
              "      <td>33637L</td>\n",
              "      <td>53.691865</td>\n",
              "      <td>-6.993007</td>\n",
              "      <td>3.729604</td>\n",
              "      <td>0.466200</td>\n",
              "    </tr>\n",
              "    <tr>\n",
              "      <th>6</th>\n",
              "      <td>2022-07-07 00:00:00+09:00</td>\n",
              "      <td>298000</td>\n",
              "      <td>53.585918</td>\n",
              "      <td>-7.262570</td>\n",
              "      <td>7.821229</td>\n",
              "      <td>4.748603</td>\n",
              "    </tr>\n",
              "  </tbody>\n",
              "</table>\n",
              "</div>\n",
              "      <button class=\"colab-df-convert\" onclick=\"convertToInteractive('df-0ee9564e-73cc-4859-85b5-d702b197d2fc')\"\n",
              "              title=\"Convert this dataframe to an interactive table.\"\n",
              "              style=\"display:none;\">\n",
              "        \n",
              "  <svg xmlns=\"http://www.w3.org/2000/svg\" height=\"24px\"viewBox=\"0 0 24 24\"\n",
              "       width=\"24px\">\n",
              "    <path d=\"M0 0h24v24H0V0z\" fill=\"none\"/>\n",
              "    <path d=\"M18.56 5.44l.94 2.06.94-2.06 2.06-.94-2.06-.94-.94-2.06-.94 2.06-2.06.94zm-11 1L8.5 8.5l.94-2.06 2.06-.94-2.06-.94L8.5 2.5l-.94 2.06-2.06.94zm10 10l.94 2.06.94-2.06 2.06-.94-2.06-.94-.94-2.06-.94 2.06-2.06.94z\"/><path d=\"M17.41 7.96l-1.37-1.37c-.4-.4-.92-.59-1.43-.59-.52 0-1.04.2-1.43.59L10.3 9.45l-7.72 7.72c-.78.78-.78 2.05 0 2.83L4 21.41c.39.39.9.59 1.41.59.51 0 1.02-.2 1.41-.59l7.78-7.78 2.81-2.81c.8-.78.8-2.07 0-2.86zM5.41 20L4 18.59l7.72-7.72 1.47 1.35L5.41 20z\"/>\n",
              "  </svg>\n",
              "      </button>\n",
              "      \n",
              "  <style>\n",
              "    .colab-df-container {\n",
              "      display:flex;\n",
              "      flex-wrap:wrap;\n",
              "      gap: 12px;\n",
              "    }\n",
              "\n",
              "    .colab-df-convert {\n",
              "      background-color: #E8F0FE;\n",
              "      border: none;\n",
              "      border-radius: 50%;\n",
              "      cursor: pointer;\n",
              "      display: none;\n",
              "      fill: #1967D2;\n",
              "      height: 32px;\n",
              "      padding: 0 0 0 0;\n",
              "      width: 32px;\n",
              "    }\n",
              "\n",
              "    .colab-df-convert:hover {\n",
              "      background-color: #E2EBFA;\n",
              "      box-shadow: 0px 1px 2px rgba(60, 64, 67, 0.3), 0px 1px 3px 1px rgba(60, 64, 67, 0.15);\n",
              "      fill: #174EA6;\n",
              "    }\n",
              "\n",
              "    [theme=dark] .colab-df-convert {\n",
              "      background-color: #3B4455;\n",
              "      fill: #D2E3FC;\n",
              "    }\n",
              "\n",
              "    [theme=dark] .colab-df-convert:hover {\n",
              "      background-color: #434B5C;\n",
              "      box-shadow: 0px 1px 3px 1px rgba(0, 0, 0, 0.15);\n",
              "      filter: drop-shadow(0px 1px 2px rgba(0, 0, 0, 0.3));\n",
              "      fill: #FFFFFF;\n",
              "    }\n",
              "  </style>\n",
              "\n",
              "      <script>\n",
              "        const buttonEl =\n",
              "          document.querySelector('#df-0ee9564e-73cc-4859-85b5-d702b197d2fc button.colab-df-convert');\n",
              "        buttonEl.style.display =\n",
              "          google.colab.kernel.accessAllowed ? 'block' : 'none';\n",
              "\n",
              "        async function convertToInteractive(key) {\n",
              "          const element = document.querySelector('#df-0ee9564e-73cc-4859-85b5-d702b197d2fc');\n",
              "          const dataTable =\n",
              "            await google.colab.kernel.invokeFunction('convertToInteractive',\n",
              "                                                     [key], {});\n",
              "          if (!dataTable) return;\n",
              "\n",
              "          const docLinkHtml = 'Like what you see? Visit the ' +\n",
              "            '<a target=\"_blank\" href=https://colab.research.google.com/notebooks/data_table.ipynb>data table notebook</a>'\n",
              "            + ' to learn more about interactive tables.';\n",
              "          element.innerHTML = '';\n",
              "          dataTable['output_type'] = 'display_data';\n",
              "          await google.colab.output.renderOutput(dataTable, element);\n",
              "          const docLink = document.createElement('div');\n",
              "          docLink.innerHTML = docLinkHtml;\n",
              "          element.appendChild(docLink);\n",
              "        }\n",
              "      </script>\n",
              "    </div>\n",
              "  </div>\n",
              "  "
            ]
          },
          "metadata": {},
          "execution_count": 19
        }
      ]
    },
    {
      "cell_type": "code",
      "source": [
        "dapji['Date']=pd.to_datetime(dapji['Date'])\n",
        "\n",
        "자본금=1000000\n",
        "money=[]\n",
        "aa=dapji['lowest_low_rate'].tolist()\n",
        "bb=dapji['highest_high_rate'].tolist()\n",
        "cc=dapji['after20_rate'].tolist()\n",
        "for i in range(len(aa)):\n",
        "    # 손절\n",
        "    if aa[i]<=-5:\n",
        "        자본금=(자본금*0.99985*((100-5)/100))*0.99985\n",
        "        money.append(자본금)\n",
        "    elif bb[i]>=10:\n",
        "        자본금=(자본금*0.99985*((100+10)/100))*0.99985\n",
        "        money.append(자본금)\n",
        "    else:\n",
        "        자본금=(자본금*0.99985*((100+cc[i])/100))*0.99985\n",
        "        money.append(자본금)       \n",
        "dapji['money'] = money\n",
        "print(f'{자본금:.0f}₩')"
      ],
      "metadata": {
        "colab": {
          "base_uri": "https://localhost:8080/"
        },
        "id": "exI5tSnKs2Eg",
        "outputId": "0728020e-b260-4c93-8179-6b2d9343aac7"
      },
      "execution_count": null,
      "outputs": [
        {
          "output_type": "stream",
          "name": "stdout",
          "text": [
            "806905₩\n"
          ]
        }
      ]
    },
    {
      "cell_type": "code",
      "source": [
        "-19"
      ],
      "metadata": {
        "id": "T2UBY62e2kmv"
      },
      "execution_count": null,
      "outputs": []
    },
    {
      "cell_type": "code",
      "source": [
        "import seaborn as sns\n",
        "import matplotlib.pyplot as plt\n",
        "fig = plt.figure(figsize=(10, 6))\n",
        "fig.set_facecolor('white')\n",
        "sns.lineplot(data=dapji, x='Date', y='money')\n",
        "plt.show()"
      ],
      "metadata": {
        "colab": {
          "base_uri": "https://localhost:8080/",
          "height": 399
        },
        "id": "Uk1edK-KvlGT",
        "outputId": "d223ae94-44f6-44d3-df43-d3064b09f092"
      },
      "execution_count": null,
      "outputs": [
        {
          "output_type": "display_data",
          "data": {
            "text/plain": [
              "<Figure size 720x432 with 1 Axes>"
            ],
            "image/png": "[encoded data removed]"
          },
          "metadata": {}
        }
      ]
    },
    {
      "cell_type": "markdown",
      "source": [
        "## 실전성능평가(회귀)"
      ],
      "metadata": {
        "id": "uEa22AyO5DKN"
      }
    },
    {
      "cell_type": "code",
      "source": [
        "data = pd.read_pickle('/content/drive/MyDrive/ColabNotebooks/개인프로젝트/비트코인 /longshort_7.csv')\n",
        "data=data.sort_values('Date') \n",
        "data = data.reset_index(drop=True)\n",
        "# gc.collect()\n",
        "print(len(data))\n"
      ],
      "metadata": {
        "colab": {
          "base_uri": "https://localhost:8080/"
        },
        "id": "pk-3uFFY5F-E",
        "outputId": "ebedbb09-0704-4a5d-fb86-85a7ec55cbb5"
      },
      "execution_count": null,
      "outputs": [
        {
          "output_type": "stream",
          "name": "stdout",
          "text": [
            "3479480\n"
          ]
        }
      ]
    },
    {
      "cell_type": "code",
      "source": [
        "data2=data.loc[3088382:,['Date', 'Symbol', 'tomorrow_pred']]\n",
        "a=data2['Date'].nunique()\n",
        "b=data2['Symbol'].nunique()\n",
        "print(a)\n",
        "print(b)\n",
        "print(len(data2))\n",
        "print(a*b)"
      ],
      "metadata": {
        "colab": {
          "base_uri": "https://localhost:8080/"
        },
        "id": "3D3rZt2cjVtu",
        "outputId": "7227e61b-93eb-49e1-e2da-b45b83a24860"
      },
      "execution_count": null,
      "outputs": [
        {
          "output_type": "stream",
          "name": "stdout",
          "text": [
            "447\n",
            "903\n",
            "391098\n",
            "403641\n"
          ]
        }
      ]
    },
    {
      "cell_type": "code",
      "source": [
        "# data.loc[data['Date']=='2020-11-10 00:00:00+09:00',:]\n",
        "# data.loc[2510683]\n",
        "# data"
      ],
      "metadata": {
        "id": "7626XTVQstWR"
      },
      "execution_count": null,
      "outputs": []
    },
    {
      "cell_type": "code",
      "source": [
        "# 변화율이 30을 초과하거나 -30미만인 경우 드랍\n",
        "data=data.drop(index=data[ data['Close_change'] < -0.3  ].index)\n",
        "data=data.drop(index=data[ data['Close_change'] > 0.3  ].index)\n",
        "\n",
        "data = data.reset_index(drop=True)\n",
        "\n",
        "# 결측값, inf값 0으로 치환\n",
        "data = data.replace([np.inf, -np.inf], np.nan)\n",
        "data = data.fillna(0)\n",
        "\n",
        "# 남겨놓기\n",
        "data2=data.loc[3088382:,['Date', 'Symbol', 'tomorrow_pred']]\n",
        "sym=data['Symbol'].tolist()[3088382:]\n",
        "test_date=data['Date'].tolist()[3088382:]\n",
        "\n",
        "# 컬럼 드랍\n",
        "data=data.drop(['Date', 'Symbol','swing', 'highest_high_rate', 'lowest_low_rate', 'after20_rate', 'long_short'], axis=1)\n",
        "\n",
        "# 이것들은 제외하고\n",
        "a=data.columns.values\n",
        "a=a.tolist()\n",
        "a.remove('BPS') \n",
        "a.remove('PER') \n",
        "a.remove('PBR') \n",
        "a.remove('EPS') \n",
        "a.remove('DIV') \n",
        "a.remove('DPS') \n",
        "\n",
        "# 100넘는것들 다 100으로 한정\n",
        "for i in a:\n",
        "    data.loc[data[i]>100,i]=100\n",
        "for i in a:\n",
        "    data.loc[data[i]<-100,i]=-100"
      ],
      "metadata": {
        "id": "wtrrG8aQl7Fv"
      },
      "execution_count": null,
      "outputs": []
    },
    {
      "cell_type": "code",
      "source": [
        "# 정확한 상승률으로 접근\n",
        "train=data.loc[:3088382,:]\n",
        "test=data.loc[3088382:,:]\n",
        "X_train = train.drop(['tomorrow_pred'], axis=1) \n",
        "y_train = train['tomorrow_pred'] \n",
        "X_test = test.drop(['tomorrow_pred'], axis=1) \n",
        "y_test = test['tomorrow_pred'] "
      ],
      "metadata": {
        "id": "ofGMEvnN50oN"
      },
      "execution_count": null,
      "outputs": []
    },
    {
      "cell_type": "code",
      "source": [
        "# 회귀\n",
        "import lightgbm as ltb\n",
        "model = ltb.LGBMRegressor()\n",
        "model.fit(X_train, y_train)\n",
        "\n",
        "preds=model.predict(X_test)\n",
        "\n",
        "preds=preds*100"
      ],
      "metadata": {
        "id": "fGgL_EaZ6jXW"
      },
      "execution_count": null,
      "outputs": []
    },
    {
      "cell_type": "code",
      "source": [
        "result = pd.DataFrame({\n",
        "        \"Date\":test_date,\n",
        "        \"Symbol\": sym,\n",
        "        \"pred\": preds\n",
        "    })"
      ],
      "metadata": {
        "id": "kmyRldFj65Y5"
      },
      "execution_count": null,
      "outputs": []
    },
    {
      "cell_type": "code",
      "source": [
        "result['max_pred']=result.groupby(\"Date\")['pred'].transform('max')\n",
        "dapji2=result.loc[(result['pred']==result['max_pred']) & (result['max_pred']>1),['Date','Symbol','pred']]\n",
        "dapji2 = dapji2.reset_index(drop=True)"
      ],
      "metadata": {
        "id": "Dq2Rke8765Rq"
      },
      "execution_count": null,
      "outputs": []
    },
    {
      "cell_type": "code",
      "source": [
        "# 실제 오른정도 불러오기\n",
        "for i in range(len(dapji2)):\n",
        "    dapji2.loc[i,'actual']=data2.loc[(data2['Date']==dapji2['Date'][i]) & (data2['Symbol']==dapji2['Symbol'][i]), 'tomorrow_pred'].values*100"
      ],
      "metadata": {
        "id": "auf0ZEy46_fr"
      },
      "execution_count": null,
      "outputs": []
    },
    {
      "cell_type": "code",
      "source": [
        "dapji2"
      ],
      "metadata": {
        "id": "lrBNyWnw7B21",
        "colab": {
          "base_uri": "https://localhost:8080/",
          "height": 1000
        },
        "outputId": "d952864e-db21-403e-d735-c29ac96f09f2"
      },
      "execution_count": null,
      "outputs": [
        {
          "output_type": "execute_result",
          "data": {
            "text/plain": [
              "                         Date  Symbol      pred     actual\n",
              "0   2020-11-12 00:00:00+09:00  019175  1.241430  26.484018\n",
              "1   2020-12-08 00:00:00+09:00  005030  1.066805  -1.973684\n",
              "2   2020-12-15 00:00:00+09:00  004985  1.138257  -1.568627\n",
              "3   2020-12-21 00:00:00+09:00  019175  1.312991  -6.400000\n",
              "4   2020-12-22 00:00:00+09:00  006890  1.017475  -4.195804\n",
              "5   2020-12-23 00:00:00+09:00  011000  1.987923   5.109491\n",
              "6   2020-12-24 00:00:00+09:00  092200  1.565356   2.767528\n",
              "7   2021-01-04 00:00:00+09:00  006110  1.369769   0.803213\n",
              "8   2021-01-19 00:00:00+09:00  019170  1.080186   3.157895\n",
              "9   2021-01-27 00:00:00+09:00  024070  1.102282  -4.166667\n",
              "10  2021-01-29 00:00:00+09:00  019170  2.445782   6.775408\n",
              "11  2021-02-01 00:00:00+09:00  002070  1.210295  -1.204819\n",
              "12  2021-02-08 00:00:00+09:00  010690  1.817600   3.148148\n",
              "13  2021-02-26 00:00:00+09:00  093230  1.736573  27.409639\n",
              "14  2021-03-04 00:00:00+09:00  012600  1.048219   7.361111\n",
              "15  2021-03-05 00:00:00+09:00  007575  1.027000  -7.171854\n",
              "16  2021-03-08 00:00:00+09:00  007570  1.345220  -3.560831\n",
              "17  2021-03-11 00:00:00+09:00  012600  1.690967  -3.250000\n",
              "18  2021-04-19 00:00:00+09:00  000890  1.495482  -2.024291\n",
              "19  2021-04-22 00:00:00+09:00  000325  1.215993  21.757322\n",
              "20  2021-04-28 00:00:00+09:00  008775  1.395918  -2.795031\n",
              "21  2021-04-30 00:00:00+09:00  019490  1.330694  -4.018547\n",
              "22  2021-05-03 00:00:00+09:00  019175  1.595828  -1.253918\n",
              "23  2021-05-04 00:00:00+09:00  019175  1.259212   9.967846\n",
              "24  2021-05-11 00:00:00+09:00  090355  2.563237  11.538462\n",
              "25  2021-05-12 00:00:00+09:00  001067  1.312644  -1.818184\n",
              "26  2021-05-17 00:00:00+09:00  049800  1.356838  -2.607710\n",
              "27  2021-06-30 00:00:00+09:00  006345  1.521553  -5.031447\n",
              "28  2021-07-08 00:00:00+09:00  019175  1.254827  -1.119821\n",
              "29  2021-07-09 00:00:00+09:00  019175  1.412932  -3.624009\n",
              "30  2021-07-19 00:00:00+09:00  015020  1.343700   4.000000\n",
              "31  2021-08-13 00:00:00+09:00  019490  1.656381 -18.824701\n",
              "32  2021-08-17 00:00:00+09:00  019490  1.048846   0.000000\n",
              "33  2021-08-19 00:00:00+09:00  019490  1.590178  15.013405\n",
              "34  2021-08-20 00:00:00+09:00  005320  1.911030  -3.100775\n",
              "35  2021-09-28 00:00:00+09:00  003580  1.245720   8.274648\n",
              "36  2021-09-29 00:00:00+09:00  001470  1.892941  -1.304348\n",
              "37  2021-09-30 00:00:00+09:00  019490  1.291395   0.263158\n",
              "38  2021-10-05 00:00:00+09:00  030790  1.579451  -4.648241\n",
              "39  2021-10-06 00:00:00+09:00  155660  1.528296  10.236220\n",
              "40  2021-10-29 00:00:00+09:00  019175  1.014151  -0.762195\n",
              "41  2021-11-03 00:00:00+09:00  000725  1.035555  -2.030457\n",
              "42  2021-11-05 00:00:00+09:00  013000  1.087266   6.976744\n",
              "43  2021-11-10 00:00:00+09:00  111110  1.138074  -5.192308\n",
              "44  2021-11-26 00:00:00+09:00  012170  2.209519   0.689655\n",
              "45  2021-11-30 00:00:00+09:00  024070  2.120692   4.501608\n",
              "46  2021-12-01 00:00:00+09:00  012170  1.117199   4.363636\n",
              "47  2022-01-05 00:00:00+09:00  020760  1.980175  -3.080077\n",
              "48  2022-01-06 00:00:00+09:00  020760  1.486152   2.105264\n",
              "49  2022-01-14 00:00:00+09:00  012630  1.495106   3.856041\n",
              "50  2022-01-18 00:00:00+09:00  013360  1.882707   0.668896\n",
              "51  2022-01-20 00:00:00+09:00  001430  1.197570   1.639344\n",
              "52  2022-01-21 00:00:00+09:00  001210  1.079498 -14.673913\n",
              "53  2022-01-24 00:00:00+09:00  001210  1.320023  -9.297521\n",
              "54  2022-01-25 00:00:00+09:00  093240  2.114445   0.000000\n",
              "55  2022-01-26 00:00:00+09:00  001210  1.164253  -6.910569\n",
              "56  2022-01-27 00:00:00+09:00  003580  5.742217   6.185567\n",
              "57  2022-02-07 00:00:00+09:00  004920  1.030978   0.000000\n",
              "58  2022-02-11 00:00:00+09:00  019490  1.055028   2.298851\n",
              "59  2022-02-14 00:00:00+09:00  015020  1.340998  -0.263158\n",
              "60  2022-02-15 00:00:00+09:00  004920  1.108962   8.333333\n",
              "61  2022-02-25 00:00:00+09:00  002360  3.025873   0.000000\n",
              "62  2022-03-08 00:00:00+09:00  004830  1.695023   0.000000\n",
              "63  2022-03-11 00:00:00+09:00  004830  1.135291  -1.277955\n",
              "64  2022-03-14 00:00:00+09:00  019170  3.605079   0.000000\n",
              "65  2022-04-11 00:00:00+09:00  010640  1.405070  -0.328407\n",
              "66  2022-04-29 00:00:00+09:00  000230  1.248128   4.074074\n",
              "67  2022-05-12 00:00:00+09:00  249420  1.489175   1.104972\n",
              "68  2022-05-13 00:00:00+09:00  102280  1.346185  -0.450450\n",
              "69  2022-06-10 00:00:00+09:00  249420  1.259935  -2.422611\n",
              "70  2022-06-13 00:00:00+09:00  017040  2.158685  -0.783699\n",
              "71  2022-06-14 00:00:00+09:00  001210  2.374451  -7.000000\n",
              "72  2022-06-17 00:00:00+09:00  006740  1.240639  -2.043597\n",
              "73  2022-06-21 00:00:00+09:00  006740  1.057787  -3.713893\n",
              "74  2022-06-22 00:00:00+09:00  001770  1.306332 -12.220310\n",
              "75  2022-06-23 00:00:00+09:00  005965  1.477909   4.025424\n",
              "76  2022-06-27 00:00:00+09:00  143210  1.312821   0.286533\n",
              "77  2022-07-01 00:00:00+09:00  016380  1.064809  -0.383142\n",
              "78  2022-07-05 00:00:00+09:00  006740  1.049936  -1.825843\n",
              "79  2022-07-06 00:00:00+09:00  361610  1.372969  -0.847458\n",
              "80  2022-07-12 00:00:00+09:00  006880  1.037106   3.463203\n",
              "81  2022-08-22 00:00:00+09:00  047400  1.005014  -2.941176\n",
              "82  2022-09-07 00:00:00+09:00  020760  1.019766  -0.651466\n",
              "83  2022-09-13 00:00:00+09:00  079550  1.497926   3.094984\n",
              "84  2022-09-23 00:00:00+09:00  001020  1.661682  -5.904059\n",
              "85  2022-09-27 00:00:00+09:00  023960  1.850214   9.868421\n",
              "86  2022-09-28 00:00:00+09:00  101140  1.686041   1.219512"
            ],
            "text/html": [
              "\n",
              "  <div id=\"df-c8db2ee1-3107-4883-8412-dbb70596a30c\">\n",
              "    <div class=\"colab-df-container\">\n",
              "      <div>\n",
              "<style scoped>\n",
              "    .dataframe tbody tr th:only-of-type {\n",
              "        vertical-align: middle;\n",
              "    }\n",
              "\n",
              "    .dataframe tbody tr th {\n",
              "        vertical-align: top;\n",
              "    }\n",
              "\n",
              "    .dataframe thead th {\n",
              "        text-align: right;\n",
              "    }\n",
              "</style>\n",
              "<table border=\"1\" class=\"dataframe\">\n",
              "  <thead>\n",
              "    <tr style=\"text-align: right;\">\n",
              "      <th></th>\n",
              "      <th>Date</th>\n",
              "      <th>Symbol</th>\n",
              "      <th>pred</th>\n",
              "      <th>actual</th>\n",
              "    </tr>\n",
              "  </thead>\n",
              "  <tbody>\n",
              "    <tr>\n",
              "      <th>0</th>\n",
              "      <td>2020-11-12 00:00:00+09:00</td>\n",
              "      <td>019175</td>\n",
              "      <td>1.241430</td>\n",
              "      <td>26.484018</td>\n",
              "    </tr>\n",
              "    <tr>\n",
              "      <th>1</th>\n",
              "      <td>2020-12-08 00:00:00+09:00</td>\n",
              "      <td>005030</td>\n",
              "      <td>1.066805</td>\n",
              "      <td>-1.973684</td>\n",
              "    </tr>\n",
              "    <tr>\n",
              "      <th>2</th>\n",
              "      <td>2020-12-15 00:00:00+09:00</td>\n",
              "      <td>004985</td>\n",
              "      <td>1.138257</td>\n",
              "      <td>-1.568627</td>\n",
              "    </tr>\n",
              "    <tr>\n",
              "      <th>3</th>\n",
              "      <td>2020-12-21 00:00:00+09:00</td>\n",
              "      <td>019175</td>\n",
              "      <td>1.312991</td>\n",
              "      <td>-6.400000</td>\n",
              "    </tr>\n",
              "    <tr>\n",
              "      <th>4</th>\n",
              "      <td>2020-12-22 00:00:00+09:00</td>\n",
              "      <td>006890</td>\n",
              "      <td>1.017475</td>\n",
              "      <td>-4.195804</td>\n",
              "    </tr>\n",
              "    <tr>\n",
              "      <th>5</th>\n",
              "      <td>2020-12-23 00:00:00+09:00</td>\n",
              "      <td>011000</td>\n",
              "      <td>1.987923</td>\n",
              "      <td>5.109491</td>\n",
              "    </tr>\n",
              "    <tr>\n",
              "      <th>6</th>\n",
              "      <td>2020-12-24 00:00:00+09:00</td>\n",
              "      <td>092200</td>\n",
              "      <td>1.565356</td>\n",
              "      <td>2.767528</td>\n",
              "    </tr>\n",
              "    <tr>\n",
              "      <th>7</th>\n",
              "      <td>2021-01-04 00:00:00+09:00</td>\n",
              "      <td>006110</td>\n",
              "      <td>1.369769</td>\n",
              "      <td>0.803213</td>\n",
              "    </tr>\n",
              "    <tr>\n",
              "      <th>8</th>\n",
              "      <td>2021-01-19 00:00:00+09:00</td>\n",
              "      <td>019170</td>\n",
              "      <td>1.080186</td>\n",
              "      <td>3.157895</td>\n",
              "    </tr>\n",
              "    <tr>\n",
              "      <th>9</th>\n",
              "      <td>2021-01-27 00:00:00+09:00</td>\n",
              "      <td>024070</td>\n",
              "      <td>1.102282</td>\n",
              "      <td>-4.166667</td>\n",
              "    </tr>\n",
              "    <tr>\n",
              "      <th>10</th>\n",
              "      <td>2021-01-29 00:00:00+09:00</td>\n",
              "      <td>019170</td>\n",
              "      <td>2.445782</td>\n",
              "      <td>6.775408</td>\n",
              "    </tr>\n",
              "    <tr>\n",
              "      <th>11</th>\n",
              "      <td>2021-02-01 00:00:00+09:00</td>\n",
              "      <td>002070</td>\n",
              "      <td>1.210295</td>\n",
              "      <td>-1.204819</td>\n",
              "    </tr>\n",
              "    <tr>\n",
              "      <th>12</th>\n",
              "      <td>2021-02-08 00:00:00+09:00</td>\n",
              "      <td>010690</td>\n",
              "      <td>1.817600</td>\n",
              "      <td>3.148148</td>\n",
              "    </tr>\n",
              "    <tr>\n",
              "      <th>13</th>\n",
              "      <td>2021-02-26 00:00:00+09:00</td>\n",
              "      <td>093230</td>\n",
              "      <td>1.736573</td>\n",
              "      <td>27.409639</td>\n",
              "    </tr>\n",
              "    <tr>\n",
              "      <th>14</th>\n",
              "      <td>2021-03-04 00:00:00+09:00</td>\n",
              "      <td>012600</td>\n",
              "      <td>1.048219</td>\n",
              "      <td>7.361111</td>\n",
              "    </tr>\n",
              "    <tr>\n",
              "      <th>15</th>\n",
              "      <td>2021-03-05 00:00:00+09:00</td>\n",
              "      <td>007575</td>\n",
              "      <td>1.027000</td>\n",
              "      <td>-7.171854</td>\n",
              "    </tr>\n",
              "    <tr>\n",
              "      <th>16</th>\n",
              "      <td>2021-03-08 00:00:00+09:00</td>\n",
              "      <td>007570</td>\n",
              "      <td>1.345220</td>\n",
              "      <td>-3.560831</td>\n",
              "    </tr>\n",
              "    <tr>\n",
              "      <th>17</th>\n",
              "      <td>2021-03-11 00:00:00+09:00</td>\n",
              "      <td>012600</td>\n",
              "      <td>1.690967</td>\n",
              "      <td>-3.250000</td>\n",
              "    </tr>\n",
              "    <tr>\n",
              "      <th>18</th>\n",
              "      <td>2021-04-19 00:00:00+09:00</td>\n",
              "      <td>000890</td>\n",
              "      <td>1.495482</td>\n",
              "      <td>-2.024291</td>\n",
              "    </tr>\n",
              "    <tr>\n",
              "      <th>19</th>\n",
              "      <td>2021-04-22 00:00:00+09:00</td>\n",
              "      <td>000325</td>\n",
              "      <td>1.215993</td>\n",
              "      <td>21.757322</td>\n",
              "    </tr>\n",
              "    <tr>\n",
              "      <th>20</th>\n",
              "      <td>2021-04-28 00:00:00+09:00</td>\n",
              "      <td>008775</td>\n",
              "      <td>1.395918</td>\n",
              "      <td>-2.795031</td>\n",
              "    </tr>\n",
              "    <tr>\n",
              "      <th>21</th>\n",
              "      <td>2021-04-30 00:00:00+09:00</td>\n",
              "      <td>019490</td>\n",
              "      <td>1.330694</td>\n",
              "      <td>-4.018547</td>\n",
              "    </tr>\n",
              "    <tr>\n",
              "      <th>22</th>\n",
              "      <td>2021-05-03 00:00:00+09:00</td>\n",
              "      <td>019175</td>\n",
              "      <td>1.595828</td>\n",
              "      <td>-1.253918</td>\n",
              "    </tr>\n",
              "    <tr>\n",
              "      <th>23</th>\n",
              "      <td>2021-05-04 00:00:00+09:00</td>\n",
              "      <td>019175</td>\n",
              "      <td>1.259212</td>\n",
              "      <td>9.967846</td>\n",
              "    </tr>\n",
              "    <tr>\n",
              "      <th>24</th>\n",
              "      <td>2021-05-11 00:00:00+09:00</td>\n",
              "      <td>090355</td>\n",
              "      <td>2.563237</td>\n",
              "      <td>11.538462</td>\n",
              "    </tr>\n",
              "    <tr>\n",
              "      <th>25</th>\n",
              "      <td>2021-05-12 00:00:00+09:00</td>\n",
              "      <td>001067</td>\n",
              "      <td>1.312644</td>\n",
              "      <td>-1.818184</td>\n",
              "    </tr>\n",
              "    <tr>\n",
              "      <th>26</th>\n",
              "      <td>2021-05-17 00:00:00+09:00</td>\n",
              "      <td>049800</td>\n",
              "      <td>1.356838</td>\n",
              "      <td>-2.607710</td>\n",
              "    </tr>\n",
              "    <tr>\n",
              "      <th>27</th>\n",
              "      <td>2021-06-30 00:00:00+09:00</td>\n",
              "      <td>006345</td>\n",
              "      <td>1.521553</td>\n",
              "      <td>-5.031447</td>\n",
              "    </tr>\n",
              "    <tr>\n",
              "      <th>28</th>\n",
              "      <td>2021-07-08 00:00:00+09:00</td>\n",
              "      <td>019175</td>\n",
              "      <td>1.254827</td>\n",
              "      <td>-1.119821</td>\n",
              "    </tr>\n",
              "    <tr>\n",
              "      <th>29</th>\n",
              "      <td>2021-07-09 00:00:00+09:00</td>\n",
              "      <td>019175</td>\n",
              "      <td>1.412932</td>\n",
              "      <td>-3.624009</td>\n",
              "    </tr>\n",
              "    <tr>\n",
              "      <th>30</th>\n",
              "      <td>2021-07-19 00:00:00+09:00</td>\n",
              "      <td>015020</td>\n",
              "      <td>1.343700</td>\n",
              "      <td>4.000000</td>\n",
              "    </tr>\n",
              "    <tr>\n",
              "      <th>31</th>\n",
              "      <td>2021-08-13 00:00:00+09:00</td>\n",
              "      <td>019490</td>\n",
              "      <td>1.656381</td>\n",
              "      <td>-18.824701</td>\n",
              "    </tr>\n",
              "    <tr>\n",
              "      <th>32</th>\n",
              "      <td>2021-08-17 00:00:00+09:00</td>\n",
              "      <td>019490</td>\n",
              "      <td>1.048846</td>\n",
              "      <td>0.000000</td>\n",
              "    </tr>\n",
              "    <tr>\n",
              "      <th>33</th>\n",
              "      <td>2021-08-19 00:00:00+09:00</td>\n",
              "      <td>019490</td>\n",
              "      <td>1.590178</td>\n",
              "      <td>15.013405</td>\n",
              "    </tr>\n",
              "    <tr>\n",
              "      <th>34</th>\n",
              "      <td>2021-08-20 00:00:00+09:00</td>\n",
              "      <td>005320</td>\n",
              "      <td>1.911030</td>\n",
              "      <td>-3.100775</td>\n",
              "    </tr>\n",
              "    <tr>\n",
              "      <th>35</th>\n",
              "      <td>2021-09-28 00:00:00+09:00</td>\n",
              "      <td>003580</td>\n",
              "      <td>1.245720</td>\n",
              "      <td>8.274648</td>\n",
              "    </tr>\n",
              "    <tr>\n",
              "      <th>36</th>\n",
              "      <td>2021-09-29 00:00:00+09:00</td>\n",
              "      <td>001470</td>\n",
              "      <td>1.892941</td>\n",
              "      <td>-1.304348</td>\n",
              "    </tr>\n",
              "    <tr>\n",
              "      <th>37</th>\n",
              "      <td>2021-09-30 00:00:00+09:00</td>\n",
              "      <td>019490</td>\n",
              "      <td>1.291395</td>\n",
              "      <td>0.263158</td>\n",
              "    </tr>\n",
              "    <tr>\n",
              "      <th>38</th>\n",
              "      <td>2021-10-05 00:00:00+09:00</td>\n",
              "      <td>030790</td>\n",
              "      <td>1.579451</td>\n",
              "      <td>-4.648241</td>\n",
              "    </tr>\n",
              "    <tr>\n",
              "      <th>39</th>\n",
              "      <td>2021-10-06 00:00:00+09:00</td>\n",
              "      <td>155660</td>\n",
              "      <td>1.528296</td>\n",
              "      <td>10.236220</td>\n",
              "    </tr>\n",
              "    <tr>\n",
              "      <th>40</th>\n",
              "      <td>2021-10-29 00:00:00+09:00</td>\n",
              "      <td>019175</td>\n",
              "      <td>1.014151</td>\n",
              "      <td>-0.762195</td>\n",
              "    </tr>\n",
              "    <tr>\n",
              "      <th>41</th>\n",
              "      <td>2021-11-03 00:00:00+09:00</td>\n",
              "      <td>000725</td>\n",
              "      <td>1.035555</td>\n",
              "      <td>-2.030457</td>\n",
              "    </tr>\n",
              "    <tr>\n",
              "      <th>42</th>\n",
              "      <td>2021-11-05 00:00:00+09:00</td>\n",
              "      <td>013000</td>\n",
              "      <td>1.087266</td>\n",
              "      <td>6.976744</td>\n",
              "    </tr>\n",
              "    <tr>\n",
              "      <th>43</th>\n",
              "      <td>2021-11-10 00:00:00+09:00</td>\n",
              "      <td>111110</td>\n",
              "      <td>1.138074</td>\n",
              "      <td>-5.192308</td>\n",
              "    </tr>\n",
              "    <tr>\n",
              "      <th>44</th>\n",
              "      <td>2021-11-26 00:00:00+09:00</td>\n",
              "      <td>012170</td>\n",
              "      <td>2.209519</td>\n",
              "      <td>0.689655</td>\n",
              "    </tr>\n",
              "    <tr>\n",
              "      <th>45</th>\n",
              "      <td>2021-11-30 00:00:00+09:00</td>\n",
              "      <td>024070</td>\n",
              "      <td>2.120692</td>\n",
              "      <td>4.501608</td>\n",
              "    </tr>\n",
              "    <tr>\n",
              "      <th>46</th>\n",
              "      <td>2021-12-01 00:00:00+09:00</td>\n",
              "      <td>012170</td>\n",
              "      <td>1.117199</td>\n",
              "      <td>4.363636</td>\n",
              "    </tr>\n",
              "    <tr>\n",
              "      <th>47</th>\n",
              "      <td>2022-01-05 00:00:00+09:00</td>\n",
              "      <td>020760</td>\n",
              "      <td>1.980175</td>\n",
              "      <td>-3.080077</td>\n",
              "    </tr>\n",
              "    <tr>\n",
              "      <th>48</th>\n",
              "      <td>2022-01-06 00:00:00+09:00</td>\n",
              "      <td>020760</td>\n",
              "      <td>1.486152</td>\n",
              "      <td>2.105264</td>\n",
              "    </tr>\n",
              "    <tr>\n",
              "      <th>49</th>\n",
              "      <td>2022-01-14 00:00:00+09:00</td>\n",
              "      <td>012630</td>\n",
              "      <td>1.495106</td>\n",
              "      <td>3.856041</td>\n",
              "    </tr>\n",
              "    <tr>\n",
              "      <th>50</th>\n",
              "      <td>2022-01-18 00:00:00+09:00</td>\n",
              "      <td>013360</td>\n",
              "      <td>1.882707</td>\n",
              "      <td>0.668896</td>\n",
              "    </tr>\n",
              "    <tr>\n",
              "      <th>51</th>\n",
              "      <td>2022-01-20 00:00:00+09:00</td>\n",
              "      <td>001430</td>\n",
              "      <td>1.197570</td>\n",
              "      <td>1.639344</td>\n",
              "    </tr>\n",
              "    <tr>\n",
              "      <th>52</th>\n",
              "      <td>2022-01-21 00:00:00+09:00</td>\n",
              "      <td>001210</td>\n",
              "      <td>1.079498</td>\n",
              "      <td>-14.673913</td>\n",
              "    </tr>\n",
              "    <tr>\n",
              "      <th>53</th>\n",
              "      <td>2022-01-24 00:00:00+09:00</td>\n",
              "      <td>001210</td>\n",
              "      <td>1.320023</td>\n",
              "      <td>-9.297521</td>\n",
              "    </tr>\n",
              "    <tr>\n",
              "      <th>54</th>\n",
              "      <td>2022-01-25 00:00:00+09:00</td>\n",
              "      <td>093240</td>\n",
              "      <td>2.114445</td>\n",
              "      <td>0.000000</td>\n",
              "    </tr>\n",
              "    <tr>\n",
              "      <th>55</th>\n",
              "      <td>2022-01-26 00:00:00+09:00</td>\n",
              "      <td>001210</td>\n",
              "      <td>1.164253</td>\n",
              "      <td>-6.910569</td>\n",
              "    </tr>\n",
              "    <tr>\n",
              "      <th>56</th>\n",
              "      <td>2022-01-27 00:00:00+09:00</td>\n",
              "      <td>003580</td>\n",
              "      <td>5.742217</td>\n",
              "      <td>6.185567</td>\n",
              "    </tr>\n",
              "    <tr>\n",
              "      <th>57</th>\n",
              "      <td>2022-02-07 00:00:00+09:00</td>\n",
              "      <td>004920</td>\n",
              "      <td>1.030978</td>\n",
              "      <td>0.000000</td>\n",
              "    </tr>\n",
              "    <tr>\n",
              "      <th>58</th>\n",
              "      <td>2022-02-11 00:00:00+09:00</td>\n",
              "      <td>019490</td>\n",
              "      <td>1.055028</td>\n",
              "      <td>2.298851</td>\n",
              "    </tr>\n",
              "    <tr>\n",
              "      <th>59</th>\n",
              "      <td>2022-02-14 00:00:00+09:00</td>\n",
              "      <td>015020</td>\n",
              "      <td>1.340998</td>\n",
              "      <td>-0.263158</td>\n",
              "    </tr>\n",
              "    <tr>\n",
              "      <th>60</th>\n",
              "      <td>2022-02-15 00:00:00+09:00</td>\n",
              "      <td>004920</td>\n",
              "      <td>1.108962</td>\n",
              "      <td>8.333333</td>\n",
              "    </tr>\n",
              "    <tr>\n",
              "      <th>61</th>\n",
              "      <td>2022-02-25 00:00:00+09:00</td>\n",
              "      <td>002360</td>\n",
              "      <td>3.025873</td>\n",
              "      <td>0.000000</td>\n",
              "    </tr>\n",
              "    <tr>\n",
              "      <th>62</th>\n",
              "      <td>2022-03-08 00:00:00+09:00</td>\n",
              "      <td>004830</td>\n",
              "      <td>1.695023</td>\n",
              "      <td>0.000000</td>\n",
              "    </tr>\n",
              "    <tr>\n",
              "      <th>63</th>\n",
              "      <td>2022-03-11 00:00:00+09:00</td>\n",
              "      <td>004830</td>\n",
              "      <td>1.135291</td>\n",
              "      <td>-1.277955</td>\n",
              "    </tr>\n",
              "    <tr>\n",
              "      <th>64</th>\n",
              "      <td>2022-03-14 00:00:00+09:00</td>\n",
              "      <td>019170</td>\n",
              "      <td>3.605079</td>\n",
              "      <td>0.000000</td>\n",
              "    </tr>\n",
              "    <tr>\n",
              "      <th>65</th>\n",
              "      <td>2022-04-11 00:00:00+09:00</td>\n",
              "      <td>010640</td>\n",
              "      <td>1.405070</td>\n",
              "      <td>-0.328407</td>\n",
              "    </tr>\n",
              "    <tr>\n",
              "      <th>66</th>\n",
              "      <td>2022-04-29 00:00:00+09:00</td>\n",
              "      <td>000230</td>\n",
              "      <td>1.248128</td>\n",
              "      <td>4.074074</td>\n",
              "    </tr>\n",
              "    <tr>\n",
              "      <th>67</th>\n",
              "      <td>2022-05-12 00:00:00+09:00</td>\n",
              "      <td>249420</td>\n",
              "      <td>1.489175</td>\n",
              "      <td>1.104972</td>\n",
              "    </tr>\n",
              "    <tr>\n",
              "      <th>68</th>\n",
              "      <td>2022-05-13 00:00:00+09:00</td>\n",
              "      <td>102280</td>\n",
              "      <td>1.346185</td>\n",
              "      <td>-0.450450</td>\n",
              "    </tr>\n",
              "    <tr>\n",
              "      <th>69</th>\n",
              "      <td>2022-06-10 00:00:00+09:00</td>\n",
              "      <td>249420</td>\n",
              "      <td>1.259935</td>\n",
              "      <td>-2.422611</td>\n",
              "    </tr>\n",
              "    <tr>\n",
              "      <th>70</th>\n",
              "      <td>2022-06-13 00:00:00+09:00</td>\n",
              "      <td>017040</td>\n",
              "      <td>2.158685</td>\n",
              "      <td>-0.783699</td>\n",
              "    </tr>\n",
              "    <tr>\n",
              "      <th>71</th>\n",
              "      <td>2022-06-14 00:00:00+09:00</td>\n",
              "      <td>001210</td>\n",
              "      <td>2.374451</td>\n",
              "      <td>-7.000000</td>\n",
              "    </tr>\n",
              "    <tr>\n",
              "      <th>72</th>\n",
              "      <td>2022-06-17 00:00:00+09:00</td>\n",
              "      <td>006740</td>\n",
              "      <td>1.240639</td>\n",
              "      <td>-2.043597</td>\n",
              "    </tr>\n",
              "    <tr>\n",
              "      <th>73</th>\n",
              "      <td>2022-06-21 00:00:00+09:00</td>\n",
              "      <td>006740</td>\n",
              "      <td>1.057787</td>\n",
              "      <td>-3.713893</td>\n",
              "    </tr>\n",
              "    <tr>\n",
              "      <th>74</th>\n",
              "      <td>2022-06-22 00:00:00+09:00</td>\n",
              "      <td>001770</td>\n",
              "      <td>1.306332</td>\n",
              "      <td>-12.220310</td>\n",
              "    </tr>\n",
              "    <tr>\n",
              "      <th>75</th>\n",
              "      <td>2022-06-23 00:00:00+09:00</td>\n",
              "      <td>005965</td>\n",
              "      <td>1.477909</td>\n",
              "      <td>4.025424</td>\n",
              "    </tr>\n",
              "    <tr>\n",
              "      <th>76</th>\n",
              "      <td>2022-06-27 00:00:00+09:00</td>\n",
              "      <td>143210</td>\n",
              "      <td>1.312821</td>\n",
              "      <td>0.286533</td>\n",
              "    </tr>\n",
              "    <tr>\n",
              "      <th>77</th>\n",
              "      <td>2022-07-01 00:00:00+09:00</td>\n",
              "      <td>016380</td>\n",
              "      <td>1.064809</td>\n",
              "      <td>-0.383142</td>\n",
              "    </tr>\n",
              "    <tr>\n",
              "      <th>78</th>\n",
              "      <td>2022-07-05 00:00:00+09:00</td>\n",
              "      <td>006740</td>\n",
              "      <td>1.049936</td>\n",
              "      <td>-1.825843</td>\n",
              "    </tr>\n",
              "    <tr>\n",
              "      <th>79</th>\n",
              "      <td>2022-07-06 00:00:00+09:00</td>\n",
              "      <td>361610</td>\n",
              "      <td>1.372969</td>\n",
              "      <td>-0.847458</td>\n",
              "    </tr>\n",
              "    <tr>\n",
              "      <th>80</th>\n",
              "      <td>2022-07-12 00:00:00+09:00</td>\n",
              "      <td>006880</td>\n",
              "      <td>1.037106</td>\n",
              "      <td>3.463203</td>\n",
              "    </tr>\n",
              "    <tr>\n",
              "      <th>81</th>\n",
              "      <td>2022-08-22 00:00:00+09:00</td>\n",
              "      <td>047400</td>\n",
              "      <td>1.005014</td>\n",
              "      <td>-2.941176</td>\n",
              "    </tr>\n",
              "    <tr>\n",
              "      <th>82</th>\n",
              "      <td>2022-09-07 00:00:00+09:00</td>\n",
              "      <td>020760</td>\n",
              "      <td>1.019766</td>\n",
              "      <td>-0.651466</td>\n",
              "    </tr>\n",
              "    <tr>\n",
              "      <th>83</th>\n",
              "      <td>2022-09-13 00:00:00+09:00</td>\n",
              "      <td>079550</td>\n",
              "      <td>1.497926</td>\n",
              "      <td>3.094984</td>\n",
              "    </tr>\n",
              "    <tr>\n",
              "      <th>84</th>\n",
              "      <td>2022-09-23 00:00:00+09:00</td>\n",
              "      <td>001020</td>\n",
              "      <td>1.661682</td>\n",
              "      <td>-5.904059</td>\n",
              "    </tr>\n",
              "    <tr>\n",
              "      <th>85</th>\n",
              "      <td>2022-09-27 00:00:00+09:00</td>\n",
              "      <td>023960</td>\n",
              "      <td>1.850214</td>\n",
              "      <td>9.868421</td>\n",
              "    </tr>\n",
              "    <tr>\n",
              "      <th>86</th>\n",
              "      <td>2022-09-28 00:00:00+09:00</td>\n",
              "      <td>101140</td>\n",
              "      <td>1.686041</td>\n",
              "      <td>1.219512</td>\n",
              "    </tr>\n",
              "  </tbody>\n",
              "</table>\n",
              "</div>\n",
              "      <button class=\"colab-df-convert\" onclick=\"convertToInteractive('df-c8db2ee1-3107-4883-8412-dbb70596a30c')\"\n",
              "              title=\"Convert this dataframe to an interactive table.\"\n",
              "              style=\"display:none;\">\n",
              "        \n",
              "  <svg xmlns=\"http://www.w3.org/2000/svg\" height=\"24px\"viewBox=\"0 0 24 24\"\n",
              "       width=\"24px\">\n",
              "    <path d=\"M0 0h24v24H0V0z\" fill=\"none\"/>\n",
              "    <path d=\"M18.56 5.44l.94 2.06.94-2.06 2.06-.94-2.06-.94-.94-2.06-.94 2.06-2.06.94zm-11 1L8.5 8.5l.94-2.06 2.06-.94-2.06-.94L8.5 2.5l-.94 2.06-2.06.94zm10 10l.94 2.06.94-2.06 2.06-.94-2.06-.94-.94-2.06-.94 2.06-2.06.94z\"/><path d=\"M17.41 7.96l-1.37-1.37c-.4-.4-.92-.59-1.43-.59-.52 0-1.04.2-1.43.59L10.3 9.45l-7.72 7.72c-.78.78-.78 2.05 0 2.83L4 21.41c.39.39.9.59 1.41.59.51 0 1.02-.2 1.41-.59l7.78-7.78 2.81-2.81c.8-.78.8-2.07 0-2.86zM5.41 20L4 18.59l7.72-7.72 1.47 1.35L5.41 20z\"/>\n",
              "  </svg>\n",
              "      </button>\n",
              "      \n",
              "  <style>\n",
              "    .colab-df-container {\n",
              "      display:flex;\n",
              "      flex-wrap:wrap;\n",
              "      gap: 12px;\n",
              "    }\n",
              "\n",
              "    .colab-df-convert {\n",
              "      background-color: #E8F0FE;\n",
              "      border: none;\n",
              "      border-radius: 50%;\n",
              "      cursor: pointer;\n",
              "      display: none;\n",
              "      fill: #1967D2;\n",
              "      height: 32px;\n",
              "      padding: 0 0 0 0;\n",
              "      width: 32px;\n",
              "    }\n",
              "\n",
              "    .colab-df-convert:hover {\n",
              "      background-color: #E2EBFA;\n",
              "      box-shadow: 0px 1px 2px rgba(60, 64, 67, 0.3), 0px 1px 3px 1px rgba(60, 64, 67, 0.15);\n",
              "      fill: #174EA6;\n",
              "    }\n",
              "\n",
              "    [theme=dark] .colab-df-convert {\n",
              "      background-color: #3B4455;\n",
              "      fill: #D2E3FC;\n",
              "    }\n",
              "\n",
              "    [theme=dark] .colab-df-convert:hover {\n",
              "      background-color: #434B5C;\n",
              "      box-shadow: 0px 1px 3px 1px rgba(0, 0, 0, 0.15);\n",
              "      filter: drop-shadow(0px 1px 2px rgba(0, 0, 0, 0.3));\n",
              "      fill: #FFFFFF;\n",
              "    }\n",
              "  </style>\n",
              "\n",
              "      <script>\n",
              "        const buttonEl =\n",
              "          document.querySelector('#df-c8db2ee1-3107-4883-8412-dbb70596a30c button.colab-df-convert');\n",
              "        buttonEl.style.display =\n",
              "          google.colab.kernel.accessAllowed ? 'block' : 'none';\n",
              "\n",
              "        async function convertToInteractive(key) {\n",
              "          const element = document.querySelector('#df-c8db2ee1-3107-4883-8412-dbb70596a30c');\n",
              "          const dataTable =\n",
              "            await google.colab.kernel.invokeFunction('convertToInteractive',\n",
              "                                                     [key], {});\n",
              "          if (!dataTable) return;\n",
              "\n",
              "          const docLinkHtml = 'Like what you see? Visit the ' +\n",
              "            '<a target=\"_blank\" href=https://colab.research.google.com/notebooks/data_table.ipynb>data table notebook</a>'\n",
              "            + ' to learn more about interactive tables.';\n",
              "          element.innerHTML = '';\n",
              "          dataTable['output_type'] = 'display_data';\n",
              "          await google.colab.output.renderOutput(dataTable, element);\n",
              "          const docLink = document.createElement('div');\n",
              "          docLink.innerHTML = docLinkHtml;\n",
              "          element.appendChild(docLink);\n",
              "        }\n",
              "      </script>\n",
              "    </div>\n",
              "  </div>\n",
              "  "
            ]
          },
          "metadata": {},
          "execution_count": 78
        }
      ]
    },
    {
      "cell_type": "code",
      "source": [
        "자본금=1000000\n",
        "money=[]\n",
        "aa=dapji2['actual'].tolist()\n",
        "for i in aa:\n",
        "    자본금=(자본금*0.99985*((100+i)/100))*0.99985\n",
        "    money.append(자본금)\n",
        "\n",
        "dapji2['money'] = money\n",
        "print(f'{자본금:.0f}₩')"
      ],
      "metadata": {
        "colab": {
          "base_uri": "https://localhost:8080/"
        },
        "id": "m7AL_Ozc7GDu",
        "outputId": "a4a4113e-a374-485b-f92c-c226e52fb79b"
      },
      "execution_count": null,
      "outputs": [
        {
          "output_type": "stream",
          "name": "stdout",
          "text": [
            "1473129₩\n"
          ]
        }
      ]
    },
    {
      "cell_type": "code",
      "source": [
        "dapji2['Date']=pd.to_datetime(dapji2['Date'])"
      ],
      "metadata": {
        "id": "8adRmSy99Vc5"
      },
      "execution_count": null,
      "outputs": []
    },
    {
      "cell_type": "code",
      "source": [
        "import seaborn as sns\n",
        "import matplotlib.pyplot as plt\n",
        "fig = plt.figure(figsize=(10, 6))\n",
        "fig.set_facecolor('white')\n",
        "sns.lineplot(data=dapji2, x='Date', y='money')\n",
        "plt.show()"
      ],
      "metadata": {
        "colab": {
          "base_uri": "https://localhost:8080/",
          "height": 399
        },
        "id": "lQqJ60pU7H4P",
        "outputId": "2db3d05a-5c23-4546-d5d5-33f208286184"
      },
      "execution_count": null,
      "outputs": [
        {
          "output_type": "display_data",
          "data": {
            "text/plain": [
              "<Figure size 720x432 with 1 Axes>"
            ],
            "image/png": "[encoded data removed]"
          },
          "metadata": {}
        }
      ]
    },
    {
      "cell_type": "markdown",
      "source": [
        "# 딥러닝"
      ],
      "metadata": {
        "id": "CPukveRbT8Ki"
      }
    },
    {
      "cell_type": "markdown",
      "source": [
        "## lstm 학습 데이터셋 만들기"
      ],
      "metadata": {
        "id": "DMofeqH1VKOI"
      }
    },
    {
      "cell_type": "code",
      "source": [
        "data = pd.read_pickle('/content/drive/MyDrive/ColabNotebooks/개인프로젝트/비트코인 /longshort_7.csv')\n",
        "data=data.sort_values('Date') \n",
        "data = data.reset_index(drop=True)\n",
        "gc.collect()\n",
        "print(len(data))"
      ],
      "metadata": {
        "colab": {
          "base_uri": "https://localhost:8080/"
        },
        "id": "0QCN3AT9T-0k",
        "outputId": "617f8300-f8c5-49e9-e6f8-b49bf837e204"
      },
      "execution_count": 3,
      "outputs": [
        {
          "output_type": "stream",
          "name": "stdout",
          "text": [
            "3479480\n"
          ]
        }
      ]
    },
    {
      "cell_type": "code",
      "source": [
        "data=data.drop(['plus_di_updiv',\n",
        "       'minus_di_updiv', 'adx_updiv', 'RSI_updiv', 'K_updiv', 'D_updiv',\n",
        "       'MACD_updiv', 'MACDsig_updiv', 'MACDhist_updiv', 'CCI_updiv',\n",
        "       'MFI_updiv', 'plus_di_downdiv', 'minus_di_downdiv', 'adx_downdiv',\n",
        "       'RSI_downdiv', 'K_downdiv', 'D_downdiv', 'MACD_downdiv',\n",
        "       'MACDsig_downdiv', 'MACDhist_downdiv', 'CCI_downdiv',\n",
        "       'MFI_downdiv','CL=F_plus_di_updiv', 'CL=F_minus_di_updiv', 'CL=F_adx_updiv',\n",
        "       'CL=F_RSI_updiv', 'CL=F_K_updiv', 'CL=F_D_updiv',\n",
        "       'CL=F_MACD_updiv', 'CL=F_MACDsig_updiv', 'CL=F_MACDhist_updiv',\n",
        "       'CL=F_CCI_updiv', 'CL=F_MFI_updiv', 'CL=F_plus_di_downdiv',\n",
        "       'CL=F_minus_di_downdiv', 'CL=F_adx_downdiv', 'CL=F_RSI_downdiv',\n",
        "       'CL=F_K_downdiv', 'CL=F_D_downdiv', 'CL=F_MACD_downdiv',\n",
        "       'CL=F_MACDsig_downdiv', 'CL=F_MACDhist_downdiv',\n",
        "       'CL=F_CCI_downdiv', 'CL=F_MFI_downdiv','^GSPC_plus_di_updiv',\n",
        "       '^GSPC_minus_di_updiv', '^GSPC_adx_updiv', '^GSPC_RSI_updiv',\n",
        "       '^GSPC_K_updiv', '^GSPC_D_updiv', '^GSPC_MACD_updiv',\n",
        "       '^GSPC_MACDsig_updiv', '^GSPC_MACDhist_updiv', '^GSPC_CCI_updiv',\n",
        "       '^GSPC_MFI_updiv', '^GSPC_plus_di_downdiv',\n",
        "       '^GSPC_minus_di_downdiv', '^GSPC_adx_downdiv', '^GSPC_RSI_downdiv',\n",
        "       '^GSPC_K_downdiv', '^GSPC_D_downdiv', '^GSPC_MACD_downdiv',\n",
        "       '^GSPC_MACDsig_downdiv', '^GSPC_MACDhist_downdiv',\n",
        "       '^GSPC_CCI_downdiv', '^GSPC_MFI_downdiv', '^KS11_plus_di_updiv', '^KS11_minus_di_updiv',\n",
        "       '^KS11_adx_updiv', '^KS11_RSI_updiv', '^KS11_K_updiv',\n",
        "       '^KS11_D_updiv', '^KS11_MACD_updiv', '^KS11_MACDsig_updiv',\n",
        "       '^KS11_MACDhist_updiv', '^KS11_CCI_updiv', '^KS11_MFI_updiv',\n",
        "       '^KS11_plus_di_downdiv', '^KS11_minus_di_downdiv',\n",
        "       '^KS11_adx_downdiv', '^KS11_RSI_downdiv', '^KS11_K_downdiv',\n",
        "       '^KS11_D_downdiv', '^KS11_MACD_downdiv', '^KS11_MACDsig_downdiv',\n",
        "       '^KS11_MACDhist_downdiv', '^KS11_CCI_downdiv', '^KS11_MFI_downdiv' ], axis=1)"
      ],
      "metadata": {
        "id": "bsBzQS9wVaUO"
      },
      "execution_count": 4,
      "outputs": []
    },
    {
      "cell_type": "code",
      "source": [
        "# 결측값, inf값 0으로 치환\n",
        "data = data.replace([np.inf, -np.inf], np.nan)\n",
        "data = data.fillna(0)\n",
        "\n",
        "# 변화율이 30을 초과하거나 -30미만인 경우 드랍\n",
        "data=data.drop(index=data[ data['Close_change'] < -0.3  ].index)\n",
        "data=data.drop(index=data[ data['Close_change'] > 0.3  ].index)\n",
        "\n",
        "data = data.reset_index(drop=True)"
      ],
      "metadata": {
        "id": "QSztI3OD4ZSp"
      },
      "execution_count": 5,
      "outputs": []
    },
    {
      "cell_type": "code",
      "source": [
        "# data.loc[data['Date']=='2020-11-10 00:00:00+09:00',:]\n",
        "# data.loc[3087981]\n",
        "# data"
      ],
      "metadata": {
        "id": "WNDw9nLuO-lg"
      },
      "execution_count": null,
      "outputs": []
    },
    {
      "cell_type": "code",
      "source": [
        "# 남겨놓기\n",
        "data2=data.loc[3087981:,['Date', 'Symbol', 'tomorrow_pred']]"
      ],
      "metadata": {
        "id": "J4LuCP3d45bQ"
      },
      "execution_count": 6,
      "outputs": []
    },
    {
      "cell_type": "code",
      "source": [
        "# # 컬럼 드랍(정규화를 피하기위해 잠시 드랍한것뿐 나중에 합침)\n",
        "data3=data.loc[:,['Date', 'Symbol','swing', 'highest_high_rate', 'lowest_low_rate', 'after20_rate', 'long_short','tomorrow_pred']]\n",
        "data=data.drop(['Date', 'Symbol','swing', 'highest_high_rate', 'lowest_low_rate', 'after20_rate', 'long_short','tomorrow_pred'], axis=1)\n",
        "\n",
        "\n",
        "# 이것들은 제외하고\n",
        "a=data.columns.values\n",
        "a=a.tolist()\n",
        "a.remove('BPS') \n",
        "a.remove('PER') \n",
        "a.remove('PBR') \n",
        "a.remove('EPS') \n",
        "a.remove('DIV') \n",
        "a.remove('DPS') \n",
        "\n",
        "\n",
        "# 100넘는것들 다 1000으로 한정\n",
        "for i in a:\n",
        "    data.loc[data[i]>100,i]=100\n",
        "for i in a:\n",
        "    data.loc[data[i]<-100,i]=-100"
      ],
      "metadata": {
        "id": "Yozvbhx4Iov6"
      },
      "execution_count": 7,
      "outputs": []
    },
    {
      "cell_type": "code",
      "source": [
        "# 정규화\n",
        "from sklearn.preprocessing import MinMaxScaler\n",
        "scaler = MinMaxScaler()\n",
        "col=data.columns.values\n",
        "scaler.fit(data)\n",
        "data = pd.DataFrame(scaler.transform(data))\n",
        "\n",
        "data.columns=col"
      ],
      "metadata": {
        "id": "lRFYPs0KJgk6"
      },
      "execution_count": 8,
      "outputs": []
    },
    {
      "cell_type": "code",
      "source": [
        "# 옆으로 합치기 - 열 기준\n",
        "data=pd.concat([data3, data], axis = 1)"
      ],
      "metadata": {
        "id": "0_WkDxyp7IMK"
      },
      "execution_count": 9,
      "outputs": []
    },
    {
      "cell_type": "code",
      "source": [
        "def make_dataset(data, label, window_size):\n",
        "    feature_list = []\n",
        "    label_list = []\n",
        "    for i in range(len(data) - window_size):\n",
        "        feature_list.append(np.array(data.iloc[i:i+window_size]))\n",
        "        label_list.append(np.array(label.iloc[i+window_size]))\n",
        "    return np.array(feature_list), np.array(label_list)"
      ],
      "metadata": {
        "id": "2PqDTY1oOPrd"
      },
      "execution_count": 10,
      "outputs": []
    },
    {
      "cell_type": "code",
      "source": [
        "# lstm 데이터셋 만들기\n",
        "# 날짜에 따른 데이터 분리작업\n",
        "train=data.loc[:3087981,:]\n",
        "\n",
        "\n",
        "#lstm데이터셋 만들기 \n",
        "#only train\n",
        "nus=train['Symbol'].nunique()\n",
        "us=train['Symbol'].unique().tolist()\n",
        "for i in tqdm(range(nus)):\n",
        "# for i in tqdm(range(1)):\n",
        "    sb=us[i]\n",
        "    df=train.loc[train['Symbol']==sb,:]\n",
        "    df=df.drop(['Date', 'Symbol','swing', 'highest_high_rate', 'lowest_low_rate', 'after20_rate', 'long_short'], axis=1)\n",
        "    # df는 종목 데이터 train_feature와 train_label로 분리한다\n",
        "    train_feature = df.drop(['tomorrow_pred'], axis=1) \n",
        "    train_label = df['tomorrow_pred'] \n",
        "\n",
        "    window_size=5\n",
        "    # train dataset(lstm데이터화 시키기)\n",
        "    train_feature, train_label = make_dataset(train_feature, train_label, window_size)\n",
        "\n",
        "    # train, validation set 생성\n",
        "    x_train, x_valid, y_train, y_valid = train_test_split(train_feature, train_label, test_size=0.2)\n",
        "    \n",
        "    if i==0:\n",
        "        X_train=x_train\n",
        "        X_valid=x_valid\n",
        "        Y_train=y_train\n",
        "        Y_valid=y_valid\n",
        "    else:\n",
        "        X_train=np.concatenate((X_train, x_train))\n",
        "        X_valid=np.concatenate((X_valid, x_valid))\n",
        "        Y_train=np.concatenate((Y_train, y_train))\n",
        "        Y_valid=np.concatenate((Y_valid, y_valid))\n",
        "    print(X_train.shape, Y_train.shape)"
      ],
      "metadata": {
        "id": "5cWXF1n6J-Sj"
      },
      "execution_count": null,
      "outputs": []
    },
    {
      "cell_type": "code",
      "source": [
        "print((X_train.shape))\n",
        "print((X_valid.shape))\n",
        "print((Y_train.shape))\n",
        "print((Y_valid.shape))"
      ],
      "metadata": {
        "colab": {
          "base_uri": "https://localhost:8080/"
        },
        "id": "UG1MnTCtwdTW",
        "outputId": "bdd98e34-3031-45ea-8d1b-a91b20ad93f4"
      },
      "execution_count": 18,
      "outputs": [
        {
          "output_type": "stream",
          "name": "stdout",
          "text": [
            "(2466603, 5, 181)\n",
            "(617008, 5, 181)\n",
            "(2466603,)\n",
            "(617008,)\n"
          ]
        }
      ]
    },
    {
      "cell_type": "code",
      "source": [
        "# 저장하기 불러오기\n",
        "np.save('/content/drive/MyDrive/ColabNotebooks/개인프로젝트/비트코인 /X_train.npy',X_train)\n",
        "np.save('/content/drive/MyDrive/ColabNotebooks/개인프로젝트/비트코인 /X_valid.npy',X_valid)\n",
        "np.save('/content/drive/MyDrive/ColabNotebooks/개인프로젝트/비트코인 /Y_train.npy',Y_train)\n",
        "np.save('/content/drive/MyDrive/ColabNotebooks/개인프로젝트/비트코인 /Y_valid.npy',Y_valid)\n",
        "# np.load('test.npy')"
      ],
      "metadata": {
        "id": "6FU-JlMKg_w_"
      },
      "execution_count": 19,
      "outputs": []
    },
    {
      "cell_type": "markdown",
      "source": [
        "## 모델만들기"
      ],
      "metadata": {
        "id": "jpuPi8vqmD0E"
      }
    },
    {
      "cell_type": "code",
      "source": [
        "X_train=np.load('/content/drive/MyDrive/ColabNotebooks/개인프로젝트/비트코인 /X_train.npy')\n",
        "X_valid=np.load('/content/drive/MyDrive/ColabNotebooks/개인프로젝트/비트코인 /X_valid.npy')\n",
        "Y_train=np.load('/content/drive/MyDrive/ColabNotebooks/개인프로젝트/비트코인 /Y_train.npy')\n",
        "Y_valid=np.load('/content/drive/MyDrive/ColabNotebooks/개인프로젝트/비트코인 /Y_valid.npy')"
      ],
      "metadata": {
        "id": "EIT5TA7zzBji"
      },
      "execution_count": 3,
      "outputs": []
    },
    {
      "cell_type": "code",
      "source": [
        "print((X_train.shape))\n",
        "print((X_valid.shape))\n",
        "print((Y_train.shape))\n",
        "print((Y_valid.shape))"
      ],
      "metadata": {
        "id": "HpxywxUAVOEY"
      },
      "execution_count": null,
      "outputs": []
    },
    {
      "cell_type": "code",
      "source": [
        "# node256layer9\n",
        "model = Sequential()\n",
        "model.add(LSTM(256, \n",
        "            input_shape=(X_train.shape[1], X_train.shape[2]), \n",
        "            return_sequences=False)\n",
        "        )\n",
        "model.add(Dense(256, activation='relu'))\n",
        "model.add(Dense(256, activation='relu'))\n",
        "model.add(Dense(256, activation='relu'))\n",
        "model.add(Dense(256, activation='relu'))\n",
        "model.add(Dense(256, activation='relu'))\n",
        "model.add(Dense(256, activation='relu'))\n",
        "model.add(Dense(32))\n",
        "model.add(Dense(1))"
      ],
      "metadata": {
        "id": "3HpyW7gPl7Ha"
      },
      "execution_count": 7,
      "outputs": []
    },
    {
      "cell_type": "code",
      "source": [
        "# 훈련\n",
        "model.compile(loss='mean_squared_error', optimizer='rmsprop', metrics =['mse'])\n",
        "early_stop = EarlyStopping(monitor='val_loss', patience=5)\n",
        "filename = os.path.join('/content/drive/MyDrive/ColabNotebooks/개인프로젝트/비트코인 ', 'first.h5')\n",
        "checkpoint = ModelCheckpoint(filename, monitor='val_loss', verbose=1, save_best_only=True, mode='auto')\n",
        "\n",
        "history = model.fit(X_train, Y_train, \n",
        "                    epochs=10000, \n",
        "                    batch_size=1,\n",
        "                    validation_data=(X_valid, Y_valid), \n",
        "                    callbacks=[early_stop, checkpoint])"
      ],
      "metadata": {
        "id": "7RvaK9ZNmVn5"
      },
      "execution_count": null,
      "outputs": []
    },
    {
      "cell_type": "code",
      "source": [
        "# 훈련과정 시각화\n",
        "# print(history.history)\n",
        "\n",
        "# # 6 훈련 과정 시각화 (정확도)\n",
        "# plt.plot(history.history['accuracy'])\n",
        "# plt.plot(history.history['val_accuracy'])\n",
        "# plt.title('Model accuracy')\n",
        "# plt.xlabel('Epoch')\n",
        "# plt.ylabel('Accuracy')\n",
        "# plt.legend(['Train', 'Test'], loc='upper left')\n",
        "# plt.show()\n",
        "\n",
        "# # 7 훈련 과정 시각화 (손실)\n",
        "# plt.plot(history.history['loss'])\n",
        "# plt.plot(history.history['val_loss'])\n",
        "# plt.title('Model loss')\n",
        "# plt.xlabel('Epoch')\n",
        "# plt.ylabel('Loss')\n",
        "# plt.legend(['Train', 'Test'], loc='upper left')\n",
        "# plt.show()"
      ],
      "metadata": {
        "id": "7JLOnGoF1InG"
      },
      "execution_count": null,
      "outputs": []
    },
    {
      "cell_type": "markdown",
      "source": [
        "##테스트셋 만들기"
      ],
      "metadata": {
        "id": "wN35qv1e9XRY"
      }
    },
    {
      "cell_type": "code",
      "source": [
        "# node256layer9\n",
        "model = Sequential()\n",
        "model.add(LSTM(256, \n",
        "            input_shape=(5, 181), \n",
        "            return_sequences=False)\n",
        "        )\n",
        "model.add(Dense(256, activation='relu'))\n",
        "model.add(Dense(256, activation='relu'))\n",
        "model.add(Dense(256, activation='relu'))\n",
        "model.add(Dense(256, activation='relu'))\n",
        "model.add(Dense(256, activation='relu'))\n",
        "model.add(Dense(256, activation='relu'))\n",
        "model.add(Dense(32))\n",
        "model.add(Dense(1))"
      ],
      "metadata": {
        "id": "_lO7aGT5ggRC"
      },
      "execution_count": 12,
      "outputs": []
    },
    {
      "cell_type": "code",
      "source": [
        "# 모델불러오기 로딩\n",
        "import os\n",
        "filename = os.path.join('/content/drive/MyDrive/ColabNotebooks/개인프로젝트/비트코인 ', 'first.h5')\n",
        "model.load_weights(filename)"
      ],
      "metadata": {
        "id": "-cxGrmAugWgR"
      },
      "execution_count": 13,
      "outputs": []
    },
    {
      "cell_type": "code",
      "source": [
        "# 날짜에 따른 데이터 분리작업\n",
        "# train=data.loc[:3087981,:]\n",
        "test=data.loc[3087981:,:] # 이미 정규화 되어있는 상태임\n",
        "\n",
        "\n",
        "#lstm데이터셋 만들기 \n",
        "nus=test['Symbol'].nunique()\n",
        "us=test['Symbol'].unique().tolist()\n",
        "for i in tqdm(range(nus)):\n",
        "# for i in tqdm(range(30)):\n",
        "    window_size=5\n",
        "    sb=us[i]\n",
        "    df=test.loc[test['Symbol']==sb,:]\n",
        "    date=df['Date'][window_size:]\n",
        "    symbol=df['Symbol'][window_size:]\n",
        "    df=df.drop(['Date', 'Symbol','swing', 'highest_high_rate', 'lowest_low_rate', 'after20_rate', 'long_short'], axis=1)\n",
        "\n",
        "    # df는 종목 데이터 train_feature와 train_label로 분리한다\n",
        "    test_feature = df.drop(['tomorrow_pred'], axis=1) \n",
        "    test_label = df['tomorrow_pred'] \n",
        "\n",
        "    # train dataset(lstm데이터화 시키기)\n",
        "    x_test, y_test = make_dataset(test_feature, test_label, window_size)\n",
        "\n",
        "\n",
        "    # 성능평가 데이터셋 만들기\n",
        "\n",
        "    # 실전평가 데이터셋 만들기\n",
        "    preds=model.predict(x_test)\n",
        "\n",
        "    res = pd.DataFrame({\n",
        "        \"Date\":date,\n",
        "        \"Symbol\":symbol,\n",
        "        \"pred\": preds.flatten().tolist()\n",
        "    })\n",
        "    if i==0:\n",
        "        X_test=x_test\n",
        "        Y_test=y_test\n",
        "        result=res\n",
        "    else:\n",
        "        X_test=np.concatenate((X_test, x_test))\n",
        "        Y_test=np.concatenate((Y_test, y_test))\n",
        "        result=pd.concat([result, res])\n",
        "        \n",
        "    print(X_test.shape, Y_test.shape)"
      ],
      "metadata": {
        "id": "OOEX1WBN2_HP"
      },
      "execution_count": null,
      "outputs": []
    },
    {
      "cell_type": "code",
      "source": [
        "print((X_test.shape))\n",
        "print((Y_test.shape))"
      ],
      "metadata": {
        "colab": {
          "base_uri": "https://localhost:8080/"
        },
        "id": "GjvSwNhv186e",
        "outputId": "6e3d40c3-fcfd-481d-fc0e-a26795073054"
      },
      "execution_count": 19,
      "outputs": [
        {
          "output_type": "stream",
          "name": "stdout",
          "text": [
            "(386554, 5, 181)\n",
            "(386554,)\n"
          ]
        }
      ]
    },
    {
      "cell_type": "markdown",
      "source": [
        "## 성능평가 & 실전성능평가"
      ],
      "metadata": {
        "id": "LuSMavokRZ7R"
      }
    },
    {
      "cell_type": "markdown",
      "source": [
        "성능평가"
      ],
      "metadata": {
        "id": "IjO4Fd7QZNg6"
      }
    },
    {
      "cell_type": "code",
      "source": [
        "# score = model.evaluate(X_test, Y_test)\n",
        "preds=model.predict(X_test)\n",
        "\n",
        "# print('loss score:', score[0])\n",
        "# print('accuracy score:', score[1])\n",
        "print('MAE: ',  mean_absolute_error(Y_test,preds))\n",
        "print('MSE: ',  mean_squared_error(Y_test,preds))\n",
        "print('RMSE: ',  mean_squared_error(Y_test,preds)**0.5)"
      ],
      "metadata": {
        "id": "yH4ffMacRfNX",
        "colab": {
          "base_uri": "https://localhost:8080/"
        },
        "outputId": "94a4a7b4-986c-422a-c520-282d27a2d94a"
      },
      "execution_count": 34,
      "outputs": [
        {
          "output_type": "stream",
          "name": "stdout",
          "text": [
            "12080/12080 [==============================] - 26s 2ms/step\n",
            "MAE:  0.017271794408290683\n",
            "MSE:  0.0007562035868727463\n",
            "RMSE:  0.027499156112010897\n"
          ]
        }
      ]
    },
    {
      "cell_type": "markdown",
      "source": [
        "실전성능평가"
      ],
      "metadata": {
        "id": "IDH4G0NDZPyr"
      }
    },
    {
      "cell_type": "code",
      "source": [
        "preds"
      ],
      "metadata": {
        "colab": {
          "base_uri": "https://localhost:8080/"
        },
        "id": "yeQVs2QR5TAp",
        "outputId": "d3f0ca44-0c38-417f-e30b-68f503fa05c5"
      },
      "execution_count": 49,
      "outputs": [
        {
          "output_type": "execute_result",
          "data": {
            "text/plain": [
              "array([[-0.00193409],\n",
              "       [-0.00193409],\n",
              "       [-0.00193409],\n",
              "       ...,\n",
              "       [-0.00193409],\n",
              "       [-0.00193409],\n",
              "       [-0.00193409]], dtype=float32)"
            ]
          },
          "metadata": {},
          "execution_count": 49
        }
      ]
    },
    {
      "cell_type": "code",
      "source": [
        "result = result.reset_index(drop=True)\n",
        "result['max_pred']=result.groupby(\"Date\")['pred'].transform('max')\n",
        "\n",
        "# dapji=result.loc[(result['pred']==result['max_pred']) & (result['max_pred']>0.01),['Date','Symbol','pred']]\n",
        "dapji=result.loc[(result['pred']==result['max_pred']) ,['Date','Symbol','pred']]\n",
        "dapji = dapji.reset_index(drop=True)"
      ],
      "metadata": {
        "id": "JMY7A4cQZmDO"
      },
      "execution_count": 44,
      "outputs": []
    },
    {
      "cell_type": "code",
      "source": [
        "# 실제 오른정도 불러오기\n",
        "for i in range(len(dapji)):\n",
        "    dapji.loc[i,'actual']=data2.loc[(data2['Date']==dapji['Date'][i]) & (data2['Symbol']==dapji['Symbol'][i]), 'tomorrow_pred'].values*100"
      ],
      "metadata": {
        "id": "KmxjnnJzaFsG"
      },
      "execution_count": 42,
      "outputs": []
    },
    {
      "cell_type": "code",
      "source": [
        "result.tail(100)"
      ],
      "metadata": {
        "colab": {
          "base_uri": "https://localhost:8080/",
          "height": 1000
        },
        "id": "CbQP_-J24Mqy",
        "outputId": "d037fa7b-18ab-4015-be6c-8eec60fdcc4e"
      },
      "execution_count": 46,
      "outputs": [
        {
          "output_type": "execute_result",
          "data": {
            "text/plain": [
              "                             Date  Symbol      pred  max_pred\n",
              "386454  2022-09-21 00:00:00+09:00  011690 -0.001934 -0.001934\n",
              "386455  2022-09-22 00:00:00+09:00  011690 -0.001934 -0.001934\n",
              "386456  2022-09-23 00:00:00+09:00  011690 -0.001934 -0.001934\n",
              "386457  2022-09-26 00:00:00+09:00  011690 -0.001934 -0.001934\n",
              "386458  2022-09-27 00:00:00+09:00  011690 -0.001934 -0.001934\n",
              "386459  2022-09-28 00:00:00+09:00  011690 -0.001934 -0.001934\n",
              "386460  2022-07-22 00:00:00+09:00  329180 -0.001934 -0.001934\n",
              "386461  2022-07-25 00:00:00+09:00  329180 -0.001934 -0.001934\n",
              "386462  2022-07-26 00:00:00+09:00  329180 -0.001934 -0.001934\n",
              "386463  2022-07-27 00:00:00+09:00  329180 -0.001934 -0.001934\n",
              "386464  2022-07-28 00:00:00+09:00  329180 -0.001934 -0.001934\n",
              "386465  2022-07-29 00:00:00+09:00  329180 -0.001934 -0.001934\n",
              "386466  2022-08-01 00:00:00+09:00  329180 -0.001934 -0.001934\n",
              "386467  2022-08-02 00:00:00+09:00  329180 -0.001934 -0.001934\n",
              "386468  2022-08-03 00:00:00+09:00  329180 -0.001934 -0.001934\n",
              "386469  2022-08-04 00:00:00+09:00  329180 -0.001934 -0.001934\n",
              "386470  2022-08-05 00:00:00+09:00  329180 -0.001934 -0.001934\n",
              "386471  2022-08-08 00:00:00+09:00  329180 -0.001934 -0.001934\n",
              "386472  2022-08-09 00:00:00+09:00  329180 -0.001934 -0.001934\n",
              "386473  2022-08-10 00:00:00+09:00  329180 -0.001934 -0.001934\n",
              "386474  2022-08-11 00:00:00+09:00  329180 -0.001934 -0.001934\n",
              "386475  2022-08-12 00:00:00+09:00  329180 -0.001934 -0.001934\n",
              "386476  2022-08-16 00:00:00+09:00  329180 -0.001934 -0.001934\n",
              "386477  2022-08-17 00:00:00+09:00  329180 -0.001934 -0.001934\n",
              "386478  2022-08-18 00:00:00+09:00  329180 -0.001934 -0.001934\n",
              "386479  2022-08-19 00:00:00+09:00  329180 -0.001934 -0.001934\n",
              "386480  2022-08-22 00:00:00+09:00  329180 -0.001934 -0.001934\n",
              "386481  2022-08-23 00:00:00+09:00  329180 -0.001934 -0.001934\n",
              "386482  2022-08-24 00:00:00+09:00  329180 -0.001934 -0.001934\n",
              "386483  2022-08-25 00:00:00+09:00  329180 -0.001934 -0.001934\n",
              "386484  2022-08-26 00:00:00+09:00  329180 -0.001934 -0.001934\n",
              "386485  2022-08-29 00:00:00+09:00  329180 -0.001934 -0.001934\n",
              "386486  2022-08-30 00:00:00+09:00  329180 -0.001934 -0.001934\n",
              "386487  2022-08-31 00:00:00+09:00  329180 -0.001934 -0.001934\n",
              "386488  2022-09-01 00:00:00+09:00  329180 -0.001934 -0.001934\n",
              "386489  2022-09-02 00:00:00+09:00  329180 -0.001934 -0.001934\n",
              "386490  2022-09-06 00:00:00+09:00  329180 -0.001934 -0.001934\n",
              "386491  2022-09-07 00:00:00+09:00  329180 -0.001934 -0.001934\n",
              "386492  2022-09-08 00:00:00+09:00  329180 -0.001934 -0.001934\n",
              "386493  2022-09-13 00:00:00+09:00  329180 -0.001934 -0.001934\n",
              "386494  2022-09-14 00:00:00+09:00  329180 -0.001934 -0.001934\n",
              "386495  2022-09-15 00:00:00+09:00  329180 -0.001934 -0.001934\n",
              "386496  2022-09-16 00:00:00+09:00  329180 -0.001934 -0.001934\n",
              "386497  2022-09-19 00:00:00+09:00  329180 -0.001934 -0.001934\n",
              "386498  2022-09-20 00:00:00+09:00  329180 -0.001934 -0.001934\n",
              "386499  2022-09-21 00:00:00+09:00  329180 -0.001934 -0.001934\n",
              "386500  2022-09-22 00:00:00+09:00  329180 -0.001934 -0.001934\n",
              "386501  2022-09-23 00:00:00+09:00  329180 -0.001934 -0.001934\n",
              "386502  2022-09-26 00:00:00+09:00  329180 -0.001934 -0.001934\n",
              "386503  2022-09-27 00:00:00+09:00  329180 -0.001934 -0.001934\n",
              "386504  2022-09-28 00:00:00+09:00  329180 -0.001934 -0.001934\n",
              "386505  2022-08-10 00:00:00+09:00  381970 -0.001934 -0.001934\n",
              "386506  2022-08-11 00:00:00+09:00  381970 -0.001934 -0.001934\n",
              "386507  2022-08-12 00:00:00+09:00  381970 -0.001934 -0.001934\n",
              "386508  2022-08-16 00:00:00+09:00  381970 -0.001934 -0.001934\n",
              "386509  2022-08-17 00:00:00+09:00  381970 -0.001934 -0.001934\n",
              "386510  2022-08-18 00:00:00+09:00  381970 -0.001934 -0.001934\n",
              "386511  2022-08-19 00:00:00+09:00  381970 -0.001934 -0.001934\n",
              "386512  2022-08-22 00:00:00+09:00  381970 -0.001934 -0.001934\n",
              "386513  2022-08-23 00:00:00+09:00  381970 -0.001934 -0.001934\n",
              "386514  2022-08-24 00:00:00+09:00  381970 -0.001934 -0.001934\n",
              "386515  2022-08-25 00:00:00+09:00  381970 -0.001934 -0.001934\n",
              "386516  2022-08-26 00:00:00+09:00  381970 -0.001934 -0.001934\n",
              "386517  2022-08-29 00:00:00+09:00  381970 -0.001934 -0.001934\n",
              "386518  2022-08-30 00:00:00+09:00  381970 -0.001934 -0.001934\n",
              "386519  2022-08-31 00:00:00+09:00  381970 -0.001934 -0.001934\n",
              "386520  2022-09-01 00:00:00+09:00  381970 -0.001934 -0.001934\n",
              "386521  2022-09-02 00:00:00+09:00  381970 -0.001934 -0.001934\n",
              "386522  2022-09-06 00:00:00+09:00  381970 -0.001934 -0.001934\n",
              "386523  2022-09-07 00:00:00+09:00  381970 -0.001934 -0.001934\n",
              "386524  2022-09-08 00:00:00+09:00  381970 -0.001934 -0.001934\n",
              "386525  2022-09-13 00:00:00+09:00  381970 -0.001934 -0.001934\n",
              "386526  2022-09-14 00:00:00+09:00  381970 -0.001934 -0.001934\n",
              "386527  2022-09-15 00:00:00+09:00  381970 -0.001934 -0.001934\n",
              "386528  2022-09-16 00:00:00+09:00  381970 -0.001934 -0.001934\n",
              "386529  2022-09-19 00:00:00+09:00  381970 -0.001934 -0.001934\n",
              "386530  2022-09-20 00:00:00+09:00  381970 -0.001934 -0.001934\n",
              "386531  2022-09-21 00:00:00+09:00  381970 -0.001934 -0.001934\n",
              "386532  2022-09-22 00:00:00+09:00  381970 -0.001934 -0.001934\n",
              "386533  2022-09-23 00:00:00+09:00  381970 -0.001934 -0.001934\n",
              "386534  2022-09-26 00:00:00+09:00  381970 -0.001934 -0.001934\n",
              "386535  2022-09-27 00:00:00+09:00  381970 -0.001934 -0.001934\n",
              "386536  2022-09-28 00:00:00+09:00  381970 -0.001934 -0.001934\n",
              "386537  2022-09-01 00:00:00+09:00  377300 -0.001934 -0.001934\n",
              "386538  2022-09-02 00:00:00+09:00  377300 -0.001934 -0.001934\n",
              "386539  2022-09-06 00:00:00+09:00  377300 -0.001934 -0.001934\n",
              "386540  2022-09-07 00:00:00+09:00  377300 -0.001934 -0.001934\n",
              "386541  2022-09-08 00:00:00+09:00  377300 -0.001934 -0.001934\n",
              "386542  2022-09-13 00:00:00+09:00  377300 -0.001934 -0.001934\n",
              "386543  2022-09-14 00:00:00+09:00  377300 -0.001934 -0.001934\n",
              "386544  2022-09-15 00:00:00+09:00  377300 -0.001934 -0.001934\n",
              "386545  2022-09-16 00:00:00+09:00  377300 -0.001934 -0.001934\n",
              "386546  2022-09-19 00:00:00+09:00  377300 -0.001934 -0.001934\n",
              "386547  2022-09-20 00:00:00+09:00  377300 -0.001934 -0.001934\n",
              "386548  2022-09-21 00:00:00+09:00  377300 -0.001934 -0.001934\n",
              "386549  2022-09-22 00:00:00+09:00  377300 -0.001934 -0.001934\n",
              "386550  2022-09-23 00:00:00+09:00  377300 -0.001934 -0.001934\n",
              "386551  2022-09-26 00:00:00+09:00  377300 -0.001934 -0.001934\n",
              "386552  2022-09-27 00:00:00+09:00  377300 -0.001934 -0.001934\n",
              "386553  2022-09-28 00:00:00+09:00  377300 -0.001934 -0.001934"
            ],
            "text/html": [
              "\n",
              "  <div id=\"df-29d2cd9a-2d50-49d6-b34a-dc63eb475252\">\n",
              "    <div class=\"colab-df-container\">\n",
              "      <div>\n",
              "<style scoped>\n",
              "    .dataframe tbody tr th:only-of-type {\n",
              "        vertical-align: middle;\n",
              "    }\n",
              "\n",
              "    .dataframe tbody tr th {\n",
              "        vertical-align: top;\n",
              "    }\n",
              "\n",
              "    .dataframe thead th {\n",
              "        text-align: right;\n",
              "    }\n",
              "</style>\n",
              "<table border=\"1\" class=\"dataframe\">\n",
              "  <thead>\n",
              "    <tr style=\"text-align: right;\">\n",
              "      <th></th>\n",
              "      <th>Date</th>\n",
              "      <th>Symbol</th>\n",
              "      <th>pred</th>\n",
              "      <th>max_pred</th>\n",
              "    </tr>\n",
              "  </thead>\n",
              "  <tbody>\n",
              "    <tr>\n",
              "      <th>386454</th>\n",
              "      <td>2022-09-21 00:00:00+09:00</td>\n",
              "      <td>011690</td>\n",
              "      <td>-0.001934</td>\n",
              "      <td>-0.001934</td>\n",
              "    </tr>\n",
              "    <tr>\n",
              "      <th>386455</th>\n",
              "      <td>2022-09-22 00:00:00+09:00</td>\n",
              "      <td>011690</td>\n",
              "      <td>-0.001934</td>\n",
              "      <td>-0.001934</td>\n",
              "    </tr>\n",
              "    <tr>\n",
              "      <th>386456</th>\n",
              "      <td>2022-09-23 00:00:00+09:00</td>\n",
              "      <td>011690</td>\n",
              "      <td>-0.001934</td>\n",
              "      <td>-0.001934</td>\n",
              "    </tr>\n",
              "    <tr>\n",
              "      <th>386457</th>\n",
              "      <td>2022-09-26 00:00:00+09:00</td>\n",
              "      <td>011690</td>\n",
              "      <td>-0.001934</td>\n",
              "      <td>-0.001934</td>\n",
              "    </tr>\n",
              "    <tr>\n",
              "      <th>386458</th>\n",
              "      <td>2022-09-27 00:00:00+09:00</td>\n",
              "      <td>011690</td>\n",
              "      <td>-0.001934</td>\n",
              "      <td>-0.001934</td>\n",
              "    </tr>\n",
              "    <tr>\n",
              "      <th>386459</th>\n",
              "      <td>2022-09-28 00:00:00+09:00</td>\n",
              "      <td>011690</td>\n",
              "      <td>-0.001934</td>\n",
              "      <td>-0.001934</td>\n",
              "    </tr>\n",
              "    <tr>\n",
              "      <th>386460</th>\n",
              "      <td>2022-07-22 00:00:00+09:00</td>\n",
              "      <td>329180</td>\n",
              "      <td>-0.001934</td>\n",
              "      <td>-0.001934</td>\n",
              "    </tr>\n",
              "    <tr>\n",
              "      <th>386461</th>\n",
              "      <td>2022-07-25 00:00:00+09:00</td>\n",
              "      <td>329180</td>\n",
              "      <td>-0.001934</td>\n",
              "      <td>-0.001934</td>\n",
              "    </tr>\n",
              "    <tr>\n",
              "      <th>386462</th>\n",
              "      <td>2022-07-26 00:00:00+09:00</td>\n",
              "      <td>329180</td>\n",
              "      <td>-0.001934</td>\n",
              "      <td>-0.001934</td>\n",
              "    </tr>\n",
              "    <tr>\n",
              "      <th>386463</th>\n",
              "      <td>2022-07-27 00:00:00+09:00</td>\n",
              "      <td>329180</td>\n",
              "      <td>-0.001934</td>\n",
              "      <td>-0.001934</td>\n",
              "    </tr>\n",
              "    <tr>\n",
              "      <th>386464</th>\n",
              "      <td>2022-07-28 00:00:00+09:00</td>\n",
              "      <td>329180</td>\n",
              "      <td>-0.001934</td>\n",
              "      <td>-0.001934</td>\n",
              "    </tr>\n",
              "    <tr>\n",
              "      <th>386465</th>\n",
              "      <td>2022-07-29 00:00:00+09:00</td>\n",
              "      <td>329180</td>\n",
              "      <td>-0.001934</td>\n",
              "      <td>-0.001934</td>\n",
              "    </tr>\n",
              "    <tr>\n",
              "      <th>386466</th>\n",
              "      <td>2022-08-01 00:00:00+09:00</td>\n",
              "      <td>329180</td>\n",
              "      <td>-0.001934</td>\n",
              "      <td>-0.001934</td>\n",
              "    </tr>\n",
              "    <tr>\n",
              "      <th>386467</th>\n",
              "      <td>2022-08-02 00:00:00+09:00</td>\n",
              "      <td>329180</td>\n",
              "      <td>-0.001934</td>\n",
              "      <td>-0.001934</td>\n",
              "    </tr>\n",
              "    <tr>\n",
              "      <th>386468</th>\n",
              "      <td>2022-08-03 00:00:00+09:00</td>\n",
              "      <td>329180</td>\n",
              "      <td>-0.001934</td>\n",
              "      <td>-0.001934</td>\n",
              "    </tr>\n",
              "    <tr>\n",
              "      <th>386469</th>\n",
              "      <td>2022-08-04 00:00:00+09:00</td>\n",
              "      <td>329180</td>\n",
              "      <td>-0.001934</td>\n",
              "      <td>-0.001934</td>\n",
              "    </tr>\n",
              "    <tr>\n",
              "      <th>386470</th>\n",
              "      <td>2022-08-05 00:00:00+09:00</td>\n",
              "      <td>329180</td>\n",
              "      <td>-0.001934</td>\n",
              "      <td>-0.001934</td>\n",
              "    </tr>\n",
              "    <tr>\n",
              "      <th>386471</th>\n",
              "      <td>2022-08-08 00:00:00+09:00</td>\n",
              "      <td>329180</td>\n",
              "      <td>-0.001934</td>\n",
              "      <td>-0.001934</td>\n",
              "    </tr>\n",
              "    <tr>\n",
              "      <th>386472</th>\n",
              "      <td>2022-08-09 00:00:00+09:00</td>\n",
              "      <td>329180</td>\n",
              "      <td>-0.001934</td>\n",
              "      <td>-0.001934</td>\n",
              "    </tr>\n",
              "    <tr>\n",
              "      <th>386473</th>\n",
              "      <td>2022-08-10 00:00:00+09:00</td>\n",
              "      <td>329180</td>\n",
              "      <td>-0.001934</td>\n",
              "      <td>-0.001934</td>\n",
              "    </tr>\n",
              "    <tr>\n",
              "      <th>386474</th>\n",
              "      <td>2022-08-11 00:00:00+09:00</td>\n",
              "      <td>329180</td>\n",
              "      <td>-0.001934</td>\n",
              "      <td>-0.001934</td>\n",
              "    </tr>\n",
              "    <tr>\n",
              "      <th>386475</th>\n",
              "      <td>2022-08-12 00:00:00+09:00</td>\n",
              "      <td>329180</td>\n",
              "      <td>-0.001934</td>\n",
              "      <td>-0.001934</td>\n",
              "    </tr>\n",
              "    <tr>\n",
              "      <th>386476</th>\n",
              "      <td>2022-08-16 00:00:00+09:00</td>\n",
              "      <td>329180</td>\n",
              "      <td>-0.001934</td>\n",
              "      <td>-0.001934</td>\n",
              "    </tr>\n",
              "    <tr>\n",
              "      <th>386477</th>\n",
              "      <td>2022-08-17 00:00:00+09:00</td>\n",
              "      <td>329180</td>\n",
              "      <td>-0.001934</td>\n",
              "      <td>-0.001934</td>\n",
              "    </tr>\n",
              "    <tr>\n",
              "      <th>386478</th>\n",
              "      <td>2022-08-18 00:00:00+09:00</td>\n",
              "      <td>329180</td>\n",
              "      <td>-0.001934</td>\n",
              "      <td>-0.001934</td>\n",
              "    </tr>\n",
              "    <tr>\n",
              "      <th>386479</th>\n",
              "      <td>2022-08-19 00:00:00+09:00</td>\n",
              "      <td>329180</td>\n",
              "      <td>-0.001934</td>\n",
              "      <td>-0.001934</td>\n",
              "    </tr>\n",
              "    <tr>\n",
              "      <th>386480</th>\n",
              "      <td>2022-08-22 00:00:00+09:00</td>\n",
              "      <td>329180</td>\n",
              "      <td>-0.001934</td>\n",
              "      <td>-0.001934</td>\n",
              "    </tr>\n",
              "    <tr>\n",
              "      <th>386481</th>\n",
              "      <td>2022-08-23 00:00:00+09:00</td>\n",
              "      <td>329180</td>\n",
              "      <td>-0.001934</td>\n",
              "      <td>-0.001934</td>\n",
              "    </tr>\n",
              "    <tr>\n",
              "      <th>386482</th>\n",
              "      <td>2022-08-24 00:00:00+09:00</td>\n",
              "      <td>329180</td>\n",
              "      <td>-0.001934</td>\n",
              "      <td>-0.001934</td>\n",
              "    </tr>\n",
              "    <tr>\n",
              "      <th>386483</th>\n",
              "      <td>2022-08-25 00:00:00+09:00</td>\n",
              "      <td>329180</td>\n",
              "      <td>-0.001934</td>\n",
              "      <td>-0.001934</td>\n",
              "    </tr>\n",
              "    <tr>\n",
              "      <th>386484</th>\n",
              "      <td>2022-08-26 00:00:00+09:00</td>\n",
              "      <td>329180</td>\n",
              "      <td>-0.001934</td>\n",
              "      <td>-0.001934</td>\n",
              "    </tr>\n",
              "    <tr>\n",
              "      <th>386485</th>\n",
              "      <td>2022-08-29 00:00:00+09:00</td>\n",
              "      <td>329180</td>\n",
              "      <td>-0.001934</td>\n",
              "      <td>-0.001934</td>\n",
              "    </tr>\n",
              "    <tr>\n",
              "      <th>386486</th>\n",
              "      <td>2022-08-30 00:00:00+09:00</td>\n",
              "      <td>329180</td>\n",
              "      <td>-0.001934</td>\n",
              "      <td>-0.001934</td>\n",
              "    </tr>\n",
              "    <tr>\n",
              "      <th>386487</th>\n",
              "      <td>2022-08-31 00:00:00+09:00</td>\n",
              "      <td>329180</td>\n",
              "      <td>-0.001934</td>\n",
              "      <td>-0.001934</td>\n",
              "    </tr>\n",
              "    <tr>\n",
              "      <th>386488</th>\n",
              "      <td>2022-09-01 00:00:00+09:00</td>\n",
              "      <td>329180</td>\n",
              "      <td>-0.001934</td>\n",
              "      <td>-0.001934</td>\n",
              "    </tr>\n",
              "    <tr>\n",
              "      <th>386489</th>\n",
              "      <td>2022-09-02 00:00:00+09:00</td>\n",
              "      <td>329180</td>\n",
              "      <td>-0.001934</td>\n",
              "      <td>-0.001934</td>\n",
              "    </tr>\n",
              "    <tr>\n",
              "      <th>386490</th>\n",
              "      <td>2022-09-06 00:00:00+09:00</td>\n",
              "      <td>329180</td>\n",
              "      <td>-0.001934</td>\n",
              "      <td>-0.001934</td>\n",
              "    </tr>\n",
              "    <tr>\n",
              "      <th>386491</th>\n",
              "      <td>2022-09-07 00:00:00+09:00</td>\n",
              "      <td>329180</td>\n",
              "      <td>-0.001934</td>\n",
              "      <td>-0.001934</td>\n",
              "    </tr>\n",
              "    <tr>\n",
              "      <th>386492</th>\n",
              "      <td>2022-09-08 00:00:00+09:00</td>\n",
              "      <td>329180</td>\n",
              "      <td>-0.001934</td>\n",
              "      <td>-0.001934</td>\n",
              "    </tr>\n",
              "    <tr>\n",
              "      <th>386493</th>\n",
              "      <td>2022-09-13 00:00:00+09:00</td>\n",
              "      <td>329180</td>\n",
              "      <td>-0.001934</td>\n",
              "      <td>-0.001934</td>\n",
              "    </tr>\n",
              "    <tr>\n",
              "      <th>386494</th>\n",
              "      <td>2022-09-14 00:00:00+09:00</td>\n",
              "      <td>329180</td>\n",
              "      <td>-0.001934</td>\n",
              "      <td>-0.001934</td>\n",
              "    </tr>\n",
              "    <tr>\n",
              "      <th>386495</th>\n",
              "      <td>2022-09-15 00:00:00+09:00</td>\n",
              "      <td>329180</td>\n",
              "      <td>-0.001934</td>\n",
              "      <td>-0.001934</td>\n",
              "    </tr>\n",
              "    <tr>\n",
              "      <th>386496</th>\n",
              "      <td>2022-09-16 00:00:00+09:00</td>\n",
              "      <td>329180</td>\n",
              "      <td>-0.001934</td>\n",
              "      <td>-0.001934</td>\n",
              "    </tr>\n",
              "    <tr>\n",
              "      <th>386497</th>\n",
              "      <td>2022-09-19 00:00:00+09:00</td>\n",
              "      <td>329180</td>\n",
              "      <td>-0.001934</td>\n",
              "      <td>-0.001934</td>\n",
              "    </tr>\n",
              "    <tr>\n",
              "      <th>386498</th>\n",
              "      <td>2022-09-20 00:00:00+09:00</td>\n",
              "      <td>329180</td>\n",
              "      <td>-0.001934</td>\n",
              "      <td>-0.001934</td>\n",
              "    </tr>\n",
              "    <tr>\n",
              "      <th>386499</th>\n",
              "      <td>2022-09-21 00:00:00+09:00</td>\n",
              "      <td>329180</td>\n",
              "      <td>-0.001934</td>\n",
              "      <td>-0.001934</td>\n",
              "    </tr>\n",
              "    <tr>\n",
              "      <th>386500</th>\n",
              "      <td>2022-09-22 00:00:00+09:00</td>\n",
              "      <td>329180</td>\n",
              "      <td>-0.001934</td>\n",
              "      <td>-0.001934</td>\n",
              "    </tr>\n",
              "    <tr>\n",
              "      <th>386501</th>\n",
              "      <td>2022-09-23 00:00:00+09:00</td>\n",
              "      <td>329180</td>\n",
              "      <td>-0.001934</td>\n",
              "      <td>-0.001934</td>\n",
              "    </tr>\n",
              "    <tr>\n",
              "      <th>386502</th>\n",
              "      <td>2022-09-26 00:00:00+09:00</td>\n",
              "      <td>329180</td>\n",
              "      <td>-0.001934</td>\n",
              "      <td>-0.001934</td>\n",
              "    </tr>\n",
              "    <tr>\n",
              "      <th>386503</th>\n",
              "      <td>2022-09-27 00:00:00+09:00</td>\n",
              "      <td>329180</td>\n",
              "      <td>-0.001934</td>\n",
              "      <td>-0.001934</td>\n",
              "    </tr>\n",
              "    <tr>\n",
              "      <th>386504</th>\n",
              "      <td>2022-09-28 00:00:00+09:00</td>\n",
              "      <td>329180</td>\n",
              "      <td>-0.001934</td>\n",
              "      <td>-0.001934</td>\n",
              "    </tr>\n",
              "    <tr>\n",
              "      <th>386505</th>\n",
              "      <td>2022-08-10 00:00:00+09:00</td>\n",
              "      <td>381970</td>\n",
              "      <td>-0.001934</td>\n",
              "      <td>-0.001934</td>\n",
              "    </tr>\n",
              "    <tr>\n",
              "      <th>386506</th>\n",
              "      <td>2022-08-11 00:00:00+09:00</td>\n",
              "      <td>381970</td>\n",
              "      <td>-0.001934</td>\n",
              "      <td>-0.001934</td>\n",
              "    </tr>\n",
              "    <tr>\n",
              "      <th>386507</th>\n",
              "      <td>2022-08-12 00:00:00+09:00</td>\n",
              "      <td>381970</td>\n",
              "      <td>-0.001934</td>\n",
              "      <td>-0.001934</td>\n",
              "    </tr>\n",
              "    <tr>\n",
              "      <th>386508</th>\n",
              "      <td>2022-08-16 00:00:00+09:00</td>\n",
              "      <td>381970</td>\n",
              "      <td>-0.001934</td>\n",
              "      <td>-0.001934</td>\n",
              "    </tr>\n",
              "    <tr>\n",
              "      <th>386509</th>\n",
              "      <td>2022-08-17 00:00:00+09:00</td>\n",
              "      <td>381970</td>\n",
              "      <td>-0.001934</td>\n",
              "      <td>-0.001934</td>\n",
              "    </tr>\n",
              "    <tr>\n",
              "      <th>386510</th>\n",
              "      <td>2022-08-18 00:00:00+09:00</td>\n",
              "      <td>381970</td>\n",
              "      <td>-0.001934</td>\n",
              "      <td>-0.001934</td>\n",
              "    </tr>\n",
              "    <tr>\n",
              "      <th>386511</th>\n",
              "      <td>2022-08-19 00:00:00+09:00</td>\n",
              "      <td>381970</td>\n",
              "      <td>-0.001934</td>\n",
              "      <td>-0.001934</td>\n",
              "    </tr>\n",
              "    <tr>\n",
              "      <th>386512</th>\n",
              "      <td>2022-08-22 00:00:00+09:00</td>\n",
              "      <td>381970</td>\n",
              "      <td>-0.001934</td>\n",
              "      <td>-0.001934</td>\n",
              "    </tr>\n",
              "    <tr>\n",
              "      <th>386513</th>\n",
              "      <td>2022-08-23 00:00:00+09:00</td>\n",
              "      <td>381970</td>\n",
              "      <td>-0.001934</td>\n",
              "      <td>-0.001934</td>\n",
              "    </tr>\n",
              "    <tr>\n",
              "      <th>386514</th>\n",
              "      <td>2022-08-24 00:00:00+09:00</td>\n",
              "      <td>381970</td>\n",
              "      <td>-0.001934</td>\n",
              "      <td>-0.001934</td>\n",
              "    </tr>\n",
              "    <tr>\n",
              "      <th>386515</th>\n",
              "      <td>2022-08-25 00:00:00+09:00</td>\n",
              "      <td>381970</td>\n",
              "      <td>-0.001934</td>\n",
              "      <td>-0.001934</td>\n",
              "    </tr>\n",
              "    <tr>\n",
              "      <th>386516</th>\n",
              "      <td>2022-08-26 00:00:00+09:00</td>\n",
              "      <td>381970</td>\n",
              "      <td>-0.001934</td>\n",
              "      <td>-0.001934</td>\n",
              "    </tr>\n",
              "    <tr>\n",
              "      <th>386517</th>\n",
              "      <td>2022-08-29 00:00:00+09:00</td>\n",
              "      <td>381970</td>\n",
              "      <td>-0.001934</td>\n",
              "      <td>-0.001934</td>\n",
              "    </tr>\n",
              "    <tr>\n",
              "      <th>386518</th>\n",
              "      <td>2022-08-30 00:00:00+09:00</td>\n",
              "      <td>381970</td>\n",
              "      <td>-0.001934</td>\n",
              "      <td>-0.001934</td>\n",
              "    </tr>\n",
              "    <tr>\n",
              "      <th>386519</th>\n",
              "      <td>2022-08-31 00:00:00+09:00</td>\n",
              "      <td>381970</td>\n",
              "      <td>-0.001934</td>\n",
              "      <td>-0.001934</td>\n",
              "    </tr>\n",
              "    <tr>\n",
              "      <th>386520</th>\n",
              "      <td>2022-09-01 00:00:00+09:00</td>\n",
              "      <td>381970</td>\n",
              "      <td>-0.001934</td>\n",
              "      <td>-0.001934</td>\n",
              "    </tr>\n",
              "    <tr>\n",
              "      <th>386521</th>\n",
              "      <td>2022-09-02 00:00:00+09:00</td>\n",
              "      <td>381970</td>\n",
              "      <td>-0.001934</td>\n",
              "      <td>-0.001934</td>\n",
              "    </tr>\n",
              "    <tr>\n",
              "      <th>386522</th>\n",
              "      <td>2022-09-06 00:00:00+09:00</td>\n",
              "      <td>381970</td>\n",
              "      <td>-0.001934</td>\n",
              "      <td>-0.001934</td>\n",
              "    </tr>\n",
              "    <tr>\n",
              "      <th>386523</th>\n",
              "      <td>2022-09-07 00:00:00+09:00</td>\n",
              "      <td>381970</td>\n",
              "      <td>-0.001934</td>\n",
              "      <td>-0.001934</td>\n",
              "    </tr>\n",
              "    <tr>\n",
              "      <th>386524</th>\n",
              "      <td>2022-09-08 00:00:00+09:00</td>\n",
              "      <td>381970</td>\n",
              "      <td>-0.001934</td>\n",
              "      <td>-0.001934</td>\n",
              "    </tr>\n",
              "    <tr>\n",
              "      <th>386525</th>\n",
              "      <td>2022-09-13 00:00:00+09:00</td>\n",
              "      <td>381970</td>\n",
              "      <td>-0.001934</td>\n",
              "      <td>-0.001934</td>\n",
              "    </tr>\n",
              "    <tr>\n",
              "      <th>386526</th>\n",
              "      <td>2022-09-14 00:00:00+09:00</td>\n",
              "      <td>381970</td>\n",
              "      <td>-0.001934</td>\n",
              "      <td>-0.001934</td>\n",
              "    </tr>\n",
              "    <tr>\n",
              "      <th>386527</th>\n",
              "      <td>2022-09-15 00:00:00+09:00</td>\n",
              "      <td>381970</td>\n",
              "      <td>-0.001934</td>\n",
              "      <td>-0.001934</td>\n",
              "    </tr>\n",
              "    <tr>\n",
              "      <th>386528</th>\n",
              "      <td>2022-09-16 00:00:00+09:00</td>\n",
              "      <td>381970</td>\n",
              "      <td>-0.001934</td>\n",
              "      <td>-0.001934</td>\n",
              "    </tr>\n",
              "    <tr>\n",
              "      <th>386529</th>\n",
              "      <td>2022-09-19 00:00:00+09:00</td>\n",
              "      <td>381970</td>\n",
              "      <td>-0.001934</td>\n",
              "      <td>-0.001934</td>\n",
              "    </tr>\n",
              "    <tr>\n",
              "      <th>386530</th>\n",
              "      <td>2022-09-20 00:00:00+09:00</td>\n",
              "      <td>381970</td>\n",
              "      <td>-0.001934</td>\n",
              "      <td>-0.001934</td>\n",
              "    </tr>\n",
              "    <tr>\n",
              "      <th>386531</th>\n",
              "      <td>2022-09-21 00:00:00+09:00</td>\n",
              "      <td>381970</td>\n",
              "      <td>-0.001934</td>\n",
              "      <td>-0.001934</td>\n",
              "    </tr>\n",
              "    <tr>\n",
              "      <th>386532</th>\n",
              "      <td>2022-09-22 00:00:00+09:00</td>\n",
              "      <td>381970</td>\n",
              "      <td>-0.001934</td>\n",
              "      <td>-0.001934</td>\n",
              "    </tr>\n",
              "    <tr>\n",
              "      <th>386533</th>\n",
              "      <td>2022-09-23 00:00:00+09:00</td>\n",
              "      <td>381970</td>\n",
              "      <td>-0.001934</td>\n",
              "      <td>-0.001934</td>\n",
              "    </tr>\n",
              "    <tr>\n",
              "      <th>386534</th>\n",
              "      <td>2022-09-26 00:00:00+09:00</td>\n",
              "      <td>381970</td>\n",
              "      <td>-0.001934</td>\n",
              "      <td>-0.001934</td>\n",
              "    </tr>\n",
              "    <tr>\n",
              "      <th>386535</th>\n",
              "      <td>2022-09-27 00:00:00+09:00</td>\n",
              "      <td>381970</td>\n",
              "      <td>-0.001934</td>\n",
              "      <td>-0.001934</td>\n",
              "    </tr>\n",
              "    <tr>\n",
              "      <th>386536</th>\n",
              "      <td>2022-09-28 00:00:00+09:00</td>\n",
              "      <td>381970</td>\n",
              "      <td>-0.001934</td>\n",
              "      <td>-0.001934</td>\n",
              "    </tr>\n",
              "    <tr>\n",
              "      <th>386537</th>\n",
              "      <td>2022-09-01 00:00:00+09:00</td>\n",
              "      <td>377300</td>\n",
              "      <td>-0.001934</td>\n",
              "      <td>-0.001934</td>\n",
              "    </tr>\n",
              "    <tr>\n",
              "      <th>386538</th>\n",
              "      <td>2022-09-02 00:00:00+09:00</td>\n",
              "      <td>377300</td>\n",
              "      <td>-0.001934</td>\n",
              "      <td>-0.001934</td>\n",
              "    </tr>\n",
              "    <tr>\n",
              "      <th>386539</th>\n",
              "      <td>2022-09-06 00:00:00+09:00</td>\n",
              "      <td>377300</td>\n",
              "      <td>-0.001934</td>\n",
              "      <td>-0.001934</td>\n",
              "    </tr>\n",
              "    <tr>\n",
              "      <th>386540</th>\n",
              "      <td>2022-09-07 00:00:00+09:00</td>\n",
              "      <td>377300</td>\n",
              "      <td>-0.001934</td>\n",
              "      <td>-0.001934</td>\n",
              "    </tr>\n",
              "    <tr>\n",
              "      <th>386541</th>\n",
              "      <td>2022-09-08 00:00:00+09:00</td>\n",
              "      <td>377300</td>\n",
              "      <td>-0.001934</td>\n",
              "      <td>-0.001934</td>\n",
              "    </tr>\n",
              "    <tr>\n",
              "      <th>386542</th>\n",
              "      <td>2022-09-13 00:00:00+09:00</td>\n",
              "      <td>377300</td>\n",
              "      <td>-0.001934</td>\n",
              "      <td>-0.001934</td>\n",
              "    </tr>\n",
              "    <tr>\n",
              "      <th>386543</th>\n",
              "      <td>2022-09-14 00:00:00+09:00</td>\n",
              "      <td>377300</td>\n",
              "      <td>-0.001934</td>\n",
              "      <td>-0.001934</td>\n",
              "    </tr>\n",
              "    <tr>\n",
              "      <th>386544</th>\n",
              "      <td>2022-09-15 00:00:00+09:00</td>\n",
              "      <td>377300</td>\n",
              "      <td>-0.001934</td>\n",
              "      <td>-0.001934</td>\n",
              "    </tr>\n",
              "    <tr>\n",
              "      <th>386545</th>\n",
              "      <td>2022-09-16 00:00:00+09:00</td>\n",
              "      <td>377300</td>\n",
              "      <td>-0.001934</td>\n",
              "      <td>-0.001934</td>\n",
              "    </tr>\n",
              "    <tr>\n",
              "      <th>386546</th>\n",
              "      <td>2022-09-19 00:00:00+09:00</td>\n",
              "      <td>377300</td>\n",
              "      <td>-0.001934</td>\n",
              "      <td>-0.001934</td>\n",
              "    </tr>\n",
              "    <tr>\n",
              "      <th>386547</th>\n",
              "      <td>2022-09-20 00:00:00+09:00</td>\n",
              "      <td>377300</td>\n",
              "      <td>-0.001934</td>\n",
              "      <td>-0.001934</td>\n",
              "    </tr>\n",
              "    <tr>\n",
              "      <th>386548</th>\n",
              "      <td>2022-09-21 00:00:00+09:00</td>\n",
              "      <td>377300</td>\n",
              "      <td>-0.001934</td>\n",
              "      <td>-0.001934</td>\n",
              "    </tr>\n",
              "    <tr>\n",
              "      <th>386549</th>\n",
              "      <td>2022-09-22 00:00:00+09:00</td>\n",
              "      <td>377300</td>\n",
              "      <td>-0.001934</td>\n",
              "      <td>-0.001934</td>\n",
              "    </tr>\n",
              "    <tr>\n",
              "      <th>386550</th>\n",
              "      <td>2022-09-23 00:00:00+09:00</td>\n",
              "      <td>377300</td>\n",
              "      <td>-0.001934</td>\n",
              "      <td>-0.001934</td>\n",
              "    </tr>\n",
              "    <tr>\n",
              "      <th>386551</th>\n",
              "      <td>2022-09-26 00:00:00+09:00</td>\n",
              "      <td>377300</td>\n",
              "      <td>-0.001934</td>\n",
              "      <td>-0.001934</td>\n",
              "    </tr>\n",
              "    <tr>\n",
              "      <th>386552</th>\n",
              "      <td>2022-09-27 00:00:00+09:00</td>\n",
              "      <td>377300</td>\n",
              "      <td>-0.001934</td>\n",
              "      <td>-0.001934</td>\n",
              "    </tr>\n",
              "    <tr>\n",
              "      <th>386553</th>\n",
              "      <td>2022-09-28 00:00:00+09:00</td>\n",
              "      <td>377300</td>\n",
              "      <td>-0.001934</td>\n",
              "      <td>-0.001934</td>\n",
              "    </tr>\n",
              "  </tbody>\n",
              "</table>\n",
              "</div>\n",
              "      <button class=\"colab-df-convert\" onclick=\"convertToInteractive('df-29d2cd9a-2d50-49d6-b34a-dc63eb475252')\"\n",
              "              title=\"Convert this dataframe to an interactive table.\"\n",
              "              style=\"display:none;\">\n",
              "        \n",
              "  <svg xmlns=\"http://www.w3.org/2000/svg\" height=\"24px\"viewBox=\"0 0 24 24\"\n",
              "       width=\"24px\">\n",
              "    <path d=\"M0 0h24v24H0V0z\" fill=\"none\"/>\n",
              "    <path d=\"M18.56 5.44l.94 2.06.94-2.06 2.06-.94-2.06-.94-.94-2.06-.94 2.06-2.06.94zm-11 1L8.5 8.5l.94-2.06 2.06-.94-2.06-.94L8.5 2.5l-.94 2.06-2.06.94zm10 10l.94 2.06.94-2.06 2.06-.94-2.06-.94-.94-2.06-.94 2.06-2.06.94z\"/><path d=\"M17.41 7.96l-1.37-1.37c-.4-.4-.92-.59-1.43-.59-.52 0-1.04.2-1.43.59L10.3 9.45l-7.72 7.72c-.78.78-.78 2.05 0 2.83L4 21.41c.39.39.9.59 1.41.59.51 0 1.02-.2 1.41-.59l7.78-7.78 2.81-2.81c.8-.78.8-2.07 0-2.86zM5.41 20L4 18.59l7.72-7.72 1.47 1.35L5.41 20z\"/>\n",
              "  </svg>\n",
              "      </button>\n",
              "      \n",
              "  <style>\n",
              "    .colab-df-container {\n",
              "      display:flex;\n",
              "      flex-wrap:wrap;\n",
              "      gap: 12px;\n",
              "    }\n",
              "\n",
              "    .colab-df-convert {\n",
              "      background-color: #E8F0FE;\n",
              "      border: none;\n",
              "      border-radius: 50%;\n",
              "      cursor: pointer;\n",
              "      display: none;\n",
              "      fill: #1967D2;\n",
              "      height: 32px;\n",
              "      padding: 0 0 0 0;\n",
              "      width: 32px;\n",
              "    }\n",
              "\n",
              "    .colab-df-convert:hover {\n",
              "      background-color: #E2EBFA;\n",
              "      box-shadow: 0px 1px 2px rgba(60, 64, 67, 0.3), 0px 1px 3px 1px rgba(60, 64, 67, 0.15);\n",
              "      fill: #174EA6;\n",
              "    }\n",
              "\n",
              "    [theme=dark] .colab-df-convert {\n",
              "      background-color: #3B4455;\n",
              "      fill: #D2E3FC;\n",
              "    }\n",
              "\n",
              "    [theme=dark] .colab-df-convert:hover {\n",
              "      background-color: #434B5C;\n",
              "      box-shadow: 0px 1px 3px 1px rgba(0, 0, 0, 0.15);\n",
              "      filter: drop-shadow(0px 1px 2px rgba(0, 0, 0, 0.3));\n",
              "      fill: #FFFFFF;\n",
              "    }\n",
              "  </style>\n",
              "\n",
              "      <script>\n",
              "        const buttonEl =\n",
              "          document.querySelector('#df-29d2cd9a-2d50-49d6-b34a-dc63eb475252 button.colab-df-convert');\n",
              "        buttonEl.style.display =\n",
              "          google.colab.kernel.accessAllowed ? 'block' : 'none';\n",
              "\n",
              "        async function convertToInteractive(key) {\n",
              "          const element = document.querySelector('#df-29d2cd9a-2d50-49d6-b34a-dc63eb475252');\n",
              "          const dataTable =\n",
              "            await google.colab.kernel.invokeFunction('convertToInteractive',\n",
              "                                                     [key], {});\n",
              "          if (!dataTable) return;\n",
              "\n",
              "          const docLinkHtml = 'Like what you see? Visit the ' +\n",
              "            '<a target=\"_blank\" href=https://colab.research.google.com/notebooks/data_table.ipynb>data table notebook</a>'\n",
              "            + ' to learn more about interactive tables.';\n",
              "          element.innerHTML = '';\n",
              "          dataTable['output_type'] = 'display_data';\n",
              "          await google.colab.output.renderOutput(dataTable, element);\n",
              "          const docLink = document.createElement('div');\n",
              "          docLink.innerHTML = docLinkHtml;\n",
              "          element.appendChild(docLink);\n",
              "        }\n",
              "      </script>\n",
              "    </div>\n",
              "  </div>\n",
              "  "
            ]
          },
          "metadata": {},
          "execution_count": 46
        }
      ]
    },
    {
      "cell_type": "code",
      "source": [
        "dapji"
      ],
      "metadata": {
        "colab": {
          "base_uri": "https://localhost:8080/",
          "height": 49
        },
        "id": "1jCIy05E4qnd",
        "outputId": "75af00cc-0571-47b3-dd8d-9ef63c4362e5"
      },
      "execution_count": 43,
      "outputs": [
        {
          "output_type": "execute_result",
          "data": {
            "text/plain": [
              "Empty DataFrame\n",
              "Columns: [Date, Symbol, pred]\n",
              "Index: []"
            ],
            "text/html": [
              "\n",
              "  <div id=\"df-f5f77667-c901-4729-ac1e-9f03ce796501\">\n",
              "    <div class=\"colab-df-container\">\n",
              "      <div>\n",
              "<style scoped>\n",
              "    .dataframe tbody tr th:only-of-type {\n",
              "        vertical-align: middle;\n",
              "    }\n",
              "\n",
              "    .dataframe tbody tr th {\n",
              "        vertical-align: top;\n",
              "    }\n",
              "\n",
              "    .dataframe thead th {\n",
              "        text-align: right;\n",
              "    }\n",
              "</style>\n",
              "<table border=\"1\" class=\"dataframe\">\n",
              "  <thead>\n",
              "    <tr style=\"text-align: right;\">\n",
              "      <th></th>\n",
              "      <th>Date</th>\n",
              "      <th>Symbol</th>\n",
              "      <th>pred</th>\n",
              "    </tr>\n",
              "  </thead>\n",
              "  <tbody>\n",
              "  </tbody>\n",
              "</table>\n",
              "</div>\n",
              "      <button class=\"colab-df-convert\" onclick=\"convertToInteractive('df-f5f77667-c901-4729-ac1e-9f03ce796501')\"\n",
              "              title=\"Convert this dataframe to an interactive table.\"\n",
              "              style=\"display:none;\">\n",
              "        \n",
              "  <svg xmlns=\"http://www.w3.org/2000/svg\" height=\"24px\"viewBox=\"0 0 24 24\"\n",
              "       width=\"24px\">\n",
              "    <path d=\"M0 0h24v24H0V0z\" fill=\"none\"/>\n",
              "    <path d=\"M18.56 5.44l.94 2.06.94-2.06 2.06-.94-2.06-.94-.94-2.06-.94 2.06-2.06.94zm-11 1L8.5 8.5l.94-2.06 2.06-.94-2.06-.94L8.5 2.5l-.94 2.06-2.06.94zm10 10l.94 2.06.94-2.06 2.06-.94-2.06-.94-.94-2.06-.94 2.06-2.06.94z\"/><path d=\"M17.41 7.96l-1.37-1.37c-.4-.4-.92-.59-1.43-.59-.52 0-1.04.2-1.43.59L10.3 9.45l-7.72 7.72c-.78.78-.78 2.05 0 2.83L4 21.41c.39.39.9.59 1.41.59.51 0 1.02-.2 1.41-.59l7.78-7.78 2.81-2.81c.8-.78.8-2.07 0-2.86zM5.41 20L4 18.59l7.72-7.72 1.47 1.35L5.41 20z\"/>\n",
              "  </svg>\n",
              "      </button>\n",
              "      \n",
              "  <style>\n",
              "    .colab-df-container {\n",
              "      display:flex;\n",
              "      flex-wrap:wrap;\n",
              "      gap: 12px;\n",
              "    }\n",
              "\n",
              "    .colab-df-convert {\n",
              "      background-color: #E8F0FE;\n",
              "      border: none;\n",
              "      border-radius: 50%;\n",
              "      cursor: pointer;\n",
              "      display: none;\n",
              "      fill: #1967D2;\n",
              "      height: 32px;\n",
              "      padding: 0 0 0 0;\n",
              "      width: 32px;\n",
              "    }\n",
              "\n",
              "    .colab-df-convert:hover {\n",
              "      background-color: #E2EBFA;\n",
              "      box-shadow: 0px 1px 2px rgba(60, 64, 67, 0.3), 0px 1px 3px 1px rgba(60, 64, 67, 0.15);\n",
              "      fill: #174EA6;\n",
              "    }\n",
              "\n",
              "    [theme=dark] .colab-df-convert {\n",
              "      background-color: #3B4455;\n",
              "      fill: #D2E3FC;\n",
              "    }\n",
              "\n",
              "    [theme=dark] .colab-df-convert:hover {\n",
              "      background-color: #434B5C;\n",
              "      box-shadow: 0px 1px 3px 1px rgba(0, 0, 0, 0.15);\n",
              "      filter: drop-shadow(0px 1px 2px rgba(0, 0, 0, 0.3));\n",
              "      fill: #FFFFFF;\n",
              "    }\n",
              "  </style>\n",
              "\n",
              "      <script>\n",
              "        const buttonEl =\n",
              "          document.querySelector('#df-f5f77667-c901-4729-ac1e-9f03ce796501 button.colab-df-convert');\n",
              "        buttonEl.style.display =\n",
              "          google.colab.kernel.accessAllowed ? 'block' : 'none';\n",
              "\n",
              "        async function convertToInteractive(key) {\n",
              "          const element = document.querySelector('#df-f5f77667-c901-4729-ac1e-9f03ce796501');\n",
              "          const dataTable =\n",
              "            await google.colab.kernel.invokeFunction('convertToInteractive',\n",
              "                                                     [key], {});\n",
              "          if (!dataTable) return;\n",
              "\n",
              "          const docLinkHtml = 'Like what you see? Visit the ' +\n",
              "            '<a target=\"_blank\" href=https://colab.research.google.com/notebooks/data_table.ipynb>data table notebook</a>'\n",
              "            + ' to learn more about interactive tables.';\n",
              "          element.innerHTML = '';\n",
              "          dataTable['output_type'] = 'display_data';\n",
              "          await google.colab.output.renderOutput(dataTable, element);\n",
              "          const docLink = document.createElement('div');\n",
              "          docLink.innerHTML = docLinkHtml;\n",
              "          element.appendChild(docLink);\n",
              "        }\n",
              "      </script>\n",
              "    </div>\n",
              "  </div>\n",
              "  "
            ]
          },
          "metadata": {},
          "execution_count": 43
        }
      ]
    },
    {
      "cell_type": "code",
      "source": [
        "자본금=1000000\n",
        "money=[]\n",
        "aa=dapji['actual'].tolist()\n",
        "for i in aa:\n",
        "    자본금=(자본금*0.99985*((100+i)/100))*0.99985\n",
        "    money.append(자본금)\n",
        "\n",
        "dapji['money'] = money\n",
        "print(f'{자본금:.0f}₩')"
      ],
      "metadata": {
        "id": "EAAHx2SPabLM",
        "colab": {
          "base_uri": "https://localhost:8080/",
          "height": 635
        },
        "outputId": "ea68957b-6dc4-4c21-8aa9-264be2034b11"
      },
      "execution_count": 37,
      "outputs": [
        {
          "output_type": "error",
          "ename": "KeyError",
          "evalue": "ignored",
          "traceback": [
            "\u001b[0;31m---------------------------------------------------------------------------\u001b[0m",
            "\u001b[0;31mKeyError\u001b[0m                                  Traceback (most recent call last)",
            "\u001b[0;32m/usr/local/lib/python3.7/dist-packages/pandas/core/indexes/base.py\u001b[0m in \u001b[0;36mget_loc\u001b[0;34m(self, key, method, tolerance)\u001b[0m\n\u001b[1;32m   3360\u001b[0m             \u001b[0;32mtry\u001b[0m\u001b[0;34m:\u001b[0m\u001b[0;34m\u001b[0m\u001b[0;34m\u001b[0m\u001b[0m\n\u001b[0;32m-> 3361\u001b[0;31m                 \u001b[0;32mreturn\u001b[0m \u001b[0mself\u001b[0m\u001b[0;34m.\u001b[0m\u001b[0m_engine\u001b[0m\u001b[0;34m.\u001b[0m\u001b[0mget_loc\u001b[0m\u001b[0;34m(\u001b[0m\u001b[0mcasted_key\u001b[0m\u001b[0;34m)\u001b[0m\u001b[0;34m\u001b[0m\u001b[0;34m\u001b[0m\u001b[0m\n\u001b[0m\u001b[1;32m   3362\u001b[0m             \u001b[0;32mexcept\u001b[0m \u001b[0mKeyError\u001b[0m \u001b[0;32mas\u001b[0m \u001b[0merr\u001b[0m\u001b[0;34m:\u001b[0m\u001b[0;34m\u001b[0m\u001b[0;34m\u001b[0m\u001b[0m\n",
            "\u001b[0;32m/usr/local/lib/python3.7/dist-packages/pandas/_libs/index.pyx\u001b[0m in \u001b[0;36mpandas._libs.index.IndexEngine.get_loc\u001b[0;34m()\u001b[0m\n",
            "\u001b[0;32m/usr/local/lib/python3.7/dist-packages/pandas/_libs/index.pyx\u001b[0m in \u001b[0;36mpandas._libs.index.IndexEngine.get_loc\u001b[0;34m()\u001b[0m\n",
            "\u001b[0;32mpandas/_libs/hashtable_class_helper.pxi\u001b[0m in \u001b[0;36mpandas._libs.hashtable.PyObjectHashTable.get_item\u001b[0;34m()\u001b[0m\n",
            "\u001b[0;32mpandas/_libs/hashtable_class_helper.pxi\u001b[0m in \u001b[0;36mpandas._libs.hashtable.PyObjectHashTable.get_item\u001b[0;34m()\u001b[0m\n",
            "\u001b[0;31mKeyError\u001b[0m: 'actual'",
            "\nThe above exception was the direct cause of the following exception:\n",
            "\u001b[0;31mKeyError\u001b[0m                                  Traceback (most recent call last)",
            "\u001b[0;32m<ipython-input-37-a1ae740646d9>\u001b[0m in \u001b[0;36m<module>\u001b[0;34m\u001b[0m\n\u001b[1;32m      1\u001b[0m \u001b[0m자본금\u001b[0m\u001b[0;34m=\u001b[0m\u001b[0;36m1000000\u001b[0m\u001b[0;34m\u001b[0m\u001b[0;34m\u001b[0m\u001b[0m\n\u001b[1;32m      2\u001b[0m \u001b[0mmoney\u001b[0m\u001b[0;34m=\u001b[0m\u001b[0;34m[\u001b[0m\u001b[0;34m]\u001b[0m\u001b[0;34m\u001b[0m\u001b[0;34m\u001b[0m\u001b[0m\n\u001b[0;32m----> 3\u001b[0;31m \u001b[0maa\u001b[0m\u001b[0;34m=\u001b[0m\u001b[0mdapji\u001b[0m\u001b[0;34m[\u001b[0m\u001b[0;34m'actual'\u001b[0m\u001b[0;34m]\u001b[0m\u001b[0;34m.\u001b[0m\u001b[0mtolist\u001b[0m\u001b[0;34m(\u001b[0m\u001b[0;34m)\u001b[0m\u001b[0;34m\u001b[0m\u001b[0;34m\u001b[0m\u001b[0m\n\u001b[0m\u001b[1;32m      4\u001b[0m \u001b[0;32mfor\u001b[0m \u001b[0mi\u001b[0m \u001b[0;32min\u001b[0m \u001b[0maa\u001b[0m\u001b[0;34m:\u001b[0m\u001b[0;34m\u001b[0m\u001b[0;34m\u001b[0m\u001b[0m\n\u001b[1;32m      5\u001b[0m     \u001b[0m자본금\u001b[0m\u001b[0;34m=\u001b[0m\u001b[0;34m(\u001b[0m\u001b[0m자본금\u001b[0m\u001b[0;34m*\u001b[0m\u001b[0;36m0.99985\u001b[0m\u001b[0;34m*\u001b[0m\u001b[0;34m(\u001b[0m\u001b[0;34m(\u001b[0m\u001b[0;36m100\u001b[0m\u001b[0;34m+\u001b[0m\u001b[0mi\u001b[0m\u001b[0;34m)\u001b[0m\u001b[0;34m/\u001b[0m\u001b[0;36m100\u001b[0m\u001b[0;34m)\u001b[0m\u001b[0;34m)\u001b[0m\u001b[0;34m*\u001b[0m\u001b[0;36m0.99985\u001b[0m\u001b[0;34m\u001b[0m\u001b[0;34m\u001b[0m\u001b[0m\n",
            "\u001b[0;32m/usr/local/lib/python3.7/dist-packages/pandas/core/frame.py\u001b[0m in \u001b[0;36m__getitem__\u001b[0;34m(self, key)\u001b[0m\n\u001b[1;32m   3456\u001b[0m             \u001b[0;32mif\u001b[0m \u001b[0mself\u001b[0m\u001b[0;34m.\u001b[0m\u001b[0mcolumns\u001b[0m\u001b[0;34m.\u001b[0m\u001b[0mnlevels\u001b[0m \u001b[0;34m>\u001b[0m \u001b[0;36m1\u001b[0m\u001b[0;34m:\u001b[0m\u001b[0;34m\u001b[0m\u001b[0;34m\u001b[0m\u001b[0m\n\u001b[1;32m   3457\u001b[0m                 \u001b[0;32mreturn\u001b[0m \u001b[0mself\u001b[0m\u001b[0;34m.\u001b[0m\u001b[0m_getitem_multilevel\u001b[0m\u001b[0;34m(\u001b[0m\u001b[0mkey\u001b[0m\u001b[0;34m)\u001b[0m\u001b[0;34m\u001b[0m\u001b[0;34m\u001b[0m\u001b[0m\n\u001b[0;32m-> 3458\u001b[0;31m             \u001b[0mindexer\u001b[0m \u001b[0;34m=\u001b[0m \u001b[0mself\u001b[0m\u001b[0;34m.\u001b[0m\u001b[0mcolumns\u001b[0m\u001b[0;34m.\u001b[0m\u001b[0mget_loc\u001b[0m\u001b[0;34m(\u001b[0m\u001b[0mkey\u001b[0m\u001b[0;34m)\u001b[0m\u001b[0;34m\u001b[0m\u001b[0;34m\u001b[0m\u001b[0m\n\u001b[0m\u001b[1;32m   3459\u001b[0m             \u001b[0;32mif\u001b[0m \u001b[0mis_integer\u001b[0m\u001b[0;34m(\u001b[0m\u001b[0mindexer\u001b[0m\u001b[0;34m)\u001b[0m\u001b[0;34m:\u001b[0m\u001b[0;34m\u001b[0m\u001b[0;34m\u001b[0m\u001b[0m\n\u001b[1;32m   3460\u001b[0m                 \u001b[0mindexer\u001b[0m \u001b[0;34m=\u001b[0m \u001b[0;34m[\u001b[0m\u001b[0mindexer\u001b[0m\u001b[0;34m]\u001b[0m\u001b[0;34m\u001b[0m\u001b[0;34m\u001b[0m\u001b[0m\n",
            "\u001b[0;32m/usr/local/lib/python3.7/dist-packages/pandas/core/indexes/base.py\u001b[0m in \u001b[0;36mget_loc\u001b[0;34m(self, key, method, tolerance)\u001b[0m\n\u001b[1;32m   3361\u001b[0m                 \u001b[0;32mreturn\u001b[0m \u001b[0mself\u001b[0m\u001b[0;34m.\u001b[0m\u001b[0m_engine\u001b[0m\u001b[0;34m.\u001b[0m\u001b[0mget_loc\u001b[0m\u001b[0;34m(\u001b[0m\u001b[0mcasted_key\u001b[0m\u001b[0;34m)\u001b[0m\u001b[0;34m\u001b[0m\u001b[0;34m\u001b[0m\u001b[0m\n\u001b[1;32m   3362\u001b[0m             \u001b[0;32mexcept\u001b[0m \u001b[0mKeyError\u001b[0m \u001b[0;32mas\u001b[0m \u001b[0merr\u001b[0m\u001b[0;34m:\u001b[0m\u001b[0;34m\u001b[0m\u001b[0;34m\u001b[0m\u001b[0m\n\u001b[0;32m-> 3363\u001b[0;31m                 \u001b[0;32mraise\u001b[0m \u001b[0mKeyError\u001b[0m\u001b[0;34m(\u001b[0m\u001b[0mkey\u001b[0m\u001b[0;34m)\u001b[0m \u001b[0;32mfrom\u001b[0m \u001b[0merr\u001b[0m\u001b[0;34m\u001b[0m\u001b[0;34m\u001b[0m\u001b[0m\n\u001b[0m\u001b[1;32m   3364\u001b[0m \u001b[0;34m\u001b[0m\u001b[0m\n\u001b[1;32m   3365\u001b[0m         \u001b[0;32mif\u001b[0m \u001b[0mis_scalar\u001b[0m\u001b[0;34m(\u001b[0m\u001b[0mkey\u001b[0m\u001b[0;34m)\u001b[0m \u001b[0;32mand\u001b[0m \u001b[0misna\u001b[0m\u001b[0;34m(\u001b[0m\u001b[0mkey\u001b[0m\u001b[0;34m)\u001b[0m \u001b[0;32mand\u001b[0m \u001b[0;32mnot\u001b[0m \u001b[0mself\u001b[0m\u001b[0;34m.\u001b[0m\u001b[0mhasnans\u001b[0m\u001b[0;34m:\u001b[0m\u001b[0;34m\u001b[0m\u001b[0;34m\u001b[0m\u001b[0m\n",
            "\u001b[0;31mKeyError\u001b[0m: 'actual'"
          ]
        }
      ]
    },
    {
      "cell_type": "code",
      "source": [
        "dapji2['Date']=pd.to_datetime(dapji2['Date'])"
      ],
      "metadata": {
        "id": "c8kTuMECa-u9"
      },
      "execution_count": null,
      "outputs": []
    },
    {
      "cell_type": "code",
      "source": [
        "import seaborn as sns\n",
        "import matplotlib.pyplot as plt\n",
        "fig = plt.figure(figsize=(10, 6))\n",
        "fig.set_facecolor('white')\n",
        "sns.lineplot(data=dapji, x='Date', y='money')\n",
        "plt.show()"
      ],
      "metadata": {
        "id": "-t4spzZKbMvj"
      },
      "execution_count": null,
      "outputs": []
    }
  ]
}